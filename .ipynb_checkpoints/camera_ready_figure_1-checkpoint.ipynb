{
 "cells": [
  {
   "cell_type": "code",
   "execution_count": 1,
   "metadata": {
    "scrolled": true
   },
   "outputs": [],
   "source": [
    "import numpy as np\n",
    "import matplotlib\n",
    "import matplotlib.pyplot as plt\n",
    "from tqdm import tqdm\n",
    "import pandas as pd\n",
    "\n",
    "import scipy\n",
    "from scipy.optimize import Bounds\n",
    "from scipy.optimize import LinearConstraint\n",
    "from scipy.optimize import NonlinearConstraint\n",
    "from scipy.optimize import SR1, BFGS\n",
    "from scipy.optimize import minimize\n",
    "\n",
    "import confound_mdp\n",
    "import confound_ope\n",
    "import confound_env\n",
    "\n",
    "from core.sepsisSimDiabetes.State import State\n",
    "from core.sepsisSimDiabetes.Action import Action\n",
    "from core import generator_confounded_mdp as DGEN\n",
    "from core import conf_wis as CWIS\n",
    "from core import loss_minimization as LB\n",
    "from utils.utils import *"
   ]
  },
  {
   "cell_type": "markdown",
   "metadata": {},
   "source": [
    "# Lower Bound Experiments"
   ]
  },
  {
   "cell_type": "code",
   "execution_count": 2,
   "metadata": {},
   "outputs": [],
   "source": [
    "# want an evaluation policy that's better than the behavioral policy\n",
    "# BUT with unobserved confounding the lower bound on the eval policy is worse than the behavioral policy\n",
    "#    this is the scenario where the different sensitivity models matter in practice\n",
    "#    e.g. for policy optimization"
   ]
  },
  {
   "cell_type": "code",
   "execution_count": 3,
   "metadata": {},
   "outputs": [],
   "source": [
    "envs = []\n",
    "# each row:\n",
    "#   [mdp , pi_b, pi_e, horizon, gamma, nStates, nActions, term]\n",
    "\n",
    "pi_b, P, R, x_dist, u_dist, gamma = confound_env.toy227(0.25, 0.35)\n",
    "toy = confound_mdp.ConfoundMDP(P, R, x_dist, u_dist, gamma)\n",
    "horizon = 5\n",
    "nStates = P.shape[2]\n",
    "nActions = P.shape[1]\n",
    "pi_e = np.zeros((nStates, nActions))\n",
    "for i in range(nStates):\n",
    "    pi_e[i] = [0.3, 0.7]\n",
    "    \n",
    "envs.append([toy, pi_b, pi_e, horizon, gamma, nStates, nActions, -1])\n",
    "\n",
    "horizon = 4\n",
    "graph_len = 4\n",
    "pi_b, P, R, x_dist, u_dist, gamma = confound_env.graph_opetools(horizon=graph_len, slip=0.25, confound_weight=0.23)\n",
    "R = -1*R\n",
    "graph = confound_mdp.ConfoundMDP(P, R, x_dist, u_dist, gamma)\n",
    "nStates = P.shape[2]\n",
    "nActions = P.shape[1]\n",
    "\n",
    "pi_e = np.zeros((nStates, nActions))\n",
    "for i in range(nStates):\n",
    "    pi_e[i] = [0.3, 0.7]\n",
    "    \n",
    "envs.append([graph, pi_b, pi_e, horizon, gamma, nStates, nActions, -1])\n",
    "\n",
    "horizon = 20\n",
    "pi_b, P, R, x_dist, u_dist, gamma = confound_env.toymc_opetools(n_left=8, n_right=8, horizon=20, slip=0.15, confound_weight=0.6)\n",
    "#R = -1*R\n",
    "toymc = confound_mdp.ConfoundMDP(P, R, x_dist, u_dist, gamma)\n",
    "\n",
    "nStates = P.shape[2]\n",
    "nActions = P.shape[1]\n",
    "\n",
    "pi_e = np.zeros((nStates, nActions))\n",
    "for i in range(nStates):\n",
    "    pi_e[i] = [0.15, 0.85]\n",
    "    \n",
    "envs.append([toymc, pi_b, pi_e, horizon, gamma, nStates, nActions, -1])\n",
    "\n",
    "horizon = 8\n",
    "pi_b, P, R, x_dist, u_dist, gamma = confound_env.gridworld_opetools(horizon = horizon, slip = 0.04, confound_weight=0.6)\n",
    "#R = -1*R\n",
    "gridworld = confound_mdp.ConfoundMDP(P, R, x_dist, u_dist, gamma)\n",
    "\n",
    "nStates = P.shape[2]\n",
    "nActions = P.shape[1]\n",
    "\n",
    "pi_e = np.zeros((nStates, nActions))\n",
    "for i in range(nStates):\n",
    "    pi_e[i] = [0.4, 0.1, 0.4, 0.1]\n",
    "    \n",
    "envs.append([gridworld, pi_b, pi_e, horizon, gamma, nStates, nActions, -1])"
   ]
  },
  {
   "cell_type": "code",
   "execution_count": null,
   "metadata": {},
   "outputs": [
    {
     "name": "stdout",
     "output_type": "stream",
     "text": [
      "---\n",
      "running env with horizon 5\n",
      "value of pi_b\n",
      "0.36866724050666666\n",
      "value of pi_e with no confounding\n",
      "0.5225224703306796\n",
      "now running C-FQE\n",
      "now running robust mdps...\n"
     ]
    },
    {
     "name": "stderr",
     "output_type": "stream",
     "text": [
      "0it [00:00, ?it/s]"
     ]
    },
    {
     "name": "stdout",
     "output_type": "stream",
     "text": [
      "Restricted license - for non-production use only - expires 2023-10-25\n"
     ]
    },
    {
     "name": "stderr",
     "output_type": "stream",
     "text": [
      "8it [00:26,  3.33s/it]\n"
     ]
    },
    {
     "name": "stdout",
     "output_type": "stream",
     "text": [
      "running env with horizon 10\n",
      "value of pi_b\n",
      "0.3563225028650692\n",
      "value of pi_e with no confounding\n",
      "0.5199142080582566\n",
      "now running C-FQE\n",
      "now running robust mdps...\n"
     ]
    },
    {
     "name": "stderr",
     "output_type": "stream",
     "text": [
      "8it [00:54,  6.83s/it]\n"
     ]
    },
    {
     "name": "stdout",
     "output_type": "stream",
     "text": [
      "running env with horizon 15\n",
      "value of pi_b\n",
      "0.35169966238087474\n",
      "value of pi_e with no confounding\n",
      "0.5142342866796573\n",
      "now running C-FQE\n",
      "now running robust mdps...\n"
     ]
    },
    {
     "name": "stderr",
     "output_type": "stream",
     "text": [
      "8it [01:19,  9.97s/it]\n"
     ]
    },
    {
     "name": "stdout",
     "output_type": "stream",
     "text": [
      "---\n",
      "running env with horizon 4\n",
      "value of pi_b\n",
      "-0.18101561573333333\n",
      "value of pi_e with no confounding\n",
      "0.6999383421543434\n",
      "now running C-FQE\n",
      "now running robust mdps...\n"
     ]
    },
    {
     "name": "stderr",
     "output_type": "stream",
     "text": [
      "8it [01:07,  8.47s/it]\n"
     ]
    },
    {
     "name": "stdout",
     "output_type": "stream",
     "text": [
      "running env with horizon 9\n",
      "value of pi_b\n",
      "-0.1547689399939994\n",
      "value of pi_e with no confounding\n",
      "0.7254245277483113\n",
      "now running C-FQE\n",
      "now running robust mdps...\n"
     ]
    },
    {
     "name": "stderr",
     "output_type": "stream",
     "text": [
      "8it [02:21, 17.75s/it]\n"
     ]
    },
    {
     "name": "stdout",
     "output_type": "stream",
     "text": [
      "running env with horizon 14\n",
      "value of pi_b\n",
      "-0.23938459010270777\n",
      "value of pi_e with no confounding\n",
      "0.6447500944691699\n",
      "now running C-FQE\n",
      "now running robust mdps...\n"
     ]
    },
    {
     "name": "stderr",
     "output_type": "stream",
     "text": [
      "8it [04:19, 32.41s/it]\n"
     ]
    },
    {
     "name": "stdout",
     "output_type": "stream",
     "text": [
      "---\n",
      "running env with horizon 20\n",
      "value of pi_b\n",
      "-18.19527205337424\n",
      "value of pi_e with no confounding\n",
      "-16.032331985207385\n",
      "now running C-FQE\n",
      "now running robust mdps...\n"
     ]
    },
    {
     "name": "stderr",
     "output_type": "stream",
     "text": [
      "8it [22:22, 167.79s/it]\n"
     ]
    },
    {
     "name": "stdout",
     "output_type": "stream",
     "text": [
      "running env with horizon 25\n",
      "value of pi_b\n",
      "-22.155580822114153\n",
      "value of pi_e with no confounding\n",
      "-16.38450985911782\n",
      "now running C-FQE\n",
      "now running robust mdps...\n"
     ]
    },
    {
     "name": "stderr",
     "output_type": "stream",
     "text": [
      "8it [28:26, 213.27s/it]\n"
     ]
    },
    {
     "name": "stdout",
     "output_type": "stream",
     "text": [
      "running env with horizon 30\n",
      "value of pi_b\n",
      "-25.972010906937488\n",
      "value of pi_e with no confounding\n",
      "-16.913576098846942\n",
      "now running C-FQE\n",
      "now running robust mdps...\n"
     ]
    },
    {
     "name": "stderr",
     "output_type": "stream",
     "text": [
      "7it [30:53, 271.49s/it]"
     ]
    }
   ],
   "source": [
    "fqe_envs = []\n",
    "mb_envs = []\n",
    "\n",
    "gams = [1.1, 1.5, 2, 3, 4, 6, 8, 10]\n",
    "nGams = len(gams)\n",
    "\n",
    "Pbs = [1.1, 1.5, 2, 3, 4, 6, 8, 10]\n",
    "nPbs = len(Pbs)\n",
    "\n",
    "#hadds = [0, 5, 10]\n",
    "hadds = 0\n",
    "\n",
    "for mdp , pi_b, pi_e, base_horizon, gamma, nStates, nActions, term in envs:\n",
    "    \n",
    "    print(\"---\")\n",
    "    \n",
    "    for h in hadds:\n",
    "        horizon = base_horizon + h\n",
    "        \n",
    "        print(\"running env with horizon \" + str(horizon))\n",
    "\n",
    "        dataset = confound_mdp.collect_sample(int(30000/horizon), mdp, pi_b, horizon)\n",
    "        data = dataset.reshape((dataset.shape[0]*dataset.shape[1],5))\n",
    "        Phat = confound_ope.estimate_P(dataset, mdp)\n",
    "        pihat = confound_ope.estimate_pi(dataset, mdp)\n",
    "        for a in range(nActions):\n",
    "            for s in range(nStates):\n",
    "                if Phat[a,s].sum() == 0:\n",
    "                    Phat[a,s,term] = 1\n",
    "                if pihat[s].sum() == 0:\n",
    "                    pihat[s,:] = 1/nActions\n",
    "        pi_avg = pi_b[0] * u_dist[0] + pi_b[1] * u_dist[1]\n",
    "\n",
    "         # behavior value\n",
    "        print(\"value of pi_b\")\n",
    "        returns = confound_mdp.calc_returns(dataset, gamma, horizon)\n",
    "        print(returns.mean())\n",
    "\n",
    "        # no confounding:\n",
    "        print(\"value of pi_e with no confounding\")\n",
    "        Q0 = np.zeros((nStates, nActions))\n",
    "        nom_q = Q0.copy()\n",
    "        for t in range(horizon):\n",
    "            nom_q = confound_ope.fitted_q_update(nom_q, pi_e, dataset, mdp)\n",
    "        print(mdp.get_value(nom_q,pi_e)[1])\n",
    "\n",
    "        fqe_results = np.zeros((nGams))\n",
    "\n",
    "        print(\"now running C-FQE\")\n",
    "        for i,gam in enumerate(gams):\n",
    "            Q0 = np.zeros((nStates, nActions))\n",
    "            q_reparam_samp = Q0.copy()\n",
    "            for t in range(horizon):\n",
    "                q_reparam_samp = confound_ope.fitted_q_update_reparam_sampling(q_reparam_samp, pi_e, pihat, Phat, gam, data, mdp)\n",
    "            fqe_results[i] = mdp.get_value(q_reparam_samp,pi_e)[1]\n",
    "\n",
    "        print(\"now running robust mdps...\")\n",
    "        mb_results = np.zeros((nGams, nPbs))\n",
    "\n",
    "        for i,gam in tqdm(enumerate(gams)):\n",
    "            for j,P_bound in enumerate(Pbs):\n",
    "                V0 = np.zeros(nStates)\n",
    "                fixed_u_v = V0.copy()\n",
    "                for t in range(horizon):\n",
    "                    fixed_u_v = confound_ope.fixed_u_gp_s_rect(fixed_u_v, pi_e, 0.50, Phat, pihat, P_bound, gam, mdp)\n",
    "                mb_results[i,j] = fixed_u_v @ mdp.x_dist\n",
    "\n",
    "        fqe_envs.append(fqe_results)\n",
    "        mb_envs.append(mb_results)"
   ]
  },
  {
   "cell_type": "code",
   "execution_count": null,
   "metadata": {},
   "outputs": [],
   "source": [
    "#import pickle\n",
    "\n",
    "# pickle.dump( fqe_envs, open( \"fqe_horizon_experiments.p\", \"wb\" ) )\n",
    "# pickle.dump( mb_envs, open( \"mb_horizon_experiments.p\", \"wb\" ) )"
   ]
  },
  {
   "cell_type": "code",
   "execution_count": null,
   "metadata": {},
   "outputs": [],
   "source": [
    "#fqe_envs = pickle.load( open( \"fqe_horizon_experiments.p\", \"rb\" ) )\n",
    "#mb_envs = pickle.load( open( \"mb_horizon_experiments.p\", \"rb\" ) )"
   ]
  },
  {
   "cell_type": "code",
   "execution_count": null,
   "metadata": {},
   "outputs": [],
   "source": [
    "# select only base horizon\n",
    "#fqe_envs = fqe_envs[::3]\n",
    "#mb_envs = mb_envs[::3]\n",
    "fqe_envs = feq_envs[0]\n",
    "mb_envs = mb_envs[0]"
   ]
  },
  {
   "cell_type": "code",
   "execution_count": null,
   "metadata": {},
   "outputs": [],
   "source": [
    "pi_e_vals = [0.499015492905087 , 0.7174129322887378, -15.738140536232656, -0.35692764811666317]\n",
    "pi_b_vals = [0.33965256189333337 , -0.178639828, -18.189038465627075, -0.49942501436258074]"
   ]
  },
  {
   "cell_type": "code",
   "execution_count": null,
   "metadata": {},
   "outputs": [],
   "source": [
    "from matplotlib import colors\n",
    "\n",
    "import matplotlib\n",
    "matplotlib.rcParams.update({'font.size': 18})\n",
    "\n",
    "gams = [1.1, 1.5, 2, 3, 4, 6, 8, 10]\n",
    "nGams = len(gams)\n",
    "\n",
    "Pbs = [1.1, 1.5, 2, 3, 4, 6, 8, 10]\n",
    "nPbs = len(Pbs)\n",
    "\n",
    "Pbs_ext = np.insert(Pbs,0,0)\n",
    "\n",
    "deltacol = np.flip(plt.cm.plasma(Pbs_ext / np.amax(Pbs) ), axis=0)\n",
    "\n",
    "count = 0\n",
    "envTitles = [\"toy\", \"ope-graph\", 'ope-mc', 'ope-gridworld']\n",
    "for fqe_results, mb_results in zip(fqe_envs,mb_envs):\n",
    "    fig = plt.figure()\n",
    "    fig.set_size_inches(7.5, 7)\n",
    "    plt.plot(gams,fqe_results, color='k')\n",
    "    for p in range(nPbs):\n",
    "        plt.plot(gams, mb_results[:,p], color=deltacol[p+1], label=\"{:.1f}\".format(Pbs[p]))\n",
    "    plt.axhline(pi_e_vals[count], color='green', linestyle='--')\n",
    "    plt.axhline(pi_b_vals[count], color='red', linestyle='--')\n",
    "    plt.ylabel(\"Expected Value\")\n",
    "    plt.xlabel(\"$\\Gamma$\")\n",
    "    plt.xlim([1,10])\n",
    "    plt.title(envTitles[count])\n",
    "    plt.grid()\n",
    "    plt.tight_layout()\n",
    "    #fig.savefig(\"cam_ready_lower_bound_plot_%s.pdf\" % count)\n",
    "    count += 1"
   ]
  }
 ],
 "metadata": {
  "kernelspec": {
   "display_name": "Python 3 (ipykernel)",
   "language": "python",
   "name": "python3"
  },
  "language_info": {
   "codemirror_mode": {
    "name": "ipython",
    "version": 3
   },
   "file_extension": ".py",
   "mimetype": "text/x-python",
   "name": "python",
   "nbconvert_exporter": "python",
   "pygments_lexer": "ipython3",
   "version": "3.9.7"
  }
 },
 "nbformat": 4,
 "nbformat_minor": 4
}
