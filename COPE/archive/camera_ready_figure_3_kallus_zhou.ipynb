{
 "cells": [
  {
   "cell_type": "code",
   "execution_count": 1,
   "metadata": {},
   "outputs": [],
   "source": [
    "import numpy as np \n",
    "#from sets import Set\n",
    "from conf_ope_rl import *\n",
    " "
   ]
  },
  {
   "cell_type": "markdown",
   "metadata": {},
   "source": [
    "# Note: we use Kallus & Zhou's Python 2 code so this notebook is Python 2\n",
    "# Not anymore! Not if 2to3-ipynb.py had anything to say about it!"
   ]
  },
  {
   "cell_type": "markdown",
   "metadata": {},
   "source": [
    "# Introduce my environments (ported from python 3...)"
   ]
  },
  {
   "cell_type": "code",
   "execution_count": 2,
   "metadata": {},
   "outputs": [],
   "source": [
    "def translate_P(oldP):\n",
    "    nStates = oldP.shape[2]\n",
    "    nActions = oldP.shape[1]\n",
    "    newP = np.zeros((nStates*2, nActions, nStates*2))\n",
    "    for a in range(nActions):\n",
    "        for x in range(nStates):\n",
    "            newx = x*2\n",
    "            newP[ newx , a , : ] = np.repeat( oldP[0, a, x, :], 2 )/2\n",
    "            newP[ newx+1, a, : ] = np.repeat( oldP[1, a, x, :], 2 )/2\n",
    "    return newP\n",
    "\n",
    "def translate_Pi(oldPi):\n",
    "    nStates = oldPi.shape[1]\n",
    "    nActions = oldPi.shape[2]\n",
    "    newPi = np.zeros((nActions, nStates*2))\n",
    "    for x in range(nStates):\n",
    "        newx = x*2\n",
    "        newPi[:, newx] = oldPi[0, x, :]\n",
    "        newPi[:, newx+1] = oldPi[1, x, :]\n",
    "    return newPi\n",
    "\n",
    "def translate_dist(oldDist):\n",
    "    return np.repeat(oldDist, 2)/2\n",
    "\n",
    "def translate_R(oldR):\n",
    "    newR = np.zeros(oldR.shape)\n",
    "    for t in range(200):\n",
    "        newR += (0.95**t * oldR)\n",
    "    return newR"
   ]
  },
  {
   "cell_type": "markdown",
   "metadata": {},
   "source": [
    "### ope-graph"
   ]
  },
  {
   "cell_type": "code",
   "execution_count": 3,
   "metadata": {},
   "outputs": [],
   "source": [
    "graphP = np.array([[[[0.  , 0.98, 0.02, 0.  , 0.  , 0.  , 0.  , 0.  ],\n",
    "         [0.  , 0.  , 0.  , 0.98, 0.02, 0.  , 0.  , 0.  ],\n",
    "         [0.  , 0.  , 0.  , 0.98, 0.02, 0.  , 0.  , 0.  ],\n",
    "         [0.  , 0.  , 0.  , 0.  , 0.  , 0.98, 0.02, 0.  ],\n",
    "         [0.  , 0.  , 0.  , 0.  , 0.  , 0.98, 0.02, 0.  ],\n",
    "         [0.25  , 0.25  , 0.  , 0.  , 0.  , 0.  , 0.  , 0.5  ],\n",
    "         [0.25  , 0.  , 0.  , 0.  , 0.  , 0.  , 0.  , 0.75  ],\n",
    "         [0.02  , 0.  , 0.  , 0.  , 0.  , 0.  , 0.  , 0.98  ]],\n",
    "\n",
    "        [[0.  , 0.48, 0.52, 0.  , 0.  , 0.  , 0.  , 0.  ],\n",
    "         [0.  , 0.  , 0.  , 0.48, 0.52, 0.  , 0.  , 0.  ],\n",
    "         [0.  , 0.  , 0.  , 0.48, 0.52, 0.  , 0.  , 0.  ],\n",
    "         [0.  , 0.  , 0.  , 0.  , 0.  , 0.48, 0.52, 0.  ],\n",
    "         [0.  , 0.  , 0.  , 0.  , 0.  , 0.48, 0.52, 0.  ],\n",
    "         [0.25  , 0.25  , 0.  , 0.  , 0.  , 0.  , 0.  , 0.5  ],\n",
    "         [0.25  , 0.  , 0.  , 0.  , 0.  , 0.  , 0.  , 0.75  ],\n",
    "         [0.48  , 0.  , 0.  , 0.  , 0.  , 0.  , 0.  , 0.52  ]]],\n",
    "\n",
    "\n",
    "       [[[0.  , 0.52, 0.48, 0.  , 0.  , 0.  , 0.  , 0.  ],\n",
    "         [0.  , 0.  , 0.  , 0.52, 0.48, 0.  , 0.  , 0.  ],\n",
    "         [0.  , 0.  , 0.  , 0.52, 0.48, 0.  , 0.  , 0.  ],\n",
    "         [0.  , 0.  , 0.  , 0.  , 0.  , 0.52, 0.48, 0.  ],\n",
    "         [0.  , 0.  , 0.  , 0.  , 0.  , 0.52, 0.48, 0.  ],\n",
    "         [0.25  , 0.25  , 0.  , 0.  , 0.  , 0.  , 0.  , 0.5  ],\n",
    "         [0.25  , 0.  , 0.  , 0.  , 0.  , 0.  , 0.  , 0.75  ],\n",
    "         [0.48  , 0.  , 0.  , 0.  , 0.  , 0.  , 0.  , 0.52  ]],\n",
    "\n",
    "        [[0.  , 0.02, 0.98, 0.  , 0.  , 0.  , 0.  , 0.  ],\n",
    "         [0.  , 0.  , 0.  , 0.02, 0.98, 0.  , 0.  , 0.  ],\n",
    "         [0.  , 0.  , 0.  , 0.02, 0.98, 0.  , 0.  , 0.  ],\n",
    "         [0.  , 0.  , 0.  , 0.  , 0.  , 0.02, 0.98, 0.  ],\n",
    "         [0.  , 0.  , 0.  , 0.  , 0.  , 0.02, 0.98, 0.  ],\n",
    "         [0.25  , 0.25  , 0.  , 0.  , 0.  , 0.  , 0.  , 0.5  ],\n",
    "         [0.25  , 0.  , 0.  , 0.  , 0.  , 0.  , 0.  , 0.75  ],\n",
    "         [0.02  , 0.  , 0.  , 0.  , 0.  , 0.  , 0.  , 0.98  ]]]])\n",
    "graphR = np.array([1., -1.,  1., -1.,  1., -1.,  1., -0.])\n",
    "\n",
    "nStates = graphP.shape[2]\n",
    "nActions = graphP.shape[1]"
   ]
  },
  {
   "cell_type": "code",
   "execution_count": 4,
   "metadata": {},
   "outputs": [],
   "source": [
    "graphPi = np.array([[[0.86363636, 0.13636364],\n",
    "        [0.86363636, 0.13636364],\n",
    "        [0.86363636, 0.13636364],\n",
    "        [0.86363636, 0.13636364],\n",
    "        [0.86363636, 0.13636364],\n",
    "        [0.7       , 0.3       ],\n",
    "        [0.55882353, 0.44117647],\n",
    "        [0.55882353, 0.44117647]],\n",
    "\n",
    "       [[0.31818182, 0.68181818],\n",
    "        [0.31818182, 0.68181818],\n",
    "        [0.31818182, 0.68181818],\n",
    "        [0.31818182, 0.68181818],\n",
    "        [0.31818182, 0.68181818],\n",
    "        [0.55882353, 0.44117647],\n",
    "        [0.7       , 0.3       ],\n",
    "        [0.7       , 0.3       ]]])"
   ]
  },
  {
   "cell_type": "code",
   "execution_count": 5,
   "metadata": {},
   "outputs": [],
   "source": [
    "newGraphP = translate_P(graphP)\n",
    "\n",
    "newGraphPi = translate_Pi(graphPi)\n",
    "\n",
    "graphStateDist = np.array([1., 0., 0., 0., 0., 0., 0., 0.])\n",
    "\n",
    "newGraphStateDist = translate_dist(graphStateDist)\n",
    "\n",
    "gamma = 0.95\n",
    "\n",
    "graphPhi = translate_R(graphR)\n",
    "\n",
    "graphEval = np.array([[0.3, 0.7],\n",
    "                   [0.3, 0.7],\n",
    "                   [0.3, 0.7],\n",
    "                   [0.3, 0.7],\n",
    "                   [0.3, 0.7],\n",
    "                   [0.3, 0.7],\n",
    "                   [0.3, 0.7],\n",
    "                   [0.3, 0.7]])\n",
    "\n",
    "p_e_su = translate_Pi(np.array([graphEval,graphEval]))"
   ]
  },
  {
   "cell_type": "code",
   "execution_count": 6,
   "metadata": {},
   "outputs": [
    {
     "name": "stdout",
     "output_type": "stream",
     "text": [
      "[0.5 0.5 0.  0.  0.  0.  0.  0.  0.  0.  0.  0.  0.  0.  0.  0. ]\n",
      "Set parameter Username\n",
      "Academic license - for non-commercial use only - expires 2022-11-24\n",
      "5.771649410541773\n",
      "3.555283491600996\n",
      "2.3173121903926566\n",
      "-6.846958311788748\n"
     ]
    }
   ],
   "source": [
    "tight = True; quiet = True; sense_min = False\n",
    "nS = int(nStates*2)\n",
    "nA = int(nActions)\n",
    "nU = 2\n",
    "nSmarg = int(nStates)\n",
    "\n",
    "logGams_full = np.log([1.01, 1.5, 2, 10])\n",
    "ngams = len(logGams_full)\n",
    "\n",
    "# simulate\n",
    "[ stateChangeHist, stateHist, a_s, s_a_sprime, p_infty_b_su_long, distr_hist ] =  simulate_rollouts( \n",
    "    nS, nA, newGraphP, newGraphPi, newGraphStateDist, 20000 )\n",
    "p_infty_b_s = (reshape_byxrow(p_infty_b_su_long.T, nU).T).flatten()\n",
    "[ p_a1_su, joint_s_a_sprime, s_a_giv_sprime ] = get_auxiliary_info_from_traj(stateChangeHist, \n",
    "                                        stateHist, a_s, s_a_sprime, p_infty_b_su_long, distr_hist, nA,nS)\n",
    "# agg history and process\n",
    "[aggStateHist, p_a1_s, p_e_s, agg_s_a_sprime, joint_s_a_sprime_agg, s_a_giv_sprime_agg] = agg_history(\n",
    "            stateHist, s_a_sprime, p_infty_b_s, a_s, p_e_su, nA, nS, nSmarg, nU)\n",
    "\n",
    "for ind,logGam in enumerate(logGams_full): \n",
    "    sense_min = True\n",
    "    [a_bnd, b_bnd] = get_bnds_as( p_a1_s, logGam )\n",
    "    [objVal, w_, m] = primal_opt_outer_L1_test_function(gamma, graphPhi, a_bnd,b_bnd, s_a_giv_sprime_agg, p_infty_b_s, p_e_s, p_a1_s, nSmarg, nA, tight, sense_min, quiet)\n",
    "\n",
    "    print(objVal)"
   ]
  },
  {
   "cell_type": "code",
   "execution_count": 7,
   "metadata": {},
   "outputs": [
    {
     "data": {
      "text/plain": [
       "array([[0.12691876, 0.06436299],\n",
       "       [0.12700084, 0.06431841],\n",
       "       [0.13439636, 0.06050955],\n",
       "       [0.12916764, 0.06316056],\n",
       "       [0.1260554 , 0.06483516],\n",
       "       [0.1484375 , 0.05425585],\n",
       "       [0.14863813, 0.05417451],\n",
       "       [0.14541344, 0.0555073 ]])"
      ]
     },
     "execution_count": 7,
     "metadata": {},
     "output_type": "execute_result"
    }
   ],
   "source": [
    "1/b_bnd.T"
   ]
  },
  {
   "cell_type": "markdown",
   "metadata": {},
   "source": [
    "### check how long before steady state"
   ]
  },
  {
   "cell_type": "code",
   "execution_count": 8,
   "metadata": {},
   "outputs": [
    {
     "data": {
      "text/plain": [
       "5.8311762816624695"
      ]
     },
     "execution_count": 8,
     "metadata": {},
     "output_type": "execute_result"
    }
   ],
   "source": [
    "def get_transitions(joint_s_a_sprime_agg, p_a1_s, p_b_infty_s,nS,nA): \n",
    "    P = np.zeros([nS,nA, nS])\n",
    "    for s in range(P.shape[0]): \n",
    "        for a in range(nA): \n",
    "            P[s,a,:] = joint_s_a_sprime_agg[s,a,:] / (p_a1_s[a,s]*p_b_infty_s[s])\n",
    "    return P\n",
    "P_marg = get_transitions(joint_s_a_sprime_agg, p_a1_s, p_infty_b_s,nSmarg,nA)\n",
    "\n",
    "P_x_to_xp = P_marg[:,0,:] * graphEval[0,0] + P_marg[:,1,:] * graphEval[0,1]\n",
    "for x in range(nStates):\n",
    "    P_x_to_xp[x] /= P_x_to_xp[x].sum()\n",
    "\n",
    "def P_xt(horizon):\n",
    "    result = graphStateDist\n",
    "    for t in range(horizon):\n",
    "        result = np.dot(result,P_x_to_xp)\n",
    "    return result\n",
    "\n",
    "np.dot(P_xt(200), graphPhi)"
   ]
  },
  {
   "cell_type": "code",
   "execution_count": 9,
   "metadata": {},
   "outputs": [
    {
     "name": "stdout",
     "output_type": "stream",
     "text": [
      "[6.58590827 4.55475763 6.54444657 4.49639458 6.53887481 4.29598839\n",
      " 6.52267586 5.56169467]\n"
     ]
    },
    {
     "data": {
      "text/plain": [
       "6.585908268039706"
      ]
     },
     "execution_count": 9,
     "metadata": {},
     "output_type": "execute_result"
    }
   ],
   "source": [
    "gamma = 0.95\n",
    "\n",
    "def bellman(f):\n",
    "    return graphR + gamma * (np.dot(P_x_to_xp,f))\n",
    "\n",
    "test_f = np.zeros(nStates)\n",
    "for _ in range(200):\n",
    "    test_f = bellman(test_f)\n",
    "print(test_f)\n",
    "\n",
    "np.dot(test_f , graphStateDist)"
   ]
  },
  {
   "cell_type": "markdown",
   "metadata": {},
   "source": [
    "# Port over ope-gridworld from python 3"
   ]
  },
  {
   "cell_type": "code",
   "execution_count": 10,
   "metadata": {},
   "outputs": [],
   "source": [
    "def gridworld_opetools(horizon = 100, slip = 0.05, confound_weight=0.1):\n",
    "    tx,R,x_dist = infty_gridworld_ope_tools(horizon = horizon, slip = slip)\n",
    "\n",
    "    V = rand_pi_val(tx, R, x_dist, 100)\n",
    "    P = confound_V(tx, x_dist, V, confound_weight=confound_weight)\n",
    " \n",
    "    u_dist = np.array([0.5, 0.5])\n",
    "    gamma = 0.99\n",
    "\n",
    "    nStates = tx.shape[1]\n",
    "    nActions = tx.shape[0]\n",
    "\n",
    "    pi = np.zeros((nStates, nActions))\n",
    "    for s in range(nStates):\n",
    "        pi[s] = [0.4, 0.1, 0.1, 0.4]\n",
    "    pi_u = confound_pi_V(pi, tx, V, 0.2)\n",
    "    return pi_u, P, R, x_dist, u_dist, gamma\n"
   ]
  },
  {
   "cell_type": "code",
   "execution_count": 11,
   "metadata": {},
   "outputs": [],
   "source": [
    "def rand_pi_val(tx, R, x_dist, horizon):\n",
    "    nActions = tx.shape[0]\n",
    "    nStates = tx.shape[1]\n",
    "    rand_pi = np.zeros((nStates, nActions))\n",
    "    for i in range(nStates):\n",
    "        rand_pi[i,:] = [1/nActions for a in range(nActions)]\n",
    "    gamma = 0.98\n",
    "    \n",
    "    def bellman_eval_update(f, pi):\n",
    "        Tf = np.zeros(f.shape)\n",
    "        for s in range(nStates):\n",
    "            for a in range(nActions):\n",
    "                f_pi = np.array([np.dot(pi[xp] , f[xp, :]) for xp in range(nStates)])\n",
    "                Tf[s,a] = np.dot(tx[a, s] , (R[a, s] + gamma * f_pi) )\n",
    "        return Tf\n",
    "    \n",
    "    def bellman_eval(pi, horizon):\n",
    "        Q = np.zeros((nStates, nActions))\n",
    "        for k in range(horizon):\n",
    "            Q = bellman_eval_update(Q, pi)\n",
    "        return Q\n",
    "    \n",
    "    def get_value(Q, pi):\n",
    "        V = np.array([np.dot(Q[x] , pi[x]) for x in range(nStates)])\n",
    "        avgV = np.dot(V , x_dist)\n",
    "        return V, avgV\n",
    "    \n",
    "    Q = bellman_eval(rand_pi, horizon)\n",
    "    V, _ = get_value(Q, rand_pi)\n",
    "    return V"
   ]
  },
  {
   "cell_type": "code",
   "execution_count": 12,
   "metadata": {},
   "outputs": [],
   "source": [
    "def confound_V(tx, x_dist, V, confound_weight=0.1):\n",
    "    nActions = tx.shape[0]\n",
    "    nStates = tx.shape[1]\n",
    "    \n",
    "    P = np.zeros((2, nActions, nStates, nStates))\n",
    "    for i in range(nStates):\n",
    "        # which V is higher\n",
    "        va = np.array([np.dot(tx[a, i] , V) for a in range(nActions)])\n",
    "\n",
    "        minaction = va.argmin()\n",
    "        maxaction = va.argmax()\n",
    "\n",
    "        # find the highest value action transition\n",
    "        # in u = 0 shift all actions towards the highest action probs\n",
    "        # find the lowest value action transition\n",
    "        # in u = 1 shift all actions towards the lowest value\n",
    "        for a in range(nActions):\n",
    "            P[0, a, i, :] = (1-confound_weight)*tx[a, i] + confound_weight*tx[maxaction, i]\n",
    "            P[1, a, i, :] = (1-confound_weight)*tx[a, i] + confound_weight*tx[minaction, i]\n",
    "    return P"
   ]
  },
  {
   "cell_type": "code",
   "execution_count": 13,
   "metadata": {},
   "outputs": [],
   "source": [
    "def confound_pi_V(pi, tx, V, confound_weight):\n",
    "    nStates = tx.shape[1]\n",
    "    nActions = tx.shape[0]\n",
    "    pi_u = np.zeros((2, nStates, nActions))\n",
    "    for i in range(nStates):\n",
    "        va = np.array([np.dot(tx[a, i] , V) for a in range(nActions)])\n",
    "        maxaction = va.argmax() \n",
    "    \n",
    "        for a in range(nActions):\n",
    "            if a == maxaction:\n",
    "                pi_u[0, i, a] = pi[i, a] + confound_weight\n",
    "                pi_u[1, i, a] = pi[i, a] - confound_weight\n",
    "            else:\n",
    "                pi_u[0, i, a] = pi[i, a] - confound_weight\n",
    "                pi_u[1, i, a] = pi[i ,a] + confound_weight\n",
    "        \n",
    "            if pi_u[0, i, a] < 0:\n",
    "                pi_u[0, i, a] = 0\n",
    "            if pi_u[1, i, a] < 0:\n",
    "                pi_u[1, i, a] = 0\n",
    "        \n",
    "        # need to guarantee overlap:\n",
    "        pi_u[0,i,:] += 0.05\n",
    "        pi_u[1,i,:] += 0.05\n",
    "        pi_u[0, i, :] /= pi_u[0, i, :].sum()\n",
    "        pi_u[1, i, :] /= pi_u[1, i, :].sum()\n",
    "    return pi_u\n"
   ]
  },
  {
   "cell_type": "code",
   "execution_count": 14,
   "metadata": {},
   "outputs": [],
   "source": [
    "def infty_gridworld_ope_tools(horizon = 100, slip = 0.05):\n",
    "    h = -0.5\n",
    "    f = -0.005\n",
    "\n",
    "    grid = np.array(\n",
    "        [[-0.01, -0.01, -0.01, -0.01],\n",
    "         [-0.01, -0.01, f    , h    ],\n",
    "         [-0.01, h    , -0.01, h    ],\n",
    "         [-0.01, h    , f    , +1   ]])\n",
    "    gridlen = grid.shape[0]\n",
    "    \n",
    "    nStates = np.prod(grid.shape)\n",
    "    nActions = 4\n",
    "\n",
    "    tx = np.zeros((nActions, nStates, nStates))\n",
    "    for i in range(nStates):\n",
    "        if i % grid.shape[1] == 0:\n",
    "            tx[0, i, i] += 1 - 3*slip\n",
    "            tx[1, i, i] += slip\n",
    "            tx[2, i, i] += slip\n",
    "            tx[3, i, i] += slip\n",
    "        else:\n",
    "            tx[0, i, i-1] += 1 - 3*slip\n",
    "            tx[1, i, i-1] += slip\n",
    "            tx[2, i, i-1] += slip\n",
    "            tx[3, i, i-1] += slip\n",
    "        if i % grid.shape[1] == gridlen-1:\n",
    "            tx[1, i, i] += 1 - 3*slip\n",
    "            tx[0, i, i] += slip\n",
    "            tx[2, i, i] += slip\n",
    "            tx[3, i, i] += slip\n",
    "        else:\n",
    "            tx[1, i, i+1] += 1 - 3*slip\n",
    "            tx[0, i, i+1] += slip\n",
    "            tx[2, i, i+1] += slip\n",
    "            tx[3, i, i+1] += slip\n",
    "        if i // grid.shape[0] == 0:\n",
    "            tx[2, i, i] += 1 - 3*slip\n",
    "            tx[0, i, i] += slip\n",
    "            tx[1, i, i] += slip\n",
    "            tx[3, i, i] += slip\n",
    "        else:\n",
    "            tx[2, i, i-gridlen] += 1 - 3*slip\n",
    "            tx[0, i, i-gridlen] += slip\n",
    "            tx[1, i, i-gridlen] += slip\n",
    "            tx[3, i, i-gridlen] += slip\n",
    "        if i // grid.shape[0] == gridlen-1:\n",
    "            tx[3, i, i] += 1 - 3*slip\n",
    "            tx[0, i, i] += slip\n",
    "            tx[1, i, i] += slip\n",
    "            tx[2, i, i] += slip\n",
    "        else:\n",
    "            tx[3, i, i+gridlen] += 1 - 3*slip\n",
    "            tx[0, i, i+gridlen] += slip\n",
    "            tx[1, i, i+gridlen] += slip\n",
    "            tx[2, i, i+gridlen] += slip\n",
    "            \n",
    "    R = np.zeros((nActions, nStates, nStates))\n",
    "    for i in range(nStates):\n",
    "        R[:, i, :] = grid.flatten()\n",
    "    R[:, -1, -1] = 0\n",
    "\n",
    "    x_dist = np.zeros(nStates)\n",
    "    init_pos = [0, 1, 2, 3, 4, 8, 12]\n",
    "    x_dist[init_pos] = 1/len(init_pos)\n",
    "    \n",
    "    return tx, R, x_dist"
   ]
  },
  {
   "cell_type": "code",
   "execution_count": 15,
   "metadata": {},
   "outputs": [],
   "source": [
    "horizon = 8\n",
    "pi_b, P, R, x_dist, u_dist, _ = gridworld_opetools(horizon = horizon, slip = 0.04, confound_weight=0.6)\n",
    "\n",
    "gamma = 0.95\n",
    "\n",
    "nStates = P.shape[2]\n",
    "nActions = P.shape[1]\n",
    "\n",
    "pi_e = np.zeros((nStates, nActions))\n",
    "for i in range(nStates):\n",
    "    pi_e[i] = [0.4, 0.1, 0.4, 0.1]"
   ]
  },
  {
   "cell_type": "code",
   "execution_count": 16,
   "metadata": {},
   "outputs": [],
   "source": [
    "newP = translate_P(P)\n",
    "\n",
    "newPi = translate_Pi(pi_b)\n",
    "\n",
    "newStateDist = translate_dist(x_dist)\n",
    "\n",
    "gamma = 0.95\n",
    "\n",
    "phi = translate_R(R[0,0,:])\n",
    "\n",
    "p_e_su = translate_Pi(np.array([pi_e,pi_e]))"
   ]
  },
  {
   "cell_type": "code",
   "execution_count": 17,
   "metadata": {},
   "outputs": [
    {
     "name": "stdout",
     "output_type": "stream",
     "text": [
      "[0.07142857 0.07142857 0.07142857 0.07142857 0.07142857 0.07142857\n",
      " 0.07142857 0.07142857 0.07142857 0.07142857 0.         0.\n",
      " 0.         0.         0.         0.         0.07142857 0.07142857\n",
      " 0.         0.         0.         0.         0.         0.\n",
      " 0.07142857 0.07142857 0.         0.         0.         0.\n",
      " 0.         0.        ]\n",
      "-1.5473728957062731\n"
     ]
    }
   ],
   "source": [
    "tight = True; quiet = True; sense_min = False\n",
    "nS = int(nStates*2)\n",
    "nA = int(nActions)\n",
    "nU = 2\n",
    "nSmarg = int(nStates)\n",
    "\n",
    "logGams_full = np.log([1.01])\n",
    "ngams = len(logGams_full)\n",
    "\n",
    "# simulate\n",
    "[ stateChangeHist, stateHist, a_s, s_a_sprime, p_infty_b_su_long, distr_hist ] =  simulate_rollouts( \n",
    "    nS, nA, newP, newPi, newStateDist, 20000 )\n",
    "p_infty_b_s = (reshape_byxrow(p_infty_b_su_long.T, nU).T).flatten()\n",
    "[ p_a1_su, joint_s_a_sprime, s_a_giv_sprime ] = get_auxiliary_info_from_traj(stateChangeHist, \n",
    "                                        stateHist, a_s, s_a_sprime, p_infty_b_su_long, distr_hist, nA,nS)\n",
    "# agg history and process\n",
    "[aggStateHist, p_a1_s, p_e_s, agg_s_a_sprime, joint_s_a_sprime_agg, s_a_giv_sprime_agg] = agg_history(\n",
    "            stateHist, s_a_sprime, p_infty_b_s, a_s, p_e_su, nA, nS, nSmarg, nU)\n",
    "\n",
    "for ind,logGam in enumerate(logGams_full): \n",
    "    sense_min = True\n",
    "    [a_bnd, b_bnd] = get_bnds_as( p_a1_s, logGam )\n",
    "    [objVal, w_, m] = primal_opt_outer_L1_test_function(gamma, phi, a_bnd,b_bnd, s_a_giv_sprime_agg, p_infty_b_s, p_e_s, p_a1_s, nSmarg, nA, tight, sense_min, quiet)\n",
    "\n",
    "    print(objVal)"
   ]
  },
  {
   "cell_type": "code",
   "execution_count": 18,
   "metadata": {},
   "outputs": [
    {
     "data": {
      "text/plain": [
       "-1.4896646936582216"
      ]
     },
     "execution_count": 18,
     "metadata": {},
     "output_type": "execute_result"
    }
   ],
   "source": [
    "def get_transitions(joint_s_a_sprime_agg, p_a1_s, p_b_infty_s,nS,nA): \n",
    "    P = np.zeros([nS,nA, nS])\n",
    "    for s in range(P.shape[0]): \n",
    "        for a in range(nA): \n",
    "            P[s,a,:] = joint_s_a_sprime_agg[s,a,:] / (p_a1_s[a,s]*p_b_infty_s[s])\n",
    "    return P\n",
    "P_marg = get_transitions(joint_s_a_sprime_agg, p_a1_s, p_infty_b_s,nSmarg,nA)\n",
    "\n",
    "P_x_to_xp = P_marg[:,0,:] * pi_e[0,0] + P_marg[:,1,:] * pi_e[0,1] + P_marg[:,2,:] * pi_e[0,2] + P_marg[:,3,:] * pi_e[0,3]\n",
    "for x in range(nStates):\n",
    "    P_x_to_xp[x] /= P_x_to_xp[x].sum()\n",
    "\n",
    "def P_xt(horizon):\n",
    "    result = x_dist\n",
    "    for t in range(horizon):\n",
    "        result = np.dot(result,P_x_to_xp)\n",
    "    return result\n",
    "\n",
    "np.dot(P_xt(200), phi)"
   ]
  },
  {
   "cell_type": "code",
   "execution_count": 19,
   "metadata": {},
   "outputs": [
    {
     "data": {
      "text/plain": [
       "array([0.2840267 , 0.07562393, 0.02202004, 0.01524336, 0.18809284,\n",
       "       0.0648017 , 0.01345431, 0.0256342 , 0.09863802, 0.04256775,\n",
       "       0.01039538, 0.01007417, 0.05021465, 0.06465303, 0.02927698,\n",
       "       0.00528295])"
      ]
     },
     "execution_count": 19,
     "metadata": {},
     "output_type": "execute_result"
    }
   ],
   "source": [
    "P_xt(200)"
   ]
  },
  {
   "cell_type": "code",
   "execution_count": 20,
   "metadata": {},
   "outputs": [
    {
     "name": "stdout",
     "output_type": "stream",
     "text": [
      "[-1.04016297 -1.20956682 -1.57154508 -2.12516348 -1.13220884 -1.4726001\n",
      " -1.90075727 -2.99029017 -1.37278576 -2.26298554 -2.15079935 -2.84317976\n",
      " -1.78576625 -2.75400732 -2.31591791 -1.30119375]\n"
     ]
    },
    {
     "data": {
      "text/plain": [
       "-1.4624570289724335"
      ]
     },
     "execution_count": 20,
     "metadata": {},
     "output_type": "execute_result"
    }
   ],
   "source": [
    "gamma = 0.95\n",
    "\n",
    "def bellman(f):\n",
    "    return R[0,0,:] + gamma * (np.dot(P_x_to_xp,f))\n",
    "\n",
    "test_f = np.zeros(nStates)\n",
    "for _ in range(200):\n",
    "    test_f = bellman(test_f)\n",
    "print(test_f)\n",
    "\n",
    "np.dot(test_f , x_dist)"
   ]
  }
 ],
 "metadata": {
  "kernelspec": {
   "display_name": "Python 3 (ipykernel)",
   "language": "python",
   "name": "python3"
  },
  "language_info": {
   "codemirror_mode": {
    "name": "ipython",
    "version": 3
   },
   "file_extension": ".py",
   "mimetype": "text/x-python",
   "name": "python",
   "nbconvert_exporter": "python",
   "pygments_lexer": "ipython3",
   "version": "3.9.7"
  }
 },
 "nbformat": 4,
 "nbformat_minor": 4
}
