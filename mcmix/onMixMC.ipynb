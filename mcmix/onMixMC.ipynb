{
 "cells": [
  {
   "cell_type": "markdown",
   "id": "98863d45-38dc-41aa-839a-c5e76d279f9e",
   "metadata": {},
   "source": [
    "# Clustering of Trajectories under Global Confounding"
   ]
  },
  {
   "cell_type": "code",
   "execution_count": 3,
   "id": "962aa4b7-23eb-4114-8af9-7068d82da56a",
   "metadata": {},
   "outputs": [],
   "source": [
    "import sys\n",
    "# setting path\n",
    "sys.path.append('../core')\n",
    "import os\n",
    "os.environ[\"VECLIB_MAXIMUM_THREADS\"] = \"10\"\n",
    "#optimal transport library\n",
    "#import ot\n",
    "\n",
    "#exotic clustering algorithm, TDA\n",
    "#from tomaster import tomato\n",
    "#from gudhi.clustering.tomato import Tomato\n",
    "\n",
    "from sklearn.decomposition import PCA\n",
    "\n",
    "#bread and butter\n",
    "import pandas as pd\n",
    "import numpy as np\n",
    "\n",
    "import matplotlib.pyplot as plt\n",
    "import seaborn as sns\n",
    "\n",
    "#machine learning library\n",
    "import sklearn\n",
    "import sklearn.manifold\n",
    "import sklearn.cluster\n",
    "import sklearn.decomposition\n",
    "\n",
    "#statistics\n",
    "import scipy\n",
    "from scipy.stats import rankdata, norm\n",
    "\n",
    "#backtester\n",
    "#import bt\n",
    "\n",
    "#machine learning library for time series\n",
    "#import tslearn\n",
    "import numba\n",
    "from numba import jit, njit\n",
    "\n",
    "import tqdm\n",
    "from tqdm import tqdm\n",
    "import copy\n",
    "import cvxpy as cp\n",
    "\n",
    "import matplotlib.pyplot as plt\n",
    "from mpl_toolkits.mplot3d import Axes3D\n",
    "%matplotlib inline\n",
    "#import numpy as tnp\n",
    "import warnings\n",
    "warnings.filterwarnings('ignore')\n",
    "\n",
    "import dfply\n",
    "from dfply import *\n",
    "import ray\n",
    "import datetime\n",
    "\n",
    "#import pyvinecopulib as pv\n",
    "\n",
    "import os\n",
    "import warnings\n",
    "warnings.filterwarnings(\"ignore\")\n",
    "\n",
    "#import tensorflow as tf\n",
    "#import tensorflow.experimental.numpy as tnp\n",
    "#tnp.experimental_enable_numpy_behavior()\n",
    "\n",
    "import numpy as np\n",
    "import matplotlib\n",
    "import matplotlib.pyplot as plt\n",
    "from tqdm import tqdm\n",
    "import pandas as pd\n",
    "\n",
    "import scipy\n",
    "from scipy.optimize import Bounds\n",
    "from scipy.optimize import LinearConstraint\n",
    "from scipy.optimize import NonlinearConstraint\n",
    "from scipy.optimize import SR1, BFGS\n",
    "from scipy.optimize import minimize\n",
    "\n",
    "import confound_mdp\n",
    "import confound_ope\n",
    "import confound_env\n",
    "\n",
    "\n",
    "import copy\n",
    "\n",
    "%matplotlib inline\n",
    "plt.style.use('matplotlibrc')"
   ]
  },
  {
   "cell_type": "code",
   "execution_count": 4,
   "id": "0f2febbf-8ad5-44e4-8af8-81a2adce76f7",
   "metadata": {},
   "outputs": [],
   "source": [
    "envs = []\n",
    "# each row:\n",
    "#   [mdp , pi_b, pi_e, horizon, gamma, nStates, nActions, term]\n",
    "\n",
    "\n",
    "horizon = 18 #18\n",
    "#, slip = 0.04, confound_weight=0.6\n",
    "pi_b, P, R, x_dist, u_dist, gamma = confound_env.gridworld_opetools(horizon = horizon, slip = 0.04, \n",
    "                                                                    confound_weight=0.6, small=True, soft=True)\n",
    "#R = -1*R\n",
    "gridworld = confound_mdp.ConfoundMDP(P, R, x_dist, u_dist, gamma)\n",
    "\n",
    "nStates = P.shape[2]\n",
    "nActions = P.shape[1]\n",
    "\n",
    "pi_e = np.zeros((nStates, nActions))\n",
    "for i in range(nStates):\n",
    "    pi_e[i] = [0.4, 0.1, 0.4, 0.1]\n",
    "    \n",
    "envs.append([gridworld, pi_b, pi_e, horizon, gamma, nStates, nActions, -1, P, R, x_dist, u_dist, gamma])\n",
    "\n"
   ]
  },
  {
   "cell_type": "code",
   "execution_count": 5,
   "id": "dd843123-4b34-4038-bd38-7c8946a8f51f",
   "metadata": {},
   "outputs": [
    {
     "name": "stdout",
     "output_type": "stream",
     "text": [
      "---\n",
      "running env with horizon 18\n",
      "value of pi_b\n",
      "-0.45903811040939224\n"
     ]
    }
   ],
   "source": [
    "fqe_envs = []\n",
    "mb_envs = []\n",
    "\n",
    "gams = [1.1, 1.5, 2, 3, 4, 6, 8, 10]\n",
    "nGams = len(gams)\n",
    "\n",
    "Pbs = [1.1, 1.5, 2, 3, 4, 6, 8, 10]\n",
    "nPbs = len(Pbs)\n",
    "\n",
    "#hadds = [0, 5, 10]\n",
    "hadds = [0]\n",
    "\n",
    "for mdp , pi_b, pi_e, base_horizon, gamma, nStates, nActions, term, P, R, x_dist, u_dist, gamma in [envs[-1]]:\n",
    "    \n",
    "    print(\"---\")\n",
    "    \n",
    "    for h in hadds:\n",
    "        horizon = base_horizon + h\n",
    "        \n",
    "        print(\"running env with horizon \" + str(horizon))\n",
    "\n",
    "        dataset = confound_mdp.collect_sample(int(100000), mdp, pi_b, horizon, iid=False)\n",
    "        data = dataset.reshape((dataset.shape[0]*dataset.shape[1],5))\n",
    "        Phat = confound_ope.estimate_P(dataset, mdp)\n",
    "        pihat = confound_ope.estimate_pi(dataset, mdp)\n",
    "        for a in range(nActions):\n",
    "            for s in range(nStates):\n",
    "                if Phat[a,s].sum() == 0:\n",
    "                    Phat[a,s,term] = 1\n",
    "                if pihat[s].sum() == 0:\n",
    "                    pihat[s,:] = 1/nActions\n",
    "        pi_avg = pi_b[0] * u_dist[0] + pi_b[1] * u_dist[1]\n",
    "        \n",
    "        # This is the actual reward_sa\n",
    "        # P(s,a,s') * R(s,a,s')\n",
    "        # R(s,a) = \\Sum_{s'} P(s,a,s') * R(s,a,s')\n",
    "        R_sa = (np.average(P, axis=0, weights=u_dist) * R).sum(axis=2).T #np.sum(R, axis=2).T #.reshape(nStates, nActions)\n",
    "        P_spsa = Phat.transpose((2, 1, 0))\n",
    "        n = data.shape[0]\n",
    "        \n",
    "\n",
    "         # behavior value\n",
    "        print(\"value of pi_b\")\n",
    "        returns = confound_mdp.calc_returns(dataset, gamma, horizon)\n",
    "        print(returns.mean())\n",
    "\n",
    "        '''\n",
    "        # no confounding:\n",
    "        print(\"value of pi_e with no confounding\")\n",
    "        Q0 = np.zeros((nStates, nActions))\n",
    "        nom_q = Q0.copy()\n",
    "        for t in range(horizon):\n",
    "            nom_q = fitted_q_update(nom_q, pi_e, dataset, mdp)\n",
    "        print(mdp.get_value(nom_q,pi_e)[1])\n",
    "\n",
    "        fqe_results = []\n",
    "\n",
    "        print(\"now running C-FQE\")\n",
    "        for i,gam in enumerate(gams):\n",
    "            Q0 = np.zeros((nStates, nActions))\n",
    "            q_reparam_samp = Q0.copy()\n",
    "            for t in range(horizon):\n",
    "                q_reparam_samp = fitted_q_update_reparam_sampling(q_reparam_samp, pi_e, pihat, Pb_spsa, gam, R_sa, data, mdp)\n",
    "            fqe_results.append(mdp.get_value(q_reparam_samp,pi_e)[0])\n",
    "            \n",
    "        '''\n",
    "\n",
    "        '''\n",
    "        print(\"now running robust mdps...\")\n",
    "        mb_results = np.zeros((nGams, nPbs))\n",
    "\n",
    "        for i,gam in tqdm(enumerate(gams)):\n",
    "            for j,P_bound in enumerate(Pbs):\n",
    "                V0 = np.zeros(nStates)\n",
    "                fixed_u_v = V0.copy()\n",
    "                for t in range(horizon):\n",
    "                    fixed_u_v = confound_ope.fixed_u_gp_s_rect(fixed_u_v, pi_e, 0.50, Phat, pihat, P_bound, gam, mdp)\n",
    "                mb_results[i,j] = fixed_u_v @ mdp.x_dist\n",
    "\n",
    "        fqe_envs.append(fqe_results)\n",
    "        mb_envs.append(mb_results)\n",
    "        '''"
   ]
  },
  {
   "cell_type": "code",
   "execution_count": 216,
   "id": "b205ac55-fd13-4797-9cb0-ce62d67f431e",
   "metadata": {},
   "outputs": [],
   "source": [
    "from numba import njit\n",
    "#Ptrue_spsa = np.einsum('u,uasp->psa', u_dist, P)\n",
    "pi_bsa = np.einsum('u,usa->sa', u_dist, pi_b)\n",
    "@njit(cache=True)\n",
    "def getPb_spsa(nStates, nActions, u_dist, pi_b, pi_bsa, P):\n",
    "    prob = np.zeros((nStates, nStates, nActions))\n",
    "    for sp in range(nStates):\n",
    "        for s in range(nStates):\n",
    "            for a in range(nActions):\n",
    "                for u in range(len(u_dist)):\n",
    "                    prob[sp, s, a] += u_dist[u] * pi_b[u, s, a] * (1/pi_bsa[s,a]) * P[u, a, s, sp]\n",
    "    return prob\n",
    "Pb_spsa = getPb_spsa(nStates, nActions, u_dist, pi_b, pi_bsa, P)"
   ]
  },
  {
   "cell_type": "markdown",
   "id": "626a0d19-6c6e-44e2-aa19-ad3c8302ea5f",
   "metadata": {},
   "source": [
    "## Method 1: PCA >%> ToMATo Clustering >%> t-SNE"
   ]
  },
  {
   "cell_type": "code",
   "execution_count": 7,
   "id": "87a0b786-6e6e-45fb-94e5-a3277d516532",
   "metadata": {},
   "outputs": [
    {
     "data": {
      "text/plain": [
       "(100000, 18, 5)"
      ]
     },
     "execution_count": 7,
     "metadata": {},
     "output_type": "execute_result"
    }
   ],
   "source": [
    "# x, a, u, x', r\n",
    "dataset.shape"
   ]
  },
  {
   "cell_type": "code",
   "execution_count": 8,
   "id": "1c686adb-93ae-4237-9cab-1dc14be9313f",
   "metadata": {},
   "outputs": [],
   "source": [
    "stateactions = dataset[:, :, [0, 1]]\n",
    "X = stateactions.reshape(stateactions.shape[0], stateactions.shape[1]*stateactions.shape[2])\n",
    "fullX = dataset.reshape(dataset.shape[0], dataset.shape[1]*dataset.shape[2])\n",
    "\n",
    "#from sklearn.decomposition import PCA\n",
    "#pca = PCA(n_components=10, whiten=False).fit_transform(X)"
   ]
  },
  {
   "cell_type": "code",
   "execution_count": 9,
   "id": "449f82c1-c35a-4a01-aa31-6aff8c2c2269",
   "metadata": {},
   "outputs": [
    {
     "name": "stdout",
     "output_type": "stream",
     "text": [
      "(1799998, 3, 5)\n",
      "(1799998, 3, 5)\n"
     ]
    }
   ],
   "source": [
    "#threes = dataset.reshape(int(dataset.shape[0] * dataset.shape[1] / 3), 3, dataset.shape[2])\n",
    "concattrajs = dataset.reshape(dataset.shape[0]*dataset.shape[1], dataset.shape[2])\n",
    "threes = np.array([concattrajs[i:i+3] for i in range(len(concattrajs)-2)])\n",
    "print(threes.shape)\n",
    "#threes = dataset #comment for non-sanity check\n",
    "print(threes.shape)\n",
    "stateactions = threes[:,:,0] + threes[:,:,1]*nStates #we code (S x A) as s + a|S|, 0,16,32,48 1,17,33,49\n",
    "confounders = threes[:,:,2]\n",
    "labels = confounders[:,0]\n",
    "nextstates = threes[:,:,3]\n",
    "\n",
    "L = 2\n",
    "S = nStates*nActions\n",
    "N = len(threes)"
   ]
  },
  {
   "cell_type": "code",
   "execution_count": 10,
   "id": "df80e45c-6476-42ca-8d41-2b0dc498e0bf",
   "metadata": {},
   "outputs": [],
   "source": [
    "middles = stateactions[stateactions[:,1].argsort()]\n",
    "groupedSA = np.split(middles, np.unique(middles[:, 1], return_index=True)[1][1:])"
   ]
  },
  {
   "cell_type": "markdown",
   "id": "a26a3897-edfc-4d7c-ba36-83f45a68ce93",
   "metadata": {},
   "source": [
    "from numba import prange\n",
    "@njit(parallel=False)\n",
    "def getOj(group, S = S, N = N):\n",
    "    Oj = np.zeros((S, S))\n",
    "    for idx in prange(len(group)):\n",
    "        i, j, k = group[idx]\n",
    "        Oj[int(i), int(k)] += 1\n",
    "    Oj /= N\n",
    "    return Oj\n",
    "Ojs = [getOj(group) for group in groupedSA]\n",
    "len(Ojs)"
   ]
  },
  {
   "cell_type": "code",
   "execution_count": 221,
   "id": "c1fb720f-f83d-41cc-b48c-5107b37d0731",
   "metadata": {},
   "outputs": [],
   "source": [
    "@njit(parallel=False, cache=True)\n",
    "def getOj(stateactions, S = S):\n",
    "    Ojs = np.zeros((S, S, S))\n",
    "    for idx in range(len(stateactions)):\n",
    "        i,j,k = stateactions[idx]\n",
    "        Ojs[int(i), int(j), int(k)] += 1\n",
    "    return Ojs / len(stateactions)\n",
    "Ojs = [getOj(stateactions)[:,j,:] for j in range(S)]"
   ]
  },
  {
   "cell_type": "code",
   "execution_count": 12,
   "id": "0cdd930c-beee-471c-811f-ae92694dfd03",
   "metadata": {},
   "outputs": [
    {
     "data": {
      "text/plain": [
       "0.016867463186070204"
      ]
     },
     "execution_count": 12,
     "metadata": {},
     "output_type": "execute_result"
    }
   ],
   "source": [
    "bootstrap = threes[np.random.choice(np.arange(0, len(threes)), size=10*len(threes))]\n",
    "bootsa = bootstrap[:,:,0] + bootstrap[:,:,1]*nStates\n",
    "bootOjs = [getOj(bootsa)[:,j,:] for j in range(S)]\n",
    "bootdiffs = np.array(Ojs) - np.array(bootOjs)\n",
    "np.sum(np.abs(bootdiffs))"
   ]
  },
  {
   "cell_type": "code",
   "execution_count": 49,
   "id": "c2780dfb-8046-4d89-bc65-af87f46abdc6",
   "metadata": {},
   "outputs": [
    {
     "data": {
      "text/plain": [
       "array([-7.72223080e-06, -6.77778531e-06, -7.77778642e-07,  2.16666907e-06,\n",
       "        4.61111623e-06, -1.33333481e-06,  2.77778086e-07,  3.27778142e-06,\n",
       "       -1.61111290e-06,  3.55555951e-06,  3.44444827e-06,  8.33334259e-07,\n",
       "        1.05879118e-21,  3.55555951e-06, -4.55556062e-06, -5.55556173e-07,\n",
       "        1.00000111e-05, -2.27778031e-06, -2.16666907e-06, -1.66666852e-06,\n",
       "        3.33333704e-06, -1.11111235e-07,  1.83333537e-06, -1.11111235e-06,\n",
       "        1.61111290e-06,  3.22222580e-06, -1.16666796e-06,  1.11111235e-07,\n",
       "        3.88889321e-07, -1.77777975e-06, -2.22222469e-07, -1.11111235e-07,\n",
       "       -1.23333470e-05, -1.66666852e-07,  5.55556173e-08, -1.00000111e-06,\n",
       "       -1.33333481e-06, -2.27778031e-06, -1.50000167e-06, -1.44444605e-06,\n",
       "       -1.55555728e-06,  5.00000556e-07,  2.22222469e-07, -1.16666796e-06,\n",
       "       -1.77777975e-06,  2.16666907e-06, -1.83333537e-06, -9.44445494e-07,\n",
       "        9.16667685e-06, -1.01111223e-05, -2.50000278e-06,  3.94444883e-06,\n",
       "        4.44444938e-06, -1.72222414e-06, -4.27778253e-06, -1.33333481e-06,\n",
       "        2.16666907e-06,  5.05556117e-06,  2.16666907e-06,  6.11111790e-07,\n",
       "       -1.05555673e-06,  1.27777920e-06,  1.38889043e-06, -2.77778086e-07])"
      ]
     },
     "execution_count": 49,
     "metadata": {},
     "output_type": "execute_result"
    }
   ],
   "source": [
    "bootdiffs[0].sum(1)"
   ]
  },
  {
   "cell_type": "code",
   "execution_count": 13,
   "id": "3bfaf93a-feaa-45bb-96f0-9d2ea0c72cce",
   "metadata": {},
   "outputs": [
    {
     "data": {
      "text/plain": [
       "0.36715834799993163"
      ]
     },
     "execution_count": 13,
     "metadata": {},
     "output_type": "execute_result"
    }
   ],
   "source": [
    "np.max(np.abs(Pb_spsa - P_spsa))"
   ]
  },
  {
   "cell_type": "code",
   "execution_count": 224,
   "id": "32f63fa7-ac7e-4bf6-a814-29526cd5d6dc",
   "metadata": {},
   "outputs": [],
   "source": [
    "@njit(parallel=False, cache=True)\n",
    "def getMlij_true(P, pi_b, u_dist, nStates, nActions):\n",
    "    Mlij_true = np.zeros((len(u_dist), nStates*nActions, nStates*nActions))\n",
    "    for u in range(P.shape[0]):\n",
    "        for s in range(P.shape[2]):\n",
    "            for a in range(P.shape[1]):\n",
    "                for sp in range(P.shape[3]):\n",
    "                    for ap in range(nActions):\n",
    "                        Mlij_true[u, int(s+a*nStates), int(sp+ap*nStates)] = P[u,a,s,sp] * pi_b[u, sp, ap]\n",
    "    return Mlij_true\n",
    "Mlij_true = getMlij_true(P, pi_b, u_dist, nStates, nActions)"
   ]
  },
  {
   "cell_type": "code",
   "execution_count": 227,
   "id": "31f0ba87-38c0-4bb8-8625-83d83c0393d9",
   "metadata": {},
   "outputs": [],
   "source": [
    "@njit(parallel=False, cache=True)\n",
    "def getOjs_true(P, pi_b, Mlij_true, u_dist, nStates, nActions):\n",
    "    slj = np.zeros((len(u_dist), nStates*nActions))\n",
    "    for u in range(slj.shape[0]):\n",
    "        for s in range(nStates):\n",
    "            for a in range(nActions):\n",
    "                slj[u, int(s+a*nStates)] = np.mean(x_dist) * pi_b[u, s, a]\n",
    "                \n",
    "    Ojs_true = np.zeros((nStates*nActions, nStates*nActions, nStates*nActions)) #j, i, k\n",
    "    for j in range(nStates*nActions):\n",
    "        for u in range(len(u_dist)):\n",
    "            for i in range(nStates*nActions):\n",
    "                for k in range(nStates*nActions):\n",
    "                    Ojs_true[j, i, k] += slj[u, i] * Mlij_true[u, i, j] * Mlij_true[u, j, k]\n",
    "    return Ojs_true\n",
    "Ojs_true = getOjs_true(P, pi_b, Mlij_true, u_dist, nStates, nActions)"
   ]
  },
  {
   "cell_type": "code",
   "execution_count": 228,
   "id": "12e131f2-e6ae-49b3-9b72-06c552e40cde",
   "metadata": {},
   "outputs": [
    {
     "data": {
      "text/plain": [
       "0.03957202667035149"
      ]
     },
     "execution_count": 228,
     "metadata": {},
     "output_type": "execute_result"
    }
   ],
   "source": [
    "np.max(np.abs(Ojs_true - np.array(Ojs)))"
   ]
  },
  {
   "cell_type": "code",
   "execution_count": 229,
   "id": "e7f5aa4a-bfdf-4300-8cbd-80cdb7a09754",
   "metadata": {},
   "outputs": [
    {
     "data": {
      "text/plain": [
       "[<matplotlib.lines.Line2D at 0x17e5549d0>]"
      ]
     },
     "execution_count": 229,
     "metadata": {},
     "output_type": "execute_result"
    },
    {
     "data": {
      "image/png": "[encoded data removed]",
      "text/plain": [
       "<Figure size 432x288 with 1 Axes>"
      ]
     },
     "metadata": {
      "needs_background": "light"
     },
     "output_type": "display_data"
    }
   ],
   "source": [
    "plt.plot([np.linalg.norm((Ojs_true[j]-Ojs[j]), ord=2) for j in range(nStates*nActions)])"
   ]
  },
  {
   "cell_type": "code",
   "execution_count": 19,
   "id": "99843e78-c5ed-4d92-b3a5-bd547f309fc3",
   "metadata": {},
   "outputs": [
    {
     "data": {
      "text/plain": [
       "<matplotlib.image.AxesImage at 0x17ed16f70>"
      ]
     },
     "execution_count": 19,
     "metadata": {},
     "output_type": "execute_result"
    },
    {
     "data": {
      "image/png": "[encoded data removed]",
      "text/plain": [
       "<Figure size 432x288 with 1 Axes>"
      ]
     },
     "metadata": {
      "needs_background": "light"
     },
     "output_type": "display_data"
    }
   ],
   "source": [
    "plt.imshow(np.abs(Ojs[15]-Ojs_true[15]))"
   ]
  },
  {
   "cell_type": "code",
   "execution_count": 21,
   "id": "0e13946b-ae4a-4117-ba6f-6111978a7eab",
   "metadata": {},
   "outputs": [
    {
     "data": {
      "text/plain": [
       "0.00402063784792823"
      ]
     },
     "execution_count": 21,
     "metadata": {},
     "output_type": "execute_result"
    }
   ],
   "source": [
    "np.sqrt((1/1000000) * np.log((2*(S**3)) / 0.05))"
   ]
  },
  {
   "cell_type": "code",
   "execution_count": 18,
   "id": "4a0eebe2-254b-4f3c-abe9-8c4f93c412f0",
   "metadata": {},
   "outputs": [
    {
     "data": {
      "text/plain": [
       "0.00016639"
      ]
     },
     "execution_count": 18,
     "metadata": {},
     "output_type": "execute_result"
    }
   ],
   "source": [
    "0.00016639 "
   ]
  },
  {
   "cell_type": "code",
   "execution_count": 19,
   "id": "bd950db3-d82f-4868-b36d-8a31c83130b5",
   "metadata": {},
   "outputs": [
    {
     "data": {
      "text/plain": [
       "0.012649110640673518"
      ]
     },
     "execution_count": 19,
     "metadata": {},
     "output_type": "execute_result"
    }
   ],
   "source": [
    "np.sqrt(16/100000)"
   ]
  },
  {
   "cell_type": "code",
   "execution_count": 20,
   "id": "2f38de0e-61d3-477a-a625-00f7bb261aa2",
   "metadata": {},
   "outputs": [
    {
     "data": {
      "text/plain": [
       "16.16552870419295"
      ]
     },
     "execution_count": 20,
     "metadata": {},
     "output_type": "execute_result"
    }
   ],
   "source": [
    "np.log((2*(S**3)) / 0.05)"
   ]
  },
  {
   "cell_type": "code",
   "execution_count": 120,
   "id": "44d61619-985c-4909-a4de-3fe6461abcd7",
   "metadata": {},
   "outputs": [],
   "source": [
    "Ojs = [Ojs_true[j,:,:] for j in range(nStates*nActions)]"
   ]
  },
  {
   "cell_type": "code",
   "execution_count": 22,
   "id": "bcf0b286-6975-4456-903b-f9284e5f2c25",
   "metadata": {},
   "outputs": [],
   "source": [
    "N_sa = np.zeros((nStates, nActions))\n",
    "for s,a,u,sp,r in data:\n",
    "    N_sa[int(s),int(a)] += 1"
   ]
  },
  {
   "cell_type": "code",
   "execution_count": 138,
   "id": "bc0a50e8-a2f0-4426-867a-b85e4daf3448",
   "metadata": {},
   "outputs": [
    {
     "name": "stdout",
     "output_type": "stream",
     "text": [
      "[6.43654974e-04 1.59166279e-04 2.41893537e-05 1.96632017e-05\n",
      " 1.74991815e-05]\n"
     ]
    },
    {
     "data": {
      "text/plain": [
       "(2, 64)"
      ]
     },
     "execution_count": 138,
     "metadata": {},
     "output_type": "execute_result"
    },
    {
     "data": {
      "image/png": "[encoded data removed]",
      "text/plain": [
       "<Figure size 432x288 with 1 Axes>"
      ]
     },
     "metadata": {
      "needs_background": "light"
     },
     "output_type": "display_data"
    }
   ],
   "source": [
    "def getPjpQjp(Ojs, L=L):\n",
    "    Pjps = []\n",
    "    Qjps = []\n",
    "    for idx, Oj in enumerate(Ojs):\n",
    "        Ujt, Sigj, Vj = scipy.linalg.svd(Oj, full_matrices=False, lapack_driver='gesvd') #np returns U S V.T = U.T S V for us\n",
    "        if idx == (5):\n",
    "            plt.hist(np.log(Sigj+1e-20), bins=len(Sigj))\n",
    "            print(Sigj[:5])\n",
    "        #print(np.sort(Sigj)[::-1])\n",
    "        Ujt = Ujt[:,:L]\n",
    "        Sigj = Sigj[:L]\n",
    "        Vj = Vj[:L,:]\n",
    "        Pjprime = Ujt.T # = Uj\n",
    "        Qjprime = np.diag(Sigj) @ Vj\n",
    "        Pjps.append(Pjprime)\n",
    "        Qjps.append(Qjprime)\n",
    "    return Pjps, Qjps\n",
    "\n",
    "Pjps, Qjps = getPjpQjp(Ojs)    \n",
    "Qjps[5].shape"
   ]
  },
  {
   "cell_type": "code",
   "execution_count": 139,
   "id": "bd9a8745-0d10-4684-94be-da0f808647eb",
   "metadata": {},
   "outputs": [
    {
     "data": {
      "image/png": "[encoded data removed]",
      "text/plain": [
       "<Figure size 432x288 with 1 Axes>"
      ]
     },
     "metadata": {
      "needs_background": "light"
     },
     "output_type": "display_data"
    }
   ],
   "source": [
    "#step 2: cokernel\n",
    "#the ith block of the jth blockdiag matrix is the jth column of -Qi\n",
    "#the third block of the 2nd matrix is the 2nd column of -Q3\n",
    "def getblockdiag(j, Qjps):\n",
    "    return scipy.linalg.block_diag(*[-Qjps[i][:,j][:,None] for i in range(S)])\n",
    "    \n",
    "plt.imshow(getblockdiag(4, Qjps) != 0, aspect='auto')\n",
    "Apprime = scipy.linalg.block_diag(*Pjps)\n",
    "Aqprime = np.hstack([getblockdiag(j, Qjps) for j in range(S)])\n",
    "Apqprime = np.vstack([Apprime, Aqprime])"
   ]
  },
  {
   "cell_type": "code",
   "execution_count": 140,
   "id": "a6ae5382-e780-40d8-a9f8-590a3d4a33f6",
   "metadata": {},
   "outputs": [
    {
     "data": {
      "text/plain": [
       "<matplotlib.image.AxesImage at 0x286d2b550>"
      ]
     },
     "execution_count": 140,
     "metadata": {},
     "output_type": "execute_result"
    },
    {
     "data": {
      "image/png": "[encoded data removed]",
      "text/plain": [
       "<Figure size 432x288 with 1 Axes>"
      ]
     },
     "metadata": {
      "needs_background": "light"
     },
     "output_type": "display_data"
    }
   ],
   "source": [
    "plt.imshow(Apqprime != 0, aspect='auto', cmap='tab20')"
   ]
  },
  {
   "cell_type": "code",
   "execution_count": 146,
   "id": "29505be2-db31-4a22-86b7-e9b7cf2cabab",
   "metadata": {},
   "outputs": [
    {
     "data": {
      "text/plain": [
       "(2, 256)"
      ]
     },
     "execution_count": 146,
     "metadata": {},
     "output_type": "execute_result"
    }
   ],
   "source": [
    "cokerprime = scipy.linalg.null_space(Apqprime.T, rcond=1.5e-5).T #.shape , rcond=1.5e-5\n",
    "#, rcond=1.1e-5\n",
    "cokerprime.shape"
   ]
  },
  {
   "cell_type": "code",
   "execution_count": 126,
   "id": "65cf4773-b5fc-4a7f-9c1b-71a162706bfe",
   "metadata": {},
   "outputs": [
    {
     "data": {
      "text/plain": [
       "(256, 4096)"
      ]
     },
     "execution_count": 126,
     "metadata": {},
     "output_type": "execute_result"
    }
   ],
   "source": [
    "Apqprime.shape"
   ]
  },
  {
   "cell_type": "code",
   "execution_count": 147,
   "id": "7fd0802b-5619-458e-97db-c326a4e128b7",
   "metadata": {},
   "outputs": [
    {
     "name": "stdout",
     "output_type": "stream",
     "text": [
      "[[0. 0.]\n",
      " [0. 0.]]\n"
     ]
    }
   ],
   "source": [
    "Yprimes = cokerprime[:,:L*S]\n",
    "Zprimes = cokerprime[:,L*S:]\n",
    "#check to see if reshape equivalent\n",
    "print(sum([Yprimes[:,L*test:L*test+L] - Yprimes.reshape(L, S, L).transpose(1, 0, 2)[test] for test in range(S)]))\n",
    "Yprimes = Yprimes.reshape(L, S, L).transpose(1, 0, 2)\n",
    "Zprimes = Zprimes.reshape(L, S, L).transpose(1, 0, 2)"
   ]
  },
  {
   "cell_type": "code",
   "execution_count": 180,
   "id": "f5d5820e-fc31-43fc-91dc-668f6ce4fcee",
   "metadata": {},
   "outputs": [
    {
     "data": {
      "text/plain": [
       "array([[-0.86575312, -0.50047131],\n",
       "       [-0.50047131,  0.86575312]])"
      ]
     },
     "execution_count": 180,
     "metadata": {},
     "output_type": "execute_result"
    }
   ],
   "source": [
    "#step 3: diagonalization\n",
    "ZpYpT = [Zprimes[j] @ Yprimes[j].T for j in range(S)]\n",
    "todiag = np.sum([np.linalg.pinv(ZpYpT[j]) @ ZpYpT[j+1] for j in range(S - 1)], axis=0)\n",
    "Rprime = np.linalg.eigh(todiag + todiag.T)[1].T\n",
    "Rprime"
   ]
  },
  {
   "cell_type": "code",
   "execution_count": 181,
   "id": "7d585a00-ae17-47f7-9023-959c815e20ad",
   "metadata": {},
   "outputs": [
    {
     "data": {
      "text/plain": [
       "(2, 64)"
      ]
     },
     "execution_count": 181,
     "metadata": {},
     "output_type": "execute_result"
    }
   ],
   "source": [
    "#step 4: two-trail matching\n",
    "# fix \\Pi to be the identity permutation\n",
    "#np.diag((Ojs[0] @ np.ones(S)) @ np.linalg.pinv(Rprime @ Yprimes[0] @ Pjps[0]))\n",
    "D = np.mean([np.diag((Ojs[j] @ np.ones(S)).T @ np.linalg.pinv(Rprime @ Yprimes[j] @ Pjps[j])) for j in range(S-1)], axis=0)\n",
    "R = D @ Rprime\n",
    "Yjs = [R @ Yprimes[j] for j in range(S)]\n",
    "Pjs = [Yjs[j] @ Pjps[j] for j in range(S)]\n",
    "Sjs = [np.diag(R @ ZpYpT[j] @ R.T) for j in range(S)]\n",
    "#Sjs\n",
    "Pjs[0].shape"
   ]
  },
  {
   "cell_type": "code",
   "execution_count": 212,
   "id": "d2d752d4-43ad-47ce-b03c-07f3c9750047",
   "metadata": {},
   "outputs": [
    {
     "data": {
      "text/plain": [
       "array([[1., 1., 1., 1., 1., 1., 1., 1., 1., 1., 1., 1., 1., 1., 1., 1.,\n",
       "        1., 1., 1., 1., 1., 1., 1., 1., 1., 1., 1., 1., 1., 1., 1., 1.,\n",
       "        1., 1., 1., 1., 1., 1., 1., 1., 1., 1., 1., 1., 1., 1., 1., 1.,\n",
       "        1., 1., 1., 1., 1., 1., 1., 1., 1., 1., 1., 1., 1., 1., 1., 1.],\n",
       "       [1., 1., 1., 1., 1., 1., 1., 1., 1., 1., 1., 1., 1., 1., 1., 1.,\n",
       "        1., 1., 1., 1., 1., 1., 1., 1., 1., 1., 1., 1., 1., 1., 1., 1.,\n",
       "        1., 1., 1., 1., 1., 1., 1., 1., 1., 1., 1., 1., 1., 1., 1., 1.,\n",
       "        1., 1., 1., 1., 1., 1., 1., 1., 1., 1., 1., 1., 1., 1., 1., 1.]])"
      ]
     },
     "execution_count": 212,
     "metadata": {},
     "output_type": "execute_result"
    }
   ],
   "source": [
    "Sil = np.abs(np.array(Sjs))\n",
    "@njit(parallel=False, cache=True)\n",
    "def getMlij(Sil, Pjs):\n",
    "    Mlij = np.zeros((L, S, S))\n",
    "    for l in range(L):\n",
    "        for i in range(S):\n",
    "            for j in range(S):\n",
    "                Mlij[l, i, j] = Pjs[j, l, i] / Sil[i,l]\n",
    "    Mlij = np.abs(Mlij)\n",
    "    for l in range(L):\n",
    "        for i in range(S):\n",
    "            norm = np.sum(Mlij[l,i,:])\n",
    "            for j in range(S):\n",
    "                Mlij[l,i,j] = Mlij[l,i,j]/norm\n",
    "    return Mlij\n",
    "\n",
    "models = getMlij(Sil, np.array(Pjs))\n",
    "np.sum(models, 2)"
   ]
  },
  {
   "cell_type": "code",
   "execution_count": 192,
   "id": "d172956e-6f48-4ba8-9b79-27e0ec0e28ff",
   "metadata": {},
   "outputs": [
    {
     "data": {
      "text/plain": [
       "0.64548"
      ]
     },
     "execution_count": 192,
     "metadata": {},
     "output_type": "execute_result"
    }
   ],
   "source": [
    "trajsa = (dataset[:,:,0] + dataset[:,:,1]*nStates).astype(int)\n",
    "logprobs = np.log(models[:, trajsa[:,:-1], trajsa[:,1:]]).sum(-1) + np.random.uniform(high=1e-7, size=(L, len(dataset)))\n",
    "max(np.mean(logprobs.argmax(0) == dataset[:,0,2]), np.mean(logprobs.argmax(0) != dataset[:,0,2]))"
   ]
  },
  {
   "cell_type": "code",
   "execution_count": 189,
   "id": "4ce8fe48-e3ab-4ecd-b990-c4a19f0b0521",
   "metadata": {},
   "outputs": [
    {
     "data": {
      "text/plain": [
       "<matplotlib.image.AxesImage at 0x28f97ee80>"
      ]
     },
     "execution_count": 189,
     "metadata": {},
     "output_type": "execute_result"
    },
    {
     "data": {
      "image/png": "[encoded data removed]",
      "text/plain": [
       "<Figure size 432x288 with 1 Axes>"
      ]
     },
     "metadata": {
      "needs_background": "light"
     },
     "output_type": "display_data"
    }
   ],
   "source": [
    "plt.imshow(np.abs(Mlij_true - getMlij(Sil, np.array(Pjs)))[0])"
   ]
  },
  {
   "cell_type": "code",
   "execution_count": 185,
   "id": "7866582f-85ce-4263-9fd2-4458c7e9b7d3",
   "metadata": {},
   "outputs": [
    {
     "data": {
      "text/plain": [
       "<matplotlib.image.AxesImage at 0x286ee9af0>"
      ]
     },
     "execution_count": 185,
     "metadata": {},
     "output_type": "execute_result"
    },
    {
     "data": {
      "image/png": "[encoded data removed]",
      "text/plain": [
       "<Figure size 432x288 with 1 Axes>"
      ]
     },
     "metadata": {
      "needs_background": "light"
     },
     "output_type": "display_data"
    }
   ],
   "source": [
    "plt.imshow(np.abs(getMlij(Sil, np.array(Pjs))[0] - getMlij(Sil, np.array(Pjs))[1]))"
   ]
  },
  {
   "cell_type": "code",
   "execution_count": 186,
   "id": "c1d18f53-f9bb-4139-bb2d-c84a9e603ec5",
   "metadata": {},
   "outputs": [
    {
     "data": {
      "text/plain": [
       "<matplotlib.image.AxesImage at 0x286f57460>"
      ]
     },
     "execution_count": 186,
     "metadata": {},
     "output_type": "execute_result"
    },
    {
     "data": {
      "image/png": "[encoded data removed]",
      "text/plain": [
       "<Figure size 432x288 with 1 Axes>"
      ]
     },
     "metadata": {
      "needs_background": "light"
     },
     "output_type": "display_data"
    }
   ],
   "source": [
    "plt.imshow(Mlij_true[1])"
   ]
  },
  {
   "cell_type": "code",
   "execution_count": 187,
   "id": "91f2f248-c1f7-4fbb-87c6-91c343e99e6b",
   "metadata": {},
   "outputs": [
    {
     "data": {
      "text/plain": [
       "<matplotlib.image.AxesImage at 0x286fbaee0>"
      ]
     },
     "execution_count": 187,
     "metadata": {},
     "output_type": "execute_result"
    },
    {
     "data": {
      "image/png": "[encoded data removed]",
      "text/plain": [
       "<Figure size 432x288 with 1 Axes>"
      ]
     },
     "metadata": {
      "needs_background": "light"
     },
     "output_type": "display_data"
    }
   ],
   "source": [
    "plt.imshow(getMlij(Sil, np.array(Pjs))[1])"
   ]
  },
  {
   "cell_type": "code",
   "execution_count": null,
   "id": "0690d374-a010-4201-a17f-93849cd19da9",
   "metadata": {},
   "outputs": [],
   "source": []
  }
 ],
 "metadata": {
  "kernelspec": {
   "display_name": "base",
   "language": "python",
   "name": "base"
  },
  "language_info": {
   "codemirror_mode": {
    "name": "ipython",
    "version": 3
   },
   "file_extension": ".py",
   "mimetype": "text/x-python",
   "name": "python",
   "nbconvert_exporter": "python",
   "pygments_lexer": "ipython3",
   "version": "3.9.13"
  }
 },
 "nbformat": 4,
 "nbformat_minor": 5
}
