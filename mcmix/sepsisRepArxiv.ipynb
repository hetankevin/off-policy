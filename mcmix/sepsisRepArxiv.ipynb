{
 "cells": [
  {
   "cell_type": "code",
   "execution_count": 2,
   "id": "f8087514-1220-4e1a-afed-61d0d9151a65",
   "metadata": {},
   "outputs": [
    {
     "name": "stderr",
     "output_type": "stream",
     "text": [
      "\n",
      "Bad key https in file matplotlibrc, line 2 ('https://gist.github.com/JonnyCBB/c464d302fefce4722fe6cf5f461114ea')\n",
      "You probably need to get an updated matplotlibrc file from\n",
      "https://github.com/matplotlib/matplotlib/blob/v3.6.3/matplotlibrc.template\n",
      "or from the matplotlib source distribution\n",
      "\n",
      "Bad key https in file matplotlibrc, line 2 ('https://gist.github.com/JonnyCBB/c464d302fefce4722fe6cf5f461114ea')\n",
      "You probably need to get an updated matplotlibrc file from\n",
      "https://github.com/matplotlib/matplotlib/blob/v3.6.3/matplotlibrc.template\n",
      "or from the matplotlib source distribution\n"
     ]
    },
    {
     "name": "stdout",
     "output_type": "stream",
     "text": [
      "[PhysicalDevice(name='/physical_device:GPU:0', device_type='GPU')]\n"
     ]
    }
   ],
   "source": [
    "# Imports \n",
    "\n",
    "\n",
    "import sys\n",
    "# setting path\n",
    "sys.path.append('../core')\n",
    "import os\n",
    "#os.environ[\"VECLIB_MAXIMUM_THREADS\"] = \"10\"\n",
    "\n",
    "from sklearn.decomposition import PCA\n",
    "\n",
    "#bread and butter\n",
    "import pandas as pd\n",
    "import numpy as np\n",
    "\n",
    "import matplotlib.pyplot as plt\n",
    "import seaborn as sns\n",
    "\n",
    "#machine learning library\n",
    "import sklearn\n",
    "import sklearn.manifold\n",
    "import sklearn.cluster\n",
    "import sklearn.decomposition\n",
    "\n",
    "#statistics\n",
    "import scipy\n",
    "from scipy.stats import rankdata, norm\n",
    "\n",
    "import numba\n",
    "from numba import jit, njit\n",
    "\n",
    "from tqdm import tqdm\n",
    "import copy\n",
    "import cvxpy as cp\n",
    "\n",
    "import matplotlib.pyplot as plt\n",
    "from mpl_toolkits.mplot3d import Axes3D\n",
    "%matplotlib inline\n",
    "#import numpy as tnp\n",
    "import warnings\n",
    "warnings.filterwarnings('ignore')\n",
    "\n",
    "# import dfply\n",
    "# from dfply import *\n",
    "# import ray\n",
    "# import datetime\n",
    "\n",
    "\n",
    "import os\n",
    "import warnings\n",
    "warnings.filterwarnings(\"ignore\")\n",
    "\n",
    "#import torch\n",
    "#torch.cuda.is_available()\n",
    "import tensorflow as tf\n",
    "print(tf.config.list_physical_devices('GPU'))\n",
    "\n",
    "import numpy as np\n",
    "import matplotlib\n",
    "import matplotlib.pyplot as plt\n",
    "from tqdm import tqdm\n",
    "import pandas as pd\n",
    "import scipy\n",
    "\n",
    "import confound_mdp\n",
    "import confound_ope\n",
    "import confound_env\n",
    "import copy\n",
    "import pickle\n",
    "\n",
    "from subspace import *\n",
    "from clustering import *\n",
    "from emalg import *\n",
    "from helpers import *\n",
    "\n",
    "%matplotlib inline\n",
    "plt.style.use('matplotlibrc')"
   ]
  },
  {
   "cell_type": "markdown",
   "id": "cd8db023-6d82-402f-9571-b3d06754906a",
   "metadata": {},
   "source": [
    "Simplifications to Sepsis: (1) Rewards no longer dependent on diabetes or no diabetes (averaged across them), (2) Initial state distribution now common across diabetes/no diabetes (averaged across them. But should we make this even?).\n",
    "\n",
    "In computing the behavior policy reward, we don't use a truncated state representation. In evaluating the value estimators, we do."
   ]
  },
  {
   "cell_type": "code",
   "execution_count": 3,
   "id": "2488600e-77b7-410a-bb8c-d159a01ff800",
   "metadata": {},
   "outputs": [
    {
     "data": {
      "text/plain": [
       "(143, 0)"
      ]
     },
     "execution_count": 3,
     "metadata": {},
     "output_type": "execute_result"
    }
   ],
   "source": [
    "def idx_to_trunc(state_idx, hideGlucose=True, sa=False):\n",
    "    \"\"\"idx_to_trunc\n",
    "\n",
    "    The state index is determined by using \"bit\" arithmetic, with the\n",
    "    complication that not every state is binary\n",
    "\n",
    "    :param state_idx: Given index (720)\n",
    "    \n",
    "    Returns a truncated state where the \"action states\", \n",
    "    antibiotics, vasopressors and ventilators, are omitted\n",
    "    \"\"\"\n",
    "    term_base = 720/3 #starts with heart rate\n",
    "\n",
    "    # Start with the given state index\n",
    "    mod_idx = state_idx\n",
    "\n",
    "    hr_state = np.floor(mod_idx/term_base).astype(int)\n",
    "\n",
    "    mod_idx %= term_base\n",
    "    term_base /= 3\n",
    "    sysbp_state = np.floor(mod_idx/term_base).astype(int)\n",
    "\n",
    "    mod_idx %= term_base\n",
    "    term_base /= 2\n",
    "    percoxyg_state = np.floor(mod_idx/term_base).astype(int)\n",
    "\n",
    "    mod_idx %= term_base\n",
    "    term_base /= 5\n",
    "    glucose_state = np.floor(mod_idx/term_base).astype(int)\n",
    "    \n",
    "    categ_num = np.array([3,3,2,5])\n",
    "    state_categs = [\n",
    "            hr_state,\n",
    "            sysbp_state,\n",
    "            percoxyg_state,\n",
    "            glucose_state]\n",
    "    if hideGlucose:\n",
    "        mod_idx %= term_base\n",
    "        term_base /= 2\n",
    "        antibiotic_state = np.floor(mod_idx/term_base).astype(int)\n",
    "\n",
    "        mod_idx %= term_base\n",
    "        term_base /= 2\n",
    "        vaso_state = np.floor(mod_idx/term_base).astype(int)\n",
    "\n",
    "        mod_idx %= term_base\n",
    "        term_base /= 2\n",
    "        vent_state = np.floor(mod_idx/term_base).astype(int)\n",
    "        categ_num = np.array([3,3,2,2,2,2])\n",
    "        state_categs = [\n",
    "                hr_state,\n",
    "                sysbp_state,\n",
    "                percoxyg_state,\n",
    "                antibiotic_state,\n",
    "                vaso_state,\n",
    "                vent_state]\n",
    "    sum_idx = 0\n",
    "    prev_base = 1\n",
    "    for i in range(len(state_categs)):\n",
    "        idx = len(state_categs) - 1 - i\n",
    "        sum_idx += prev_base*state_categs[idx]\n",
    "        prev_base *= categ_num[idx]\n",
    "        \n",
    "    if sa:\n",
    "        mod_idx %= term_base\n",
    "        term_base /= 2\n",
    "        antibiotic_state = np.floor(mod_idx/term_base).astype(int)\n",
    "\n",
    "        mod_idx %= term_base\n",
    "        term_base /= 2\n",
    "        vaso_state = np.floor(mod_idx/term_base).astype(int)\n",
    "\n",
    "        mod_idx %= term_base\n",
    "        term_base /= 2\n",
    "        vent_state = np.floor(mod_idx/term_base).astype(int)\n",
    "        action = 4*antibiotic_state + 2*vaso_state + 2*vent_state\n",
    "        return sum_idx, action\n",
    "    else:\n",
    "        return sum_idx\n",
    "\n",
    "idx_to_trunc(719, sa=True)"
   ]
  },
  {
   "cell_type": "code",
   "execution_count": 13,
   "id": "3b2654f8-b2f5-428c-b232-8a6ef40e956f",
   "metadata": {},
   "outputs": [
    {
     "data": {
      "text/plain": [
       "(17, 8)"
      ]
     },
     "execution_count": 13,
     "metadata": {},
     "output_type": "execute_result"
    }
   ],
   "source": [
    "idx_to_trunc(719, sa=True)"
   ]
  },
  {
   "cell_type": "code",
   "execution_count": 7,
   "id": "ced854a4-8517-4496-a6b4-557cd9e7a676",
   "metadata": {},
   "outputs": [
    {
     "ename": "NameError",
     "evalue": "name 'P' is not defined",
     "output_type": "error",
     "traceback": [
      "\u001b[0;31m---------------------------------------------------------------------------\u001b[0m",
      "\u001b[0;31mNameError\u001b[0m                                 Traceback (most recent call last)",
      "\u001b[0;32m/tmp/ipykernel_274091/2498705430.py\u001b[0m in \u001b[0;36m<module>\u001b[0;34m\u001b[0m\n\u001b[1;32m      1\u001b[0m \u001b[0;32mimport\u001b[0m \u001b[0mmdptoolbox\u001b[0m\u001b[0;34m\u001b[0m\u001b[0;34m\u001b[0m\u001b[0m\n\u001b[0;32m----> 2\u001b[0;31m \u001b[0mvi\u001b[0m \u001b[0;34m=\u001b[0m \u001b[0mmdptoolbox\u001b[0m\u001b[0;34m.\u001b[0m\u001b[0mmdp\u001b[0m\u001b[0;34m.\u001b[0m\u001b[0mValueIteration\u001b[0m\u001b[0;34m(\u001b[0m\u001b[0mP\u001b[0m\u001b[0;34m[\u001b[0m\u001b[0;36m1\u001b[0m\u001b[0;34m]\u001b[0m\u001b[0;34m,\u001b[0m \u001b[0mR_sa\u001b[0m\u001b[0;34m,\u001b[0m \u001b[0mgamma\u001b[0m\u001b[0;34m)\u001b[0m\u001b[0;34m\u001b[0m\u001b[0;34m\u001b[0m\u001b[0m\n\u001b[0m\u001b[1;32m      3\u001b[0m \u001b[0mvi\u001b[0m\u001b[0;34m.\u001b[0m\u001b[0mrun\u001b[0m\u001b[0;34m(\u001b[0m\u001b[0;34m)\u001b[0m\u001b[0;34m\u001b[0m\u001b[0;34m\u001b[0m\u001b[0m\n\u001b[1;32m      4\u001b[0m \u001b[0mnp\u001b[0m\u001b[0;34m.\u001b[0m\u001b[0marray\u001b[0m\u001b[0;34m(\u001b[0m\u001b[0mvi\u001b[0m\u001b[0;34m.\u001b[0m\u001b[0mV\u001b[0m\u001b[0;34m)\u001b[0m \u001b[0;34m@\u001b[0m \u001b[0mx_dist\u001b[0m\u001b[0;34m\u001b[0m\u001b[0;34m\u001b[0m\u001b[0m\n",
      "\u001b[0;31mNameError\u001b[0m: name 'P' is not defined"
     ]
    }
   ],
   "source": [
    "import mdptoolbox\n",
    "vi = mdptoolbox.mdp.ValueIteration(P[1], R_sa, gamma)\n",
    "vi.run()\n",
    "np.array(vi.V) @ x_dist"
   ]
  },
  {
   "cell_type": "code",
   "execution_count": 10,
   "id": "d11ce484-7540-4422-8055-5a97495e9912",
   "metadata": {},
   "outputs": [
    {
     "name": "stderr",
     "output_type": "stream",
     "text": [
      "100%|██████████| 8/8 [00:45<00:00,  5.75s/it]\n",
      "100%|██████████| 8/8 [00:45<00:00,  5.74s/it]\n"
     ]
    }
   ],
   "source": [
    "def truncateP(P, nStates, nActions):\n",
    "    truncP = np.zeros((P.shape[0], nActions, nStates, nStates)) #U, A, S, Sp\n",
    "    for k in range(P.shape[0]):\n",
    "        for a in tqdm(range(P.shape[1])):\n",
    "            for s in range(P.shape[2]):\n",
    "                for sp in range(P.shape[3]):\n",
    "                    truncP[k, a, idx_to_trunc(s, hideGlucose=hideGlucose), \n",
    "                           idx_to_trunc(sp, hideGlucose=hideGlucose)] += P[k, a, s, sp]\n",
    "                truncP[k, a, idx_to_trunc(s, hideGlucose=hideGlucose), \n",
    "                       idx_to_trunc(sp, hideGlucose=hideGlucose)] /= truncP[k, a, \n",
    "                                                                            idx_to_trunc(s, hideGlucose=hideGlucose), \n",
    "                                                                            idx_to_trunc(sp, hideGlucose=hideGlucose)]\n",
    "    return truncP\n",
    "truncP = truncateP(P, nStates, nActions)"
   ]
  },
  {
   "cell_type": "code",
   "execution_count": 156,
   "id": "cb8b5437-01ba-477c-b359-d22b01798666",
   "metadata": {},
   "outputs": [
    {
     "data": {
      "text/plain": [
       "3.7126796552802297"
      ]
     },
     "execution_count": 156,
     "metadata": {},
     "output_type": "execute_result"
    }
   ],
   "source": [
    "import mdptoolbox\n",
    "def getValue(Phat_ksa, Rhat_sa, startweights, priorclass, K, gamma):\n",
    "    val = 0\n",
    "    for k in range(K):\n",
    "        vi = mdptoolbox.mdp.ValueIteration(Phat_ksa[k].transpose(1,0,2), Rhat_sa, gamma)\n",
    "        vi.run()\n",
    "        val += priorclass[k] * (np.array(vi.V) @ startweights[k])\n",
    "    return val\n",
    "\n",
    "#THIS IS NOT OPE. THIS IS FOR OPTIMAL POLICY ON ESTIMATED SYSTEM\n",
    "getValue(modelEstims[1], Rhat_asp, startweights, priorclass, K, gamma)\n",
    "#SIMULATE ESTIMATED POLICY ON ACTUAL TRUNCATED MDP TO FIND TRUE POLICY VALUE"
   ]
  },
  {
   "cell_type": "code",
   "execution_count": 158,
   "id": "3122ebab-566d-4991-b12c-0775b549e017",
   "metadata": {},
   "outputs": [
    {
     "data": {
      "text/plain": [
       "[<matplotlib.lines.Line2D at 0x7fd8fc7a3520>]"
      ]
     },
     "execution_count": 158,
     "metadata": {},
     "output_type": "execute_result"
    },
    {
     "data": {
      "image/png": "[encoded data removed]",
      "text/plain": [
       "<Figure size 640x480 with 1 Axes>"
      ]
     },
     "metadata": {},
     "output_type": "display_data"
    }
   ],
   "source": [
    "plt.plot(horizons,\n",
    "         [getValue(modelEstims[i], Rhat_asp, \n",
    "                   startweights, priorclass, K, gamma) for i in range(len(modelEstims))])"
   ]
  },
  {
   "cell_type": "code",
   "execution_count": 12,
   "id": "c0010cde-0a1b-4de1-8826-cce22659554f",
   "metadata": {},
   "outputs": [],
   "source": [
    "d_min = np.minimum(getN_sa(dataset[dataset[:,:,2]==0], nStates, nActions, burnin=0, reshape=False)/len(dataset[dataset[:,:,2]==0]),\n",
    "           getN_sa(dataset[dataset[:,:,2]==1], nStates, nActions, burnin=0, reshape=False)/len(dataset[dataset[:,:,2]==1]))\n"
   ]
  },
  {
   "cell_type": "code",
   "execution_count": 181,
   "id": "9c9d1e25-2771-42eb-95a1-98e0005db72d",
   "metadata": {},
   "outputs": [
    {
     "data": {
      "text/plain": [
       "<matplotlib.collections.PathCollection at 0x7fd8fc54b100>"
      ]
     },
     "execution_count": 181,
     "metadata": {},
     "output_type": "execute_result"
    },
    {
     "data": {
      "image/png": "[encoded data removed]",
      "text/plain": [
       "<Figure size 640x480 with 1 Axes>"
      ]
     },
     "metadata": {},
     "output_type": "display_data"
    }
   ],
   "source": [
    "plt.scatter(d_min.flatten(), np.linalg.norm((truncP[0]/8)-(truncP[1]/8), axis=-1).flatten())"
   ]
  },
  {
   "cell_type": "code",
   "execution_count": 14,
   "id": "95f28a3c-ffbc-4e47-b4e7-d0516e8b60f2",
   "metadata": {},
   "outputs": [
    {
     "data": {
      "text/plain": [
       "<matplotlib.collections.PathCollection at 0x7f1d6651a550>"
      ]
     },
     "execution_count": 14,
     "metadata": {},
     "output_type": "execute_result"
    },
    {
     "data": {
      "image/png": "[encoded data removed]",
      "text/plain": [
       "<Figure size 640x480 with 1 Axes>"
      ]
     },
     "metadata": {},
     "output_type": "display_data"
    }
   ],
   "source": [
    "## GLUCOSE HIDDEN, ACTIONS NOT TRUNCATED\n",
    "plt.scatter(d_min.flatten(), np.linalg.norm((truncP[0]/8)-(truncP[1]/8), axis=-1).flatten())"
   ]
  },
  {
   "cell_type": "code",
   "execution_count": 23,
   "id": "46f67728-dadb-4789-a48c-abb5f3466381",
   "metadata": {},
   "outputs": [
    {
     "name": "stdout",
     "output_type": "stream",
     "text": [
      "[1, 2, 1, 1, 0, 1]\n"
     ]
    },
    {
     "data": {
      "text/plain": [
       "93"
      ]
     },
     "execution_count": 23,
     "metadata": {},
     "output_type": "execute_result"
    }
   ],
   "source": [
    "idx_to_trunc(93)"
   ]
  },
  {
   "cell_type": "code",
   "execution_count": 23,
   "id": "0536ce4d-88b7-4e9b-a606-57d7cae83dd3",
   "metadata": {},
   "outputs": [
    {
     "data": {
      "text/plain": [
       "<matplotlib.collections.PathCollection at 0x7f19c5bc0610>"
      ]
     },
     "execution_count": 23,
     "metadata": {},
     "output_type": "execute_result"
    },
    {
     "data": {
      "image/png": "[encoded data removed]",
      "text/plain": [
       "<Figure size 640x480 with 1 Axes>"
      ]
     },
     "metadata": {},
     "output_type": "display_data"
    }
   ],
   "source": [
    "plt.scatter(d_min.flatten(), np.linalg.norm((truncP[0]/8)-(truncP[1]/8), axis=-1).flatten())"
   ]
  },
  {
   "cell_type": "code",
   "execution_count": 180,
   "id": "fc87e2d2-af37-4dcd-bdfc-fe6ea4f8c807",
   "metadata": {},
   "outputs": [
    {
     "data": {
      "text/plain": [
       "(720,)"
      ]
     },
     "execution_count": 180,
     "metadata": {},
     "output_type": "execute_result"
    }
   ],
   "source": [
    "np.linalg.norm((truncP[0]/8)-(truncP[1]/8), axis=-1).flatten().shape"
   ]
  },
  {
   "cell_type": "code",
   "execution_count": 173,
   "id": "6ee7709a-a606-4853-8877-6cd6dde3a189",
   "metadata": {},
   "outputs": [
    {
     "data": {
      "text/plain": [
       "array([[[8., 8., 8., ..., 8., 8., 8.],\n",
       "        [8., 8., 8., ..., 8., 8., 8.],\n",
       "        [8., 8., 8., ..., 8., 8., 8.],\n",
       "        ...,\n",
       "        [8., 8., 8., ..., 8., 8., 8.],\n",
       "        [8., 8., 8., ..., 8., 8., 8.],\n",
       "        [8., 8., 8., ..., 8., 8., 8.]],\n",
       "\n",
       "       [[8., 8., 8., ..., 8., 8., 8.],\n",
       "        [8., 8., 8., ..., 8., 8., 8.],\n",
       "        [8., 8., 8., ..., 8., 8., 8.],\n",
       "        ...,\n",
       "        [8., 8., 8., ..., 8., 8., 8.],\n",
       "        [8., 8., 8., ..., 8., 8., 8.],\n",
       "        [8., 8., 8., ..., 8., 8., 8.]]])"
      ]
     },
     "execution_count": 173,
     "metadata": {},
     "output_type": "execute_result"
    }
   ],
   "source": [
    "truncP.sum(-1)/8"
   ]
  },
  {
   "cell_type": "code",
   "execution_count": 143,
   "id": "d3693bb0-4f86-4109-b8b2-1429a5067d01",
   "metadata": {},
   "outputs": [
    {
     "data": {
      "text/plain": [
       "1.61692525280163"
      ]
     },
     "execution_count": 143,
     "metadata": {},
     "output_type": "execute_result"
    }
   ],
   "source": [
    "getValue(truncP.transpose(0,2,1,3)/8, Rhat_asp, startweights, u_dist, K, gamma) #THIS IS NOT OPE. THIS IS FOR OPTIMAL POLICY"
   ]
  },
  {
   "cell_type": "code",
   "execution_count": 150,
   "id": "039f2e47-a2c9-4893-81d0-491bfe9f27b0",
   "metadata": {},
   "outputs": [
    {
     "data": {
      "text/plain": [
       "7.600129870820191"
      ]
     },
     "execution_count": 150,
     "metadata": {},
     "output_type": "execute_result"
    }
   ],
   "source": [
    "np.linalg.norm(truncP.transpose(0,2,1,3) - Phat_ksa, axis=-1).max()"
   ]
  },
  {
   "cell_type": "code",
   "execution_count": 162,
   "id": "8d36812b-4f31-468b-8f7c-904319b0fd5e",
   "metadata": {},
   "outputs": [
    {
     "data": {
      "text/plain": [
       "1.7721332099823068"
      ]
     },
     "execution_count": 162,
     "metadata": {},
     "output_type": "execute_result"
    }
   ],
   "source": [
    "getValue(P.transpose(0,2,1,3), R, [x_dist, x_dist], u_dist, K, gamma)"
   ]
  },
  {
   "cell_type": "code",
   "execution_count": null,
   "id": "8517d82c-7275-46c3-9171-6dbb7a990fe0",
   "metadata": {},
   "outputs": [],
   "source": [
    "#FOR OPE, SIMULATE "
   ]
  },
  {
   "cell_type": "code",
   "execution_count": 122,
   "id": "59e2b0a5-86ad-4e64-ae6a-8c578a36f7d2",
   "metadata": {},
   "outputs": [
    {
     "data": {
      "text/plain": [
       "array([[[0., 0., 0., ..., 0., 0., 0.],\n",
       "        [0., 0., 0., ..., 0., 0., 0.],\n",
       "        [0., 0., 0., ..., 0., 0., 0.],\n",
       "        ...,\n",
       "        [0., 1., 1., ..., 0., 1., 1.],\n",
       "        [0., 0., 0., ..., 0., 1., 0.],\n",
       "        [0., 0., 0., ..., 0., 1., 0.]],\n",
       "\n",
       "       [[0., 0., 0., ..., 0., 0., 0.],\n",
       "        [0., 0., 0., ..., 0., 0., 0.],\n",
       "        [0., 0., 0., ..., 0., 0., 0.],\n",
       "        ...,\n",
       "        [1., 1., 1., ..., 1., 1., 1.],\n",
       "        [0., 0., 1., ..., 1., 1., 1.],\n",
       "        [0., 0., 1., ..., 1., 1., 0.]]])"
      ]
     },
     "execution_count": 122,
     "metadata": {},
     "output_type": "execute_result"
    }
   ],
   "source": [
    "np.array([getPhat(dataset[dataset[:,:,2]==0], nStates, nActions),\n",
    " getPhat(dataset[dataset[:,:,2]==1], nStates, nActions)]).sum(-1)"
   ]
  },
  {
   "cell_type": "code",
   "execution_count": null,
   "id": "a09b9cc7-3667-47b1-8a5f-0dc7b825b00b",
   "metadata": {},
   "outputs": [
    {
     "ename": "StochasticError",
     "evalue": "'PyMDPToolbox - The transition probability matrix is not stochastic.'",
     "output_type": "error",
     "traceback": [
      "\u001b[0;31m---------------------------------------------------------------------------\u001b[0m",
      "\u001b[0;31mStochasticError\u001b[0m                           Traceback (most recent call last)",
      "\u001b[0;32m/tmp/ipykernel_62260/144176659.py\u001b[0m in \u001b[0;36m<module>\u001b[0;34m\u001b[0m\n\u001b[1;32m      4\u001b[0m     \u001b[0mPhat\u001b[0m\u001b[0;34m[\u001b[0m\u001b[0mnp\u001b[0m\u001b[0;34m.\u001b[0m\u001b[0misnan\u001b[0m\u001b[0;34m(\u001b[0m\u001b[0mPhat\u001b[0m\u001b[0;34m)\u001b[0m\u001b[0;34m]\u001b[0m \u001b[0;34m=\u001b[0m \u001b[0;36m0\u001b[0m\u001b[0;34m\u001b[0m\u001b[0;34m\u001b[0m\u001b[0m\n\u001b[1;32m      5\u001b[0m     \u001b[0;32mreturn\u001b[0m \u001b[0mPhat\u001b[0m\u001b[0;34m\u001b[0m\u001b[0;34m\u001b[0m\u001b[0m\n\u001b[0;32m----> 6\u001b[0;31m getValue([getPhat(dataset[dataset[:,:,2]==0], nStates, nActions),\n\u001b[0m\u001b[1;32m      7\u001b[0m  getPhat(dataset[dataset[:,:,2]==1], nStates, nActions)],\n\u001b[1;32m      8\u001b[0m          Rhat_sa, startweights, priorclass, K, gamma)\n",
      "\u001b[0;32m/tmp/ipykernel_62260/3384298056.py\u001b[0m in \u001b[0;36mgetValue\u001b[0;34m(Phat_ksa, Rhat_sa, startweights, priorclass, K, gamma)\u001b[0m\n\u001b[1;32m      3\u001b[0m     \u001b[0mval\u001b[0m \u001b[0;34m=\u001b[0m \u001b[0;36m0\u001b[0m\u001b[0;34m\u001b[0m\u001b[0;34m\u001b[0m\u001b[0m\n\u001b[1;32m      4\u001b[0m     \u001b[0;32mfor\u001b[0m \u001b[0mk\u001b[0m \u001b[0;32min\u001b[0m \u001b[0mrange\u001b[0m\u001b[0;34m(\u001b[0m\u001b[0mK\u001b[0m\u001b[0;34m)\u001b[0m\u001b[0;34m:\u001b[0m\u001b[0;34m\u001b[0m\u001b[0;34m\u001b[0m\u001b[0m\n\u001b[0;32m----> 5\u001b[0;31m         \u001b[0mvi\u001b[0m \u001b[0;34m=\u001b[0m \u001b[0mmdptoolbox\u001b[0m\u001b[0;34m.\u001b[0m\u001b[0mmdp\u001b[0m\u001b[0;34m.\u001b[0m\u001b[0mValueIteration\u001b[0m\u001b[0;34m(\u001b[0m\u001b[0mPhat_ksa\u001b[0m\u001b[0;34m[\u001b[0m\u001b[0mk\u001b[0m\u001b[0;34m]\u001b[0m\u001b[0;34m.\u001b[0m\u001b[0mtranspose\u001b[0m\u001b[0;34m(\u001b[0m\u001b[0;36m1\u001b[0m\u001b[0;34m,\u001b[0m\u001b[0;36m0\u001b[0m\u001b[0;34m,\u001b[0m\u001b[0;36m2\u001b[0m\u001b[0;34m)\u001b[0m\u001b[0;34m,\u001b[0m \u001b[0mRhat_sa\u001b[0m\u001b[0;34m,\u001b[0m \u001b[0mgamma\u001b[0m\u001b[0;34m)\u001b[0m\u001b[0;34m\u001b[0m\u001b[0;34m\u001b[0m\u001b[0m\n\u001b[0m\u001b[1;32m      6\u001b[0m         \u001b[0mvi\u001b[0m\u001b[0;34m.\u001b[0m\u001b[0mrun\u001b[0m\u001b[0;34m(\u001b[0m\u001b[0;34m)\u001b[0m\u001b[0;34m\u001b[0m\u001b[0;34m\u001b[0m\u001b[0m\n\u001b[1;32m      7\u001b[0m         \u001b[0mval\u001b[0m \u001b[0;34m+=\u001b[0m \u001b[0mpriorclass\u001b[0m\u001b[0;34m[\u001b[0m\u001b[0mk\u001b[0m\u001b[0;34m]\u001b[0m \u001b[0;34m*\u001b[0m \u001b[0;34m(\u001b[0m\u001b[0mnp\u001b[0m\u001b[0;34m.\u001b[0m\u001b[0marray\u001b[0m\u001b[0;34m(\u001b[0m\u001b[0mvi\u001b[0m\u001b[0;34m.\u001b[0m\u001b[0mV\u001b[0m\u001b[0;34m)\u001b[0m \u001b[0;34m@\u001b[0m \u001b[0mstartweights\u001b[0m\u001b[0;34m[\u001b[0m\u001b[0mk\u001b[0m\u001b[0;34m]\u001b[0m\u001b[0;34m)\u001b[0m\u001b[0;34m\u001b[0m\u001b[0;34m\u001b[0m\u001b[0m\n",
      "\u001b[0;32m~/anaconda3/lib/python3.9/site-packages/mdptoolbox/mdp.py\u001b[0m in \u001b[0;36m__init__\u001b[0;34m(self, transitions, reward, discount, epsilon, max_iter, initial_value)\u001b[0m\n\u001b[1;32m   1295\u001b[0m         \u001b[0;31m# Initialise a value iteration MDP.\u001b[0m\u001b[0;34m\u001b[0m\u001b[0;34m\u001b[0m\u001b[0m\n\u001b[1;32m   1296\u001b[0m \u001b[0;34m\u001b[0m\u001b[0m\n\u001b[0;32m-> 1297\u001b[0;31m         \u001b[0mMDP\u001b[0m\u001b[0;34m.\u001b[0m\u001b[0m__init__\u001b[0m\u001b[0;34m(\u001b[0m\u001b[0mself\u001b[0m\u001b[0;34m,\u001b[0m \u001b[0mtransitions\u001b[0m\u001b[0;34m,\u001b[0m \u001b[0mreward\u001b[0m\u001b[0;34m,\u001b[0m \u001b[0mdiscount\u001b[0m\u001b[0;34m,\u001b[0m \u001b[0mepsilon\u001b[0m\u001b[0;34m,\u001b[0m \u001b[0mmax_iter\u001b[0m\u001b[0;34m)\u001b[0m\u001b[0;34m\u001b[0m\u001b[0;34m\u001b[0m\u001b[0m\n\u001b[0m\u001b[1;32m   1298\u001b[0m \u001b[0;34m\u001b[0m\u001b[0m\n\u001b[1;32m   1299\u001b[0m         \u001b[0;31m# initialization of optional arguments\u001b[0m\u001b[0;34m\u001b[0m\u001b[0;34m\u001b[0m\u001b[0m\n",
      "\u001b[0;32m~/anaconda3/lib/python3.9/site-packages/mdptoolbox/mdp.py\u001b[0m in \u001b[0;36m__init__\u001b[0;34m(self, transitions, reward, discount, epsilon, max_iter)\u001b[0m\n\u001b[1;32m    191\u001b[0m         \u001b[0;31m# we run a check on P and R to make sure they are describing an MDP. If\u001b[0m\u001b[0;34m\u001b[0m\u001b[0;34m\u001b[0m\u001b[0m\n\u001b[1;32m    192\u001b[0m         \u001b[0;31m# an exception isn't raised then they are assumed to be correct.\u001b[0m\u001b[0;34m\u001b[0m\u001b[0;34m\u001b[0m\u001b[0m\n\u001b[0;32m--> 193\u001b[0;31m         \u001b[0m_util\u001b[0m\u001b[0;34m.\u001b[0m\u001b[0mcheck\u001b[0m\u001b[0;34m(\u001b[0m\u001b[0mtransitions\u001b[0m\u001b[0;34m,\u001b[0m \u001b[0mreward\u001b[0m\u001b[0;34m)\u001b[0m\u001b[0;34m\u001b[0m\u001b[0;34m\u001b[0m\u001b[0m\n\u001b[0m\u001b[1;32m    194\u001b[0m         \u001b[0mself\u001b[0m\u001b[0;34m.\u001b[0m\u001b[0mS\u001b[0m\u001b[0;34m,\u001b[0m \u001b[0mself\u001b[0m\u001b[0;34m.\u001b[0m\u001b[0mA\u001b[0m \u001b[0;34m=\u001b[0m \u001b[0m_computeDimensions\u001b[0m\u001b[0;34m(\u001b[0m\u001b[0mtransitions\u001b[0m\u001b[0;34m)\u001b[0m\u001b[0;34m\u001b[0m\u001b[0;34m\u001b[0m\u001b[0m\n\u001b[1;32m    195\u001b[0m         \u001b[0mself\u001b[0m\u001b[0;34m.\u001b[0m\u001b[0mP\u001b[0m \u001b[0;34m=\u001b[0m \u001b[0mself\u001b[0m\u001b[0;34m.\u001b[0m\u001b[0m_computeTransition\u001b[0m\u001b[0;34m(\u001b[0m\u001b[0mtransitions\u001b[0m\u001b[0;34m)\u001b[0m\u001b[0;34m\u001b[0m\u001b[0;34m\u001b[0m\u001b[0m\n",
      "\u001b[0;32m~/anaconda3/lib/python3.9/site-packages/mdptoolbox/util.py\u001b[0m in \u001b[0;36mcheck\u001b[0;34m(P, R)\u001b[0m\n\u001b[1;32m    292\u001b[0m     \u001b[0;31m# Check that the P's are square, stochastic and non-negative\u001b[0m\u001b[0;34m\u001b[0m\u001b[0;34m\u001b[0m\u001b[0m\n\u001b[1;32m    293\u001b[0m     \u001b[0;32mfor\u001b[0m \u001b[0maa\u001b[0m \u001b[0;32min\u001b[0m \u001b[0mrange\u001b[0m\u001b[0;34m(\u001b[0m\u001b[0maP\u001b[0m\u001b[0;34m)\u001b[0m\u001b[0;34m:\u001b[0m\u001b[0;34m\u001b[0m\u001b[0;34m\u001b[0m\u001b[0m\n\u001b[0;32m--> 294\u001b[0;31m         \u001b[0mcheckSquareStochastic\u001b[0m\u001b[0;34m(\u001b[0m\u001b[0mP\u001b[0m\u001b[0;34m[\u001b[0m\u001b[0maa\u001b[0m\u001b[0;34m]\u001b[0m\u001b[0;34m)\u001b[0m\u001b[0;34m\u001b[0m\u001b[0;34m\u001b[0m\u001b[0m\n\u001b[0m\u001b[1;32m    295\u001b[0m \u001b[0;34m\u001b[0m\u001b[0m\n\u001b[1;32m    296\u001b[0m \u001b[0;32mdef\u001b[0m \u001b[0mgetSpan\u001b[0m\u001b[0;34m(\u001b[0m\u001b[0mW\u001b[0m\u001b[0;34m)\u001b[0m\u001b[0;34m:\u001b[0m\u001b[0;34m\u001b[0m\u001b[0;34m\u001b[0m\u001b[0m\n",
      "\u001b[0;32m~/anaconda3/lib/python3.9/site-packages/mdptoolbox/util.py\u001b[0m in \u001b[0;36mcheckSquareStochastic\u001b[0;34m(matrix)\u001b[0m\n\u001b[1;32m    202\u001b[0m         \u001b[0;32mraise\u001b[0m \u001b[0m_error\u001b[0m\u001b[0;34m.\u001b[0m\u001b[0mSquareError\u001b[0m\u001b[0;34m\u001b[0m\u001b[0;34m\u001b[0m\u001b[0m\n\u001b[1;32m    203\u001b[0m     \u001b[0;32mif\u001b[0m \u001b[0;32mnot\u001b[0m \u001b[0misStochastic\u001b[0m\u001b[0;34m(\u001b[0m\u001b[0mmatrix\u001b[0m\u001b[0;34m)\u001b[0m\u001b[0;34m:\u001b[0m\u001b[0;34m\u001b[0m\u001b[0;34m\u001b[0m\u001b[0m\n\u001b[0;32m--> 204\u001b[0;31m         \u001b[0;32mraise\u001b[0m \u001b[0m_error\u001b[0m\u001b[0;34m.\u001b[0m\u001b[0mStochasticError\u001b[0m\u001b[0;34m\u001b[0m\u001b[0;34m\u001b[0m\u001b[0m\n\u001b[0m\u001b[1;32m    205\u001b[0m     \u001b[0;32mif\u001b[0m \u001b[0;32mnot\u001b[0m \u001b[0misNonNegative\u001b[0m\u001b[0;34m(\u001b[0m\u001b[0mmatrix\u001b[0m\u001b[0;34m)\u001b[0m\u001b[0;34m:\u001b[0m\u001b[0;34m\u001b[0m\u001b[0;34m\u001b[0m\u001b[0m\n\u001b[1;32m    206\u001b[0m         \u001b[0;32mraise\u001b[0m \u001b[0m_error\u001b[0m\u001b[0;34m.\u001b[0m\u001b[0mNonNegativeError\u001b[0m\u001b[0;34m\u001b[0m\u001b[0;34m\u001b[0m\u001b[0m\n",
      "\u001b[0;31mStochasticError\u001b[0m: 'PyMDPToolbox - The transition probability matrix is not stochastic.'"
     ]
    }
   ],
   "source": [
    "def getPhat(dataset, nStates, nActions):\n",
    "    Phat = (getN_asp(dataset, nStates, nActions, reshape=False.transpose(1,0,2)/\n",
    "            sa(dataset, nStates, nActions, reshape=False[...,None])\n",
    "    Phat[np.isnan(Phat)] = 0\n",
    "    return Phat\n",
    "getValue([getPhat(dataset[dataset[:,:,2]==0], nStates, nActions),\n",
    " getPhat(dataset[dataset[:,:,2]==1], nStates, nActions)],\n",
    "         Rhat_sa, startweights, priorclass, K, gamma))getN_)"
   ]
  },
  {
   "cell_type": "code",
   "execution_count": 5,
   "id": "cdfbf5ed-f304-46a5-8ded-5e3b098d24a1",
   "metadata": {},
   "outputs": [
    {
     "data": {
      "text/plain": [
       "18"
      ]
     },
     "execution_count": 5,
     "metadata": {},
     "output_type": "execute_result"
    }
   ],
   "source": [
    "nStates"
   ]
  },
  {
   "cell_type": "code",
   "execution_count": null,
   "id": "ce8a6700-36eb-40ae-86b0-a4cc98dfb1b4",
   "metadata": {},
   "outputs": [
    {
     "name": "stdout",
     "output_type": "stream",
     "text": [
      "Trial 0 with start seed 0\n",
      "Current Horizon is: 20\n"
     ]
    },
    {
     "name": "stderr",
     "output_type": "stream",
     "text": [
      "100%|██████████| 480/480 [00:00<00:00, 3585.55it/s]\n"
     ]
    },
    {
     "name": "stdout",
     "output_type": "stream",
     "text": [
      "value of pi_b\n",
      "0.4876657099979267\n"
     ]
    },
    {
     "name": "stderr",
     "output_type": "stream",
     "text": [
      "2023-01-19 20:07:24.483856: I tensorflow/core/platform/cpu_feature_guard.cc:193] This TensorFlow binary is optimized with oneAPI Deep Neural Network Library (oneDNN) to use the following CPU instructions in performance-critical operations:  AVX2 AVX_VNNI FMA\n",
      "To enable them in other operations, rebuild TensorFlow with the appropriate compiler flags.\n",
      "2023-01-19 20:07:24.484890: I tensorflow/compiler/xla/stream_executor/cuda/cuda_gpu_executor.cc:981] successful NUMA node read from SysFS had negative value (-1), but there must be at least one NUMA node, so returning NUMA node zero\n",
      "2023-01-19 20:07:24.485013: I tensorflow/compiler/xla/stream_executor/cuda/cuda_gpu_executor.cc:981] successful NUMA node read from SysFS had negative value (-1), but there must be at least one NUMA node, so returning NUMA node zero\n",
      "2023-01-19 20:07:24.485060: I tensorflow/compiler/xla/stream_executor/cuda/cuda_gpu_executor.cc:981] successful NUMA node read from SysFS had negative value (-1), but there must be at least one NUMA node, so returning NUMA node zero\n",
      "2023-01-19 20:07:24.751611: I tensorflow/compiler/xla/stream_executor/cuda/cuda_gpu_executor.cc:981] successful NUMA node read from SysFS had negative value (-1), but there must be at least one NUMA node, so returning NUMA node zero\n",
      "2023-01-19 20:07:24.751693: I tensorflow/compiler/xla/stream_executor/cuda/cuda_gpu_executor.cc:981] successful NUMA node read from SysFS had negative value (-1), but there must be at least one NUMA node, so returning NUMA node zero\n",
      "2023-01-19 20:07:24.751743: I tensorflow/compiler/xla/stream_executor/cuda/cuda_gpu_executor.cc:981] successful NUMA node read from SysFS had negative value (-1), but there must be at least one NUMA node, so returning NUMA node zero\n",
      "2023-01-19 20:07:24.751816: I tensorflow/core/common_runtime/gpu/gpu_device.cc:1613] Created device /job:localhost/replica:0/task:0/device:GPU:0 with 22275 MB memory:  -> device: 0, name: NVIDIA GeForce RTX 3090, pci bus id: 0000:01:00.0, compute capability: 8.6\n",
      "100%|██████████| 160/160 [00:00<00:00, 275.33it/s]\n",
      "100%|██████████| 144/144 [00:00<00:00, 465.01it/s]\n",
      "100%|██████████| 144/144 [00:00<00:00, 229.05it/s]\n",
      "100%|██████████| 30/30 [00:00<00:00, 44.26it/s]\n",
      "100%|██████████| 30/30 [00:04<00:00,  6.89it/s]"
     ]
    },
    {
     "name": "stdout",
     "output_type": "stream",
     "text": [
      "Current Horizon is: 40\n"
     ]
    },
    {
     "name": "stderr",
     "output_type": "stream",
     "text": [
      "\n",
      "100%|██████████| 480/480 [00:00<00:00, 1769.87it/s]\n"
     ]
    },
    {
     "name": "stdout",
     "output_type": "stream",
     "text": [
      "value of pi_b\n",
      "0.8339380091389029\n"
     ]
    },
    {
     "name": "stderr",
     "output_type": "stream",
     "text": [
      "100%|██████████| 160/160 [00:00<00:00, 839.52it/s]\n",
      "100%|██████████| 144/144 [00:00<00:00, 469.72it/s]\n",
      "100%|██████████| 144/144 [00:00<00:00, 228.69it/s]\n",
      "100%|██████████| 30/30 [00:00<00:00, 40.58it/s]\n",
      "100%|██████████| 30/30 [00:02<00:00, 10.59it/s]\n"
     ]
    },
    {
     "name": "stdout",
     "output_type": "stream",
     "text": [
      "Current Horizon is: 60\n"
     ]
    },
    {
     "name": "stderr",
     "output_type": "stream",
     "text": [
      "100%|██████████| 480/480 [00:00<00:00, 1169.33it/s]\n"
     ]
    },
    {
     "name": "stdout",
     "output_type": "stream",
     "text": [
      "value of pi_b\n",
      "0.8419774049489097\n"
     ]
    },
    {
     "name": "stderr",
     "output_type": "stream",
     "text": [
      "100%|██████████| 160/160 [00:00<00:00, 726.63it/s]\n",
      "100%|██████████| 144/144 [00:00<00:00, 466.96it/s]\n",
      "100%|██████████| 144/144 [00:00<00:00, 229.54it/s]\n",
      "100%|██████████| 30/30 [00:00<00:00, 38.30it/s]\n",
      "100%|██████████| 30/30 [00:02<00:00, 13.72it/s]"
     ]
    },
    {
     "name": "stdout",
     "output_type": "stream",
     "text": [
      "Current Horizon is: 80\n"
     ]
    },
    {
     "name": "stderr",
     "output_type": "stream",
     "text": [
      "\n",
      "100%|██████████| 480/480 [00:00<00:00, 874.47it/s]\n"
     ]
    },
    {
     "name": "stdout",
     "output_type": "stream",
     "text": [
      "value of pi_b\n",
      "0.6758130170119824\n"
     ]
    },
    {
     "name": "stderr",
     "output_type": "stream",
     "text": [
      "100%|██████████| 160/160 [00:00<00:00, 814.30it/s]\n",
      "100%|██████████| 144/144 [00:00<00:00, 467.91it/s]\n",
      "100%|██████████| 144/144 [00:00<00:00, 229.71it/s]\n",
      "100%|██████████| 30/30 [00:00<00:00, 33.89it/s]\n",
      "100%|██████████| 30/30 [00:02<00:00, 13.18it/s]"
     ]
    },
    {
     "name": "stdout",
     "output_type": "stream",
     "text": [
      "Current Horizon is: 100\n"
     ]
    },
    {
     "name": "stderr",
     "output_type": "stream",
     "text": [
      "\n",
      "100%|██████████| 480/480 [00:00<00:00, 711.88it/s]\n"
     ]
    },
    {
     "name": "stdout",
     "output_type": "stream",
     "text": [
      "value of pi_b\n",
      "0.913295169385248\n"
     ]
    },
    {
     "name": "stderr",
     "output_type": "stream",
     "text": [
      "100%|██████████| 160/160 [00:00<00:00, 820.34it/s]\n",
      "100%|██████████| 144/144 [00:00<00:00, 461.41it/s]\n",
      "100%|██████████| 144/144 [00:00<00:00, 227.57it/s]\n",
      "100%|██████████| 30/30 [00:00<00:00, 31.03it/s]\n",
      "100%|██████████| 30/30 [00:02<00:00, 13.99it/s]"
     ]
    },
    {
     "name": "stdout",
     "output_type": "stream",
     "text": [
      "Current Horizon is: 120\n"
     ]
    },
    {
     "name": "stderr",
     "output_type": "stream",
     "text": [
      "\n",
      "100%|██████████| 480/480 [00:00<00:00, 586.28it/s]\n"
     ]
    },
    {
     "name": "stdout",
     "output_type": "stream",
     "text": [
      "value of pi_b\n",
      "0.82565655234993\n"
     ]
    },
    {
     "name": "stderr",
     "output_type": "stream",
     "text": [
      "100%|██████████| 160/160 [00:00<00:00, 980.83it/s]\n",
      "100%|██████████| 144/144 [00:00<00:00, 465.09it/s]\n",
      "100%|██████████| 144/144 [00:00<00:00, 226.43it/s]\n",
      "100%|██████████| 30/30 [00:01<00:00, 27.94it/s]\n",
      "100%|██████████| 30/30 [00:02<00:00, 12.30it/s]\n"
     ]
    },
    {
     "name": "stdout",
     "output_type": "stream",
     "text": [
      "Current Horizon is: 140\n"
     ]
    },
    {
     "name": "stderr",
     "output_type": "stream",
     "text": [
      "100%|██████████| 480/480 [00:00<00:00, 502.38it/s]\n"
     ]
    },
    {
     "name": "stdout",
     "output_type": "stream",
     "text": [
      "value of pi_b\n",
      "0.8635321245885919\n"
     ]
    },
    {
     "name": "stderr",
     "output_type": "stream",
     "text": [
      "100%|██████████| 160/160 [00:00<00:00, 894.01it/s]\n",
      "100%|██████████| 144/144 [00:00<00:00, 466.90it/s]\n",
      "100%|██████████| 144/144 [00:00<00:00, 228.94it/s]\n",
      "100%|██████████| 30/30 [00:01<00:00, 25.49it/s]\n",
      "100%|██████████| 30/30 [00:02<00:00, 12.59it/s]"
     ]
    },
    {
     "name": "stdout",
     "output_type": "stream",
     "text": [
      "Current Horizon is: 160\n"
     ]
    },
    {
     "name": "stderr",
     "output_type": "stream",
     "text": [
      "\n",
      "100%|██████████| 480/480 [00:01<00:00, 443.50it/s]\n"
     ]
    },
    {
     "name": "stdout",
     "output_type": "stream",
     "text": [
      "value of pi_b\n",
      "0.7526542175804882\n"
     ]
    },
    {
     "name": "stderr",
     "output_type": "stream",
     "text": [
      "100%|██████████| 160/160 [00:00<00:00, 837.36it/s]\n",
      "100%|██████████| 144/144 [00:00<00:00, 466.31it/s]\n",
      "100%|██████████| 144/144 [00:00<00:00, 227.47it/s]\n",
      "100%|██████████| 30/30 [00:01<00:00, 23.45it/s]\n",
      "100%|██████████| 30/30 [00:02<00:00, 13.24it/s]"
     ]
    },
    {
     "name": "stdout",
     "output_type": "stream",
     "text": [
      "Current Horizon is: 180\n"
     ]
    },
    {
     "name": "stderr",
     "output_type": "stream",
     "text": [
      "\n",
      "100%|██████████| 480/480 [00:01<00:00, 394.95it/s]\n"
     ]
    },
    {
     "name": "stdout",
     "output_type": "stream",
     "text": [
      "value of pi_b\n",
      "0.804087788323491\n"
     ]
    },
    {
     "name": "stderr",
     "output_type": "stream",
     "text": [
      "100%|██████████| 160/160 [00:00<00:00, 976.07it/s]\n",
      "100%|██████████| 144/144 [00:00<00:00, 462.61it/s]\n",
      "100%|██████████| 144/144 [00:00<00:00, 227.87it/s]\n",
      "100%|██████████| 30/30 [00:01<00:00, 21.67it/s]\n",
      "100%|██████████| 30/30 [00:01<00:00, 16.19it/s]"
     ]
    },
    {
     "name": "stdout",
     "output_type": "stream",
     "text": [
      "Current Horizon is: 200\n"
     ]
    },
    {
     "name": "stderr",
     "output_type": "stream",
     "text": [
      "\n",
      "100%|██████████| 480/480 [00:01<00:00, 355.82it/s]\n"
     ]
    },
    {
     "name": "stdout",
     "output_type": "stream",
     "text": [
      "value of pi_b\n",
      "0.513344874958257\n"
     ]
    },
    {
     "name": "stderr",
     "output_type": "stream",
     "text": [
      "100%|██████████| 160/160 [00:00<00:00, 967.36it/s]\n",
      "100%|██████████| 144/144 [00:00<00:00, 463.31it/s]\n",
      "100%|██████████| 144/144 [00:00<00:00, 228.28it/s]\n",
      "100%|██████████| 30/30 [00:01<00:00, 20.41it/s]\n",
      "100%|██████████| 30/30 [00:02<00:00, 13.92it/s]"
     ]
    },
    {
     "name": "stdout",
     "output_type": "stream",
     "text": [
      "Trial 1 with start seed 32\n",
      "Current Horizon is: 20\n"
     ]
    },
    {
     "name": "stderr",
     "output_type": "stream",
     "text": [
      "\n",
      "100%|██████████| 480/480 [00:00<00:00, 3581.46it/s]\n"
     ]
    },
    {
     "name": "stdout",
     "output_type": "stream",
     "text": [
      "value of pi_b\n",
      "0.5086687742665084\n"
     ]
    },
    {
     "name": "stderr",
     "output_type": "stream",
     "text": [
      "100%|██████████| 160/160 [00:00<00:00, 920.45it/s]\n",
      "100%|██████████| 144/144 [00:00<00:00, 468.07it/s]\n",
      "100%|██████████| 144/144 [00:00<00:00, 228.35it/s]\n",
      "100%|██████████| 30/30 [00:00<00:00, 47.56it/s]\n",
      "100%|██████████| 30/30 [00:03<00:00,  9.10it/s]"
     ]
    },
    {
     "name": "stdout",
     "output_type": "stream",
     "text": [
      "Current Horizon is: 40\n"
     ]
    },
    {
     "name": "stderr",
     "output_type": "stream",
     "text": [
      "\n",
      "100%|██████████| 480/480 [00:00<00:00, 1769.02it/s]\n"
     ]
    },
    {
     "name": "stdout",
     "output_type": "stream",
     "text": [
      "value of pi_b\n",
      "0.7197216321942984\n"
     ]
    },
    {
     "name": "stderr",
     "output_type": "stream",
     "text": [
      "100%|██████████| 160/160 [00:00<00:00, 843.96it/s]\n",
      "100%|██████████| 144/144 [00:00<00:00, 465.14it/s]\n",
      "100%|██████████| 144/144 [00:00<00:00, 227.91it/s]\n",
      "100%|██████████| 30/30 [00:00<00:00, 40.44it/s]\n",
      "100%|██████████| 30/30 [00:02<00:00, 11.18it/s]"
     ]
    },
    {
     "name": "stdout",
     "output_type": "stream",
     "text": [
      "Current Horizon is: 60\n"
     ]
    },
    {
     "name": "stderr",
     "output_type": "stream",
     "text": [
      "\n",
      "100%|██████████| 480/480 [00:00<00:00, 1180.90it/s]\n"
     ]
    },
    {
     "name": "stdout",
     "output_type": "stream",
     "text": [
      "value of pi_b\n",
      "0.8561070339080231\n"
     ]
    },
    {
     "name": "stderr",
     "output_type": "stream",
     "text": [
      "100%|██████████| 160/160 [00:00<00:00, 910.07it/s]\n",
      "100%|██████████| 144/144 [00:00<00:00, 466.54it/s]\n",
      "100%|██████████| 144/144 [00:00<00:00, 226.21it/s]\n",
      "100%|██████████| 30/30 [00:00<00:00, 38.06it/s]\n",
      "100%|██████████| 30/30 [00:01<00:00, 16.38it/s]\n"
     ]
    },
    {
     "name": "stdout",
     "output_type": "stream",
     "text": [
      "Current Horizon is: 80\n"
     ]
    },
    {
     "name": "stderr",
     "output_type": "stream",
     "text": [
      "100%|██████████| 480/480 [00:00<00:00, 886.51it/s]\n"
     ]
    },
    {
     "name": "stdout",
     "output_type": "stream",
     "text": [
      "value of pi_b\n",
      "0.886263984583924\n"
     ]
    },
    {
     "name": "stderr",
     "output_type": "stream",
     "text": [
      "100%|██████████| 160/160 [00:00<00:00, 843.27it/s]\n",
      "100%|██████████| 144/144 [00:00<00:00, 467.26it/s]\n",
      "100%|██████████| 144/144 [00:00<00:00, 226.61it/s]\n",
      "100%|██████████| 30/30 [00:00<00:00, 33.75it/s]\n",
      "100%|██████████| 30/30 [00:02<00:00, 12.16it/s]\n"
     ]
    },
    {
     "name": "stdout",
     "output_type": "stream",
     "text": [
      "Current Horizon is: 100\n"
     ]
    },
    {
     "name": "stderr",
     "output_type": "stream",
     "text": [
      "100%|██████████| 480/480 [00:00<00:00, 717.58it/s]\n"
     ]
    },
    {
     "name": "stdout",
     "output_type": "stream",
     "text": [
      "value of pi_b\n",
      "1.0058290530415848\n"
     ]
    },
    {
     "name": "stderr",
     "output_type": "stream",
     "text": [
      "100%|██████████| 160/160 [00:00<00:00, 877.79it/s]\n",
      "100%|██████████| 144/144 [00:00<00:00, 468.95it/s]\n",
      "100%|██████████| 144/144 [00:00<00:00, 226.36it/s]\n",
      "100%|██████████| 30/30 [00:00<00:00, 30.70it/s]\n",
      "100%|██████████| 30/30 [00:01<00:00, 15.67it/s]\n"
     ]
    },
    {
     "name": "stdout",
     "output_type": "stream",
     "text": [
      "Current Horizon is: 120\n"
     ]
    },
    {
     "name": "stderr",
     "output_type": "stream",
     "text": [
      "100%|██████████| 480/480 [00:00<00:00, 581.08it/s]\n"
     ]
    },
    {
     "name": "stdout",
     "output_type": "stream",
     "text": [
      "value of pi_b\n",
      "0.7927044420025593\n"
     ]
    },
    {
     "name": "stderr",
     "output_type": "stream",
     "text": [
      "100%|██████████| 160/160 [00:00<00:00, 802.89it/s]\n",
      "100%|██████████| 144/144 [00:00<00:00, 463.57it/s]\n",
      "100%|██████████| 144/144 [00:00<00:00, 226.55it/s]\n",
      "100%|██████████| 30/30 [00:01<00:00, 28.02it/s]\n",
      "100%|██████████| 30/30 [00:01<00:00, 15.93it/s]\n"
     ]
    },
    {
     "name": "stdout",
     "output_type": "stream",
     "text": [
      "Current Horizon is: 140\n"
     ]
    },
    {
     "name": "stderr",
     "output_type": "stream",
     "text": [
      "100%|██████████| 480/480 [00:00<00:00, 509.73it/s]\n"
     ]
    },
    {
     "name": "stdout",
     "output_type": "stream",
     "text": [
      "value of pi_b\n",
      "0.8801140758837749\n"
     ]
    },
    {
     "name": "stderr",
     "output_type": "stream",
     "text": [
      "100%|██████████| 160/160 [00:00<00:00, 829.50it/s]\n",
      "100%|██████████| 144/144 [00:00<00:00, 464.70it/s]\n",
      "100%|██████████| 144/144 [00:00<00:00, 226.67it/s]\n",
      "100%|██████████| 30/30 [00:01<00:00, 25.48it/s]\n",
      "100%|██████████| 30/30 [00:01<00:00, 17.39it/s]\n"
     ]
    },
    {
     "name": "stdout",
     "output_type": "stream",
     "text": [
      "Current Horizon is: 160\n"
     ]
    },
    {
     "name": "stderr",
     "output_type": "stream",
     "text": [
      "100%|██████████| 480/480 [00:01<00:00, 443.72it/s]\n"
     ]
    },
    {
     "name": "stdout",
     "output_type": "stream",
     "text": [
      "value of pi_b\n",
      "0.7550872526239959\n"
     ]
    },
    {
     "name": "stderr",
     "output_type": "stream",
     "text": [
      "100%|██████████| 160/160 [00:00<00:00, 841.15it/s]\n",
      "100%|██████████| 144/144 [00:00<00:00, 468.00it/s]\n",
      "100%|██████████| 144/144 [00:00<00:00, 229.72it/s]\n",
      "100%|██████████| 30/30 [00:01<00:00, 23.34it/s]\n",
      "100%|██████████| 30/30 [00:02<00:00, 13.83it/s]"
     ]
    },
    {
     "name": "stdout",
     "output_type": "stream",
     "text": [
      "Current Horizon is: 180\n"
     ]
    },
    {
     "name": "stderr",
     "output_type": "stream",
     "text": [
      "\n",
      "100%|██████████| 480/480 [00:01<00:00, 395.03it/s]\n"
     ]
    },
    {
     "name": "stdout",
     "output_type": "stream",
     "text": [
      "value of pi_b\n",
      "0.9446325366547487\n"
     ]
    },
    {
     "name": "stderr",
     "output_type": "stream",
     "text": [
      "100%|██████████| 160/160 [00:00<00:00, 789.42it/s]\n",
      "100%|██████████| 144/144 [00:00<00:00, 471.25it/s]\n",
      "100%|██████████| 144/144 [00:00<00:00, 228.05it/s]\n",
      "100%|██████████| 30/30 [00:01<00:00, 21.82it/s]\n",
      "100%|██████████| 30/30 [00:03<00:00,  9.07it/s]"
     ]
    },
    {
     "name": "stdout",
     "output_type": "stream",
     "text": [
      "Current Horizon is: 200\n"
     ]
    },
    {
     "name": "stderr",
     "output_type": "stream",
     "text": [
      "\n",
      "100%|██████████| 480/480 [00:01<00:00, 355.13it/s]\n"
     ]
    },
    {
     "name": "stdout",
     "output_type": "stream",
     "text": [
      "value of pi_b\n",
      "0.7248096023984438\n"
     ]
    },
    {
     "name": "stderr",
     "output_type": "stream",
     "text": [
      "100%|██████████| 160/160 [00:00<00:00, 855.41it/s]\n",
      "100%|██████████| 144/144 [00:00<00:00, 470.15it/s]\n",
      "100%|██████████| 144/144 [00:00<00:00, 229.15it/s]\n",
      "100%|██████████| 30/30 [00:01<00:00, 20.21it/s]\n",
      "100%|██████████| 30/30 [00:02<00:00, 10.00it/s]"
     ]
    },
    {
     "name": "stdout",
     "output_type": "stream",
     "text": [
      "Trial 2 with start seed 64\n",
      "Current Horizon is: 20\n"
     ]
    },
    {
     "name": "stderr",
     "output_type": "stream",
     "text": [
      "\n",
      "100%|██████████| 480/480 [00:00<00:00, 3593.03it/s]\n"
     ]
    },
    {
     "name": "stdout",
     "output_type": "stream",
     "text": [
      "value of pi_b\n",
      "0.4791927382338803\n"
     ]
    },
    {
     "name": "stderr",
     "output_type": "stream",
     "text": [
      "100%|██████████| 160/160 [00:00<00:00, 839.88it/s]\n",
      "100%|██████████| 144/144 [00:00<00:00, 465.47it/s]\n",
      "100%|██████████| 144/144 [00:00<00:00, 229.18it/s]\n",
      "100%|██████████| 30/30 [00:00<00:00, 45.72it/s]\n",
      "100%|██████████| 30/30 [00:04<00:00,  6.87it/s]"
     ]
    },
    {
     "name": "stdout",
     "output_type": "stream",
     "text": [
      "Current Horizon is: 40\n"
     ]
    },
    {
     "name": "stderr",
     "output_type": "stream",
     "text": [
      "\n",
      "100%|██████████| 480/480 [00:00<00:00, 1711.06it/s]\n"
     ]
    },
    {
     "name": "stdout",
     "output_type": "stream",
     "text": [
      "value of pi_b\n",
      "0.6530191162202885\n"
     ]
    },
    {
     "name": "stderr",
     "output_type": "stream",
     "text": [
      "100%|██████████| 160/160 [00:00<00:00, 832.58it/s]\n",
      "100%|██████████| 144/144 [00:00<00:00, 465.16it/s]\n",
      "100%|██████████| 144/144 [00:00<00:00, 228.85it/s]\n",
      "100%|██████████| 30/30 [00:00<00:00, 43.39it/s]\n",
      "100%|██████████| 30/30 [00:02<00:00, 10.92it/s]\n"
     ]
    },
    {
     "name": "stdout",
     "output_type": "stream",
     "text": [
      "Current Horizon is: 60\n"
     ]
    },
    {
     "name": "stderr",
     "output_type": "stream",
     "text": [
      "100%|██████████| 480/480 [00:00<00:00, 1174.18it/s]\n"
     ]
    },
    {
     "name": "stdout",
     "output_type": "stream",
     "text": [
      "value of pi_b\n",
      "0.8779133285183216\n"
     ]
    },
    {
     "name": "stderr",
     "output_type": "stream",
     "text": [
      "100%|██████████| 160/160 [00:00<00:00, 800.59it/s]\n",
      "100%|██████████| 144/144 [00:00<00:00, 464.87it/s]\n",
      "100%|██████████| 144/144 [00:00<00:00, 228.14it/s]\n",
      "100%|██████████| 30/30 [00:00<00:00, 38.35it/s]\n",
      "100%|██████████| 30/30 [00:02<00:00, 14.18it/s]"
     ]
    },
    {
     "name": "stdout",
     "output_type": "stream",
     "text": [
      "Current Horizon is: 80\n"
     ]
    },
    {
     "name": "stderr",
     "output_type": "stream",
     "text": [
      "\n",
      "100%|██████████| 480/480 [00:00<00:00, 891.09it/s]\n"
     ]
    },
    {
     "name": "stdout",
     "output_type": "stream",
     "text": [
      "value of pi_b\n",
      "0.4918206379525912\n"
     ]
    },
    {
     "name": "stderr",
     "output_type": "stream",
     "text": [
      "100%|██████████| 160/160 [00:00<00:00, 840.33it/s]\n",
      "100%|██████████| 144/144 [00:00<00:00, 463.30it/s]\n",
      "100%|██████████| 144/144 [00:00<00:00, 229.79it/s]\n",
      "100%|██████████| 30/30 [00:00<00:00, 33.99it/s]\n",
      "100%|██████████| 30/30 [00:02<00:00, 13.37it/s]"
     ]
    },
    {
     "name": "stdout",
     "output_type": "stream",
     "text": [
      "Current Horizon is: 100\n"
     ]
    },
    {
     "name": "stderr",
     "output_type": "stream",
     "text": [
      "\n",
      "100%|██████████| 480/480 [00:00<00:00, 704.02it/s]\n"
     ]
    },
    {
     "name": "stdout",
     "output_type": "stream",
     "text": [
      "value of pi_b\n",
      "0.5224538271857609\n"
     ]
    },
    {
     "name": "stderr",
     "output_type": "stream",
     "text": [
      "100%|██████████| 160/160 [00:00<00:00, 844.73it/s]\n",
      "100%|██████████| 144/144 [00:00<00:00, 469.04it/s]\n",
      "100%|██████████| 144/144 [00:00<00:00, 229.23it/s]\n",
      "100%|██████████| 30/30 [00:00<00:00, 30.39it/s]\n",
      "100%|██████████| 30/30 [00:01<00:00, 16.33it/s]\n"
     ]
    },
    {
     "name": "stdout",
     "output_type": "stream",
     "text": [
      "Current Horizon is: 120\n"
     ]
    },
    {
     "name": "stderr",
     "output_type": "stream",
     "text": [
      "100%|██████████| 480/480 [00:00<00:00, 583.99it/s]\n"
     ]
    },
    {
     "name": "stdout",
     "output_type": "stream",
     "text": [
      "value of pi_b\n",
      "0.714727358737084\n"
     ]
    },
    {
     "name": "stderr",
     "output_type": "stream",
     "text": [
      "100%|██████████| 160/160 [00:00<00:00, 887.73it/s]\n",
      "100%|██████████| 144/144 [00:00<00:00, 470.29it/s]\n",
      "100%|██████████| 144/144 [00:00<00:00, 228.60it/s]\n",
      "100%|██████████| 30/30 [00:01<00:00, 27.82it/s]\n",
      "100%|██████████| 30/30 [00:02<00:00, 11.20it/s]"
     ]
    },
    {
     "name": "stdout",
     "output_type": "stream",
     "text": [
      "Current Horizon is: 140\n"
     ]
    },
    {
     "name": "stderr",
     "output_type": "stream",
     "text": [
      "\n",
      "100%|██████████| 480/480 [00:00<00:00, 507.10it/s]\n"
     ]
    },
    {
     "name": "stdout",
     "output_type": "stream",
     "text": [
      "value of pi_b\n",
      "0.7968428008016628\n"
     ]
    },
    {
     "name": "stderr",
     "output_type": "stream",
     "text": [
      "100%|██████████| 160/160 [00:00<00:00, 840.29it/s]\n",
      "100%|██████████| 144/144 [00:00<00:00, 470.74it/s]\n",
      "100%|██████████| 144/144 [00:00<00:00, 226.75it/s]\n",
      "100%|██████████| 30/30 [00:01<00:00, 25.37it/s]\n",
      "100%|██████████| 30/30 [00:02<00:00, 13.12it/s]"
     ]
    },
    {
     "name": "stdout",
     "output_type": "stream",
     "text": [
      "Current Horizon is: 160\n"
     ]
    },
    {
     "name": "stderr",
     "output_type": "stream",
     "text": [
      "\n",
      "100%|██████████| 480/480 [00:01<00:00, 441.29it/s]\n"
     ]
    },
    {
     "name": "stdout",
     "output_type": "stream",
     "text": [
      "value of pi_b\n",
      "0.5672111909578992\n"
     ]
    },
    {
     "name": "stderr",
     "output_type": "stream",
     "text": [
      "100%|██████████| 160/160 [00:00<00:00, 841.94it/s]\n",
      "100%|██████████| 144/144 [00:00<00:00, 467.71it/s]\n",
      "100%|██████████| 144/144 [00:00<00:00, 228.36it/s]\n",
      "100%|██████████| 30/30 [00:01<00:00, 23.51it/s]\n",
      "100%|██████████| 30/30 [00:02<00:00, 11.88it/s]\n"
     ]
    },
    {
     "name": "stdout",
     "output_type": "stream",
     "text": [
      "Current Horizon is: 180\n"
     ]
    },
    {
     "name": "stderr",
     "output_type": "stream",
     "text": [
      "100%|██████████| 480/480 [00:01<00:00, 390.11it/s]\n"
     ]
    },
    {
     "name": "stdout",
     "output_type": "stream",
     "text": [
      "value of pi_b\n",
      "0.7199120050998881\n"
     ]
    },
    {
     "name": "stderr",
     "output_type": "stream",
     "text": [
      "100%|██████████| 160/160 [00:00<00:00, 881.27it/s]\n",
      "100%|██████████| 144/144 [00:00<00:00, 468.08it/s]\n",
      "100%|██████████| 144/144 [00:00<00:00, 226.79it/s]\n",
      "100%|██████████| 30/30 [00:01<00:00, 21.37it/s]\n",
      "100%|██████████| 30/30 [00:02<00:00, 10.88it/s]\n"
     ]
    },
    {
     "name": "stdout",
     "output_type": "stream",
     "text": [
      "Current Horizon is: 200\n"
     ]
    },
    {
     "name": "stderr",
     "output_type": "stream",
     "text": [
      "100%|██████████| 480/480 [00:01<00:00, 357.02it/s]\n"
     ]
    },
    {
     "name": "stdout",
     "output_type": "stream",
     "text": [
      "value of pi_b\n",
      "0.7831847121294834\n"
     ]
    },
    {
     "name": "stderr",
     "output_type": "stream",
     "text": [
      "100%|██████████| 160/160 [00:00<00:00, 839.75it/s]\n",
      "100%|██████████| 144/144 [00:00<00:00, 469.35it/s]\n",
      "100%|██████████| 144/144 [00:00<00:00, 226.88it/s]\n",
      "100%|██████████| 30/30 [00:01<00:00, 19.79it/s]\n",
      "100%|██████████| 30/30 [00:02<00:00, 11.92it/s]"
     ]
    },
    {
     "name": "stdout",
     "output_type": "stream",
     "text": [
      "Trial 3 with start seed 96\n",
      "Current Horizon is: 20\n"
     ]
    },
    {
     "name": "stderr",
     "output_type": "stream",
     "text": [
      "\n",
      "100%|██████████| 480/480 [00:00<00:00, 3582.67it/s]\n"
     ]
    },
    {
     "name": "stdout",
     "output_type": "stream",
     "text": [
      "value of pi_b\n",
      "0.5487395255742161\n"
     ]
    },
    {
     "name": "stderr",
     "output_type": "stream",
     "text": [
      "100%|██████████| 160/160 [00:00<00:00, 938.26it/s]\n",
      "100%|██████████| 144/144 [00:00<00:00, 465.74it/s]\n",
      "100%|██████████| 144/144 [00:00<00:00, 228.76it/s]\n",
      "100%|██████████| 30/30 [00:00<00:00, 43.99it/s]\n",
      "100%|██████████| 30/30 [00:03<00:00,  8.58it/s]\n"
     ]
    },
    {
     "name": "stdout",
     "output_type": "stream",
     "text": [
      "Current Horizon is: 40\n"
     ]
    },
    {
     "name": "stderr",
     "output_type": "stream",
     "text": [
      "100%|██████████| 480/480 [00:00<00:00, 1763.22it/s]\n"
     ]
    },
    {
     "name": "stdout",
     "output_type": "stream",
     "text": [
      "value of pi_b\n",
      "0.6279838379186745\n"
     ]
    },
    {
     "name": "stderr",
     "output_type": "stream",
     "text": [
      "100%|██████████| 160/160 [00:00<00:00, 847.01it/s]\n",
      "100%|██████████| 144/144 [00:00<00:00, 466.54it/s]\n",
      "100%|██████████| 144/144 [00:00<00:00, 226.81it/s]\n",
      "100%|██████████| 30/30 [00:00<00:00, 41.70it/s]\n",
      "100%|██████████| 30/30 [00:02<00:00, 13.10it/s]\n"
     ]
    },
    {
     "name": "stdout",
     "output_type": "stream",
     "text": [
      "Current Horizon is: 60\n"
     ]
    },
    {
     "name": "stderr",
     "output_type": "stream",
     "text": [
      "100%|██████████| 480/480 [00:00<00:00, 1173.45it/s]\n"
     ]
    },
    {
     "name": "stdout",
     "output_type": "stream",
     "text": [
      "value of pi_b\n",
      "0.7765734480097559\n"
     ]
    },
    {
     "name": "stderr",
     "output_type": "stream",
     "text": [
      "100%|██████████| 160/160 [00:00<00:00, 948.43it/s]\n",
      "100%|██████████| 144/144 [00:00<00:00, 464.06it/s]\n",
      "100%|██████████| 144/144 [00:00<00:00, 228.79it/s]\n",
      "100%|██████████| 30/30 [00:00<00:00, 37.72it/s]\n",
      "100%|██████████| 30/30 [00:01<00:00, 16.46it/s]\n"
     ]
    },
    {
     "name": "stdout",
     "output_type": "stream",
     "text": [
      "Current Horizon is: 80\n"
     ]
    },
    {
     "name": "stderr",
     "output_type": "stream",
     "text": [
      "100%|██████████| 480/480 [00:00<00:00, 883.61it/s]\n"
     ]
    },
    {
     "name": "stdout",
     "output_type": "stream",
     "text": [
      "value of pi_b\n",
      "0.668420659941809\n"
     ]
    },
    {
     "name": "stderr",
     "output_type": "stream",
     "text": [
      "100%|██████████| 160/160 [00:00<00:00, 932.57it/s]\n",
      "100%|██████████| 144/144 [00:00<00:00, 465.86it/s]\n",
      "100%|██████████| 144/144 [00:00<00:00, 229.01it/s]\n",
      "100%|██████████| 30/30 [00:00<00:00, 34.06it/s]\n",
      "100%|██████████| 30/30 [00:01<00:00, 15.91it/s]\n"
     ]
    },
    {
     "name": "stdout",
     "output_type": "stream",
     "text": [
      "Current Horizon is: 100\n"
     ]
    },
    {
     "name": "stderr",
     "output_type": "stream",
     "text": [
      "100%|██████████| 480/480 [00:00<00:00, 705.81it/s]\n"
     ]
    },
    {
     "name": "stdout",
     "output_type": "stream",
     "text": [
      "value of pi_b\n",
      "0.6421456433353391\n"
     ]
    },
    {
     "name": "stderr",
     "output_type": "stream",
     "text": [
      "100%|██████████| 160/160 [00:00<00:00, 975.15it/s]\n",
      "100%|██████████| 144/144 [00:00<00:00, 462.06it/s]\n",
      "100%|██████████| 144/144 [00:00<00:00, 226.88it/s]\n",
      "100%|██████████| 30/30 [00:00<00:00, 30.63it/s]\n",
      "100%|██████████| 30/30 [00:01<00:00, 15.41it/s]"
     ]
    },
    {
     "name": "stdout",
     "output_type": "stream",
     "text": [
      "Current Horizon is: 120\n"
     ]
    },
    {
     "name": "stderr",
     "output_type": "stream",
     "text": [
      "\n",
      "100%|██████████| 480/480 [00:00<00:00, 593.34it/s]\n"
     ]
    },
    {
     "name": "stdout",
     "output_type": "stream",
     "text": [
      "value of pi_b\n",
      "0.659223009894777\n"
     ]
    },
    {
     "name": "stderr",
     "output_type": "stream",
     "text": [
      "100%|██████████| 160/160 [00:00<00:00, 973.61it/s]\n",
      "100%|██████████| 144/144 [00:00<00:00, 467.24it/s]\n",
      "100%|██████████| 144/144 [00:00<00:00, 228.58it/s]\n",
      "100%|██████████| 30/30 [00:01<00:00, 27.65it/s]\n",
      "100%|██████████| 30/30 [00:02<00:00, 12.32it/s]"
     ]
    },
    {
     "name": "stdout",
     "output_type": "stream",
     "text": [
      "Current Horizon is: 140\n"
     ]
    },
    {
     "name": "stderr",
     "output_type": "stream",
     "text": [
      "\n",
      "100%|██████████| 480/480 [00:00<00:00, 502.64it/s]\n"
     ]
    },
    {
     "name": "stdout",
     "output_type": "stream",
     "text": [
      "value of pi_b\n",
      "0.5164771686965367\n"
     ]
    },
    {
     "name": "stderr",
     "output_type": "stream",
     "text": [
      "100%|██████████| 160/160 [00:00<00:00, 980.10it/s]\n",
      "100%|██████████| 144/144 [00:00<00:00, 465.10it/s]\n",
      "100%|██████████| 144/144 [00:00<00:00, 226.21it/s]\n",
      "100%|██████████| 30/30 [00:01<00:00, 25.36it/s]\n",
      "100%|██████████| 30/30 [00:01<00:00, 17.54it/s]\n"
     ]
    },
    {
     "name": "stdout",
     "output_type": "stream",
     "text": [
      "Current Horizon is: 160\n"
     ]
    },
    {
     "name": "stderr",
     "output_type": "stream",
     "text": [
      "100%|██████████| 480/480 [00:01<00:00, 442.37it/s]\n"
     ]
    },
    {
     "name": "stdout",
     "output_type": "stream",
     "text": [
      "value of pi_b\n",
      "0.7310439345070103\n"
     ]
    },
    {
     "name": "stderr",
     "output_type": "stream",
     "text": [
      "100%|██████████| 160/160 [00:00<00:00, 961.30it/s]\n",
      "100%|██████████| 144/144 [00:00<00:00, 464.64it/s]\n",
      "100%|██████████| 144/144 [00:00<00:00, 227.00it/s]\n",
      "100%|██████████| 30/30 [00:01<00:00, 22.99it/s]\n",
      "100%|██████████| 30/30 [00:02<00:00, 14.00it/s]\n"
     ]
    },
    {
     "name": "stdout",
     "output_type": "stream",
     "text": [
      "Current Horizon is: 180\n"
     ]
    },
    {
     "name": "stderr",
     "output_type": "stream",
     "text": [
      "100%|██████████| 480/480 [00:01<00:00, 393.37it/s]\n"
     ]
    },
    {
     "name": "stdout",
     "output_type": "stream",
     "text": [
      "value of pi_b\n",
      "0.7926558044273758\n"
     ]
    },
    {
     "name": "stderr",
     "output_type": "stream",
     "text": [
      "100%|██████████| 160/160 [00:00<00:00, 979.04it/s]\n",
      "100%|██████████| 144/144 [00:00<00:00, 464.04it/s]\n",
      "100%|██████████| 144/144 [00:00<00:00, 229.55it/s]\n",
      "100%|██████████| 30/30 [00:01<00:00, 21.68it/s]\n",
      "100%|██████████| 30/30 [00:01<00:00, 15.38it/s]"
     ]
    },
    {
     "name": "stdout",
     "output_type": "stream",
     "text": [
      "Current Horizon is: 200\n"
     ]
    },
    {
     "name": "stderr",
     "output_type": "stream",
     "text": [
      "\n",
      "100%|██████████| 480/480 [00:01<00:00, 354.53it/s]\n"
     ]
    },
    {
     "name": "stdout",
     "output_type": "stream",
     "text": [
      "value of pi_b\n",
      "0.5790781676080523\n"
     ]
    },
    {
     "name": "stderr",
     "output_type": "stream",
     "text": [
      "100%|██████████| 160/160 [00:00<00:00, 845.75it/s]\n",
      "100%|██████████| 144/144 [00:00<00:00, 462.91it/s]\n",
      "100%|██████████| 144/144 [00:00<00:00, 226.87it/s]\n",
      "100%|██████████| 30/30 [00:01<00:00, 19.93it/s]\n",
      "100%|██████████| 30/30 [00:02<00:00, 11.16it/s]"
     ]
    },
    {
     "name": "stdout",
     "output_type": "stream",
     "text": [
      "Trial 4 with start seed 128\n",
      "Current Horizon is: 20\n"
     ]
    },
    {
     "name": "stderr",
     "output_type": "stream",
     "text": [
      "\n",
      "100%|██████████| 480/480 [00:00<00:00, 3558.74it/s]\n"
     ]
    },
    {
     "name": "stdout",
     "output_type": "stream",
     "text": [
      "value of pi_b\n",
      "0.4533890063537236\n"
     ]
    },
    {
     "name": "stderr",
     "output_type": "stream",
     "text": [
      "100%|██████████| 160/160 [00:00<00:00, 880.12it/s]\n",
      "100%|██████████| 144/144 [00:00<00:00, 465.15it/s]\n",
      "100%|██████████| 144/144 [00:00<00:00, 227.43it/s]\n",
      "100%|██████████| 30/30 [00:00<00:00, 40.82it/s]\n",
      "100%|██████████| 30/30 [00:04<00:00,  7.44it/s]\n"
     ]
    },
    {
     "name": "stdout",
     "output_type": "stream",
     "text": [
      "Current Horizon is: 40\n"
     ]
    },
    {
     "name": "stderr",
     "output_type": "stream",
     "text": [
      "100%|██████████| 480/480 [00:00<00:00, 1790.77it/s]\n"
     ]
    },
    {
     "name": "stdout",
     "output_type": "stream",
     "text": [
      "value of pi_b\n",
      "0.560575772742078\n"
     ]
    },
    {
     "name": "stderr",
     "output_type": "stream",
     "text": [
      "100%|██████████| 160/160 [00:00<00:00, 837.54it/s]\n",
      "100%|██████████| 144/144 [00:00<00:00, 464.70it/s]\n",
      "100%|██████████| 144/144 [00:00<00:00, 228.30it/s]\n",
      "100%|██████████| 30/30 [00:00<00:00, 41.85it/s]\n",
      "100%|██████████| 30/30 [00:03<00:00,  9.08it/s]"
     ]
    },
    {
     "name": "stdout",
     "output_type": "stream",
     "text": [
      "Current Horizon is: 60\n"
     ]
    },
    {
     "name": "stderr",
     "output_type": "stream",
     "text": [
      "\n",
      "100%|██████████| 480/480 [00:00<00:00, 1173.60it/s]\n"
     ]
    },
    {
     "name": "stdout",
     "output_type": "stream",
     "text": [
      "value of pi_b\n",
      "0.669099755459622\n"
     ]
    },
    {
     "name": "stderr",
     "output_type": "stream",
     "text": [
      "100%|██████████| 160/160 [00:00<00:00, 839.80it/s]\n",
      "100%|██████████| 144/144 [00:00<00:00, 467.38it/s]\n",
      "100%|██████████| 144/144 [00:00<00:00, 229.08it/s]\n",
      "100%|██████████| 30/30 [00:00<00:00, 37.07it/s]\n",
      "100%|██████████| 30/30 [00:02<00:00, 12.33it/s]"
     ]
    },
    {
     "name": "stdout",
     "output_type": "stream",
     "text": [
      "Current Horizon is: 80\n"
     ]
    },
    {
     "name": "stderr",
     "output_type": "stream",
     "text": [
      "\n",
      "100%|██████████| 480/480 [00:00<00:00, 877.80it/s]\n"
     ]
    },
    {
     "name": "stdout",
     "output_type": "stream",
     "text": [
      "value of pi_b\n",
      "0.6776746318259287\n"
     ]
    },
    {
     "name": "stderr",
     "output_type": "stream",
     "text": [
      "100%|██████████| 160/160 [00:00<00:00, 886.28it/s]\n",
      "100%|██████████| 144/144 [00:00<00:00, 464.70it/s]\n",
      "100%|██████████| 144/144 [00:00<00:00, 226.71it/s]\n",
      "100%|██████████| 30/30 [00:00<00:00, 34.61it/s]\n",
      "100%|██████████| 30/30 [00:01<00:00, 15.59it/s]"
     ]
    },
    {
     "name": "stdout",
     "output_type": "stream",
     "text": [
      "Current Horizon is: 100\n"
     ]
    },
    {
     "name": "stderr",
     "output_type": "stream",
     "text": [
      "\n",
      "100%|██████████| 480/480 [00:00<00:00, 706.35it/s]\n"
     ]
    },
    {
     "name": "stdout",
     "output_type": "stream",
     "text": [
      "value of pi_b\n",
      "0.7755769284403989\n"
     ]
    },
    {
     "name": "stderr",
     "output_type": "stream",
     "text": [
      "100%|██████████| 160/160 [00:00<00:00, 847.44it/s]\n",
      "100%|██████████| 144/144 [00:00<00:00, 463.46it/s]\n",
      "100%|██████████| 144/144 [00:00<00:00, 226.19it/s]\n",
      "100%|██████████| 30/30 [00:00<00:00, 30.90it/s]\n",
      "100%|██████████| 30/30 [00:02<00:00, 11.19it/s]"
     ]
    },
    {
     "name": "stdout",
     "output_type": "stream",
     "text": [
      "Current Horizon is: 120\n"
     ]
    },
    {
     "name": "stderr",
     "output_type": "stream",
     "text": [
      "\n",
      "100%|██████████| 480/480 [00:00<00:00, 581.64it/s]\n"
     ]
    },
    {
     "name": "stdout",
     "output_type": "stream",
     "text": [
      "value of pi_b\n",
      "0.6396557238392794\n"
     ]
    },
    {
     "name": "stderr",
     "output_type": "stream",
     "text": [
      "100%|██████████| 160/160 [00:00<00:00, 918.04it/s]\n",
      "100%|██████████| 144/144 [00:00<00:00, 467.27it/s]\n",
      "100%|██████████| 144/144 [00:00<00:00, 228.22it/s]\n",
      "100%|██████████| 30/30 [00:01<00:00, 27.37it/s]\n",
      "100%|██████████| 30/30 [00:02<00:00, 13.95it/s]"
     ]
    },
    {
     "name": "stdout",
     "output_type": "stream",
     "text": [
      "Current Horizon is: 140\n"
     ]
    },
    {
     "name": "stderr",
     "output_type": "stream",
     "text": [
      "\n",
      "100%|██████████| 480/480 [00:00<00:00, 508.61it/s]\n"
     ]
    },
    {
     "name": "stdout",
     "output_type": "stream",
     "text": [
      "value of pi_b\n",
      "0.693262417444286\n"
     ]
    },
    {
     "name": "stderr",
     "output_type": "stream",
     "text": [
      "100%|██████████| 160/160 [00:00<00:00, 981.90it/s]\n",
      "100%|██████████| 144/144 [00:00<00:00, 465.19it/s]\n",
      "100%|██████████| 144/144 [00:00<00:00, 228.93it/s]\n",
      "100%|██████████| 30/30 [00:01<00:00, 25.51it/s]\n",
      "100%|██████████| 30/30 [00:02<00:00, 13.90it/s]"
     ]
    },
    {
     "name": "stdout",
     "output_type": "stream",
     "text": [
      "Current Horizon is: 160\n"
     ]
    },
    {
     "name": "stderr",
     "output_type": "stream",
     "text": [
      "\n",
      "100%|██████████| 480/480 [00:01<00:00, 451.28it/s]\n"
     ]
    },
    {
     "name": "stdout",
     "output_type": "stream",
     "text": [
      "value of pi_b\n",
      "0.9062081298972765\n"
     ]
    },
    {
     "name": "stderr",
     "output_type": "stream",
     "text": [
      "100%|██████████| 160/160 [00:00<00:00, 985.32it/s]\n",
      "100%|██████████| 144/144 [00:00<00:00, 466.36it/s]\n",
      "100%|██████████| 144/144 [00:00<00:00, 226.66it/s]\n",
      "100%|██████████| 30/30 [00:01<00:00, 23.30it/s]\n",
      "100%|██████████| 30/30 [00:02<00:00, 11.68it/s]"
     ]
    },
    {
     "name": "stdout",
     "output_type": "stream",
     "text": [
      "Current Horizon is: 180\n"
     ]
    },
    {
     "name": "stderr",
     "output_type": "stream",
     "text": [
      "\n",
      "100%|██████████| 480/480 [00:01<00:00, 391.45it/s]\n"
     ]
    },
    {
     "name": "stdout",
     "output_type": "stream",
     "text": [
      "value of pi_b\n",
      "0.39222298487995577\n"
     ]
    },
    {
     "name": "stderr",
     "output_type": "stream",
     "text": [
      "100%|██████████| 160/160 [00:00<00:00, 909.11it/s]\n",
      "100%|██████████| 144/144 [00:00<00:00, 458.82it/s]\n",
      "100%|██████████| 144/144 [00:00<00:00, 230.02it/s]\n",
      "100%|██████████| 30/30 [00:01<00:00, 21.71it/s]\n",
      "100%|██████████| 30/30 [00:02<00:00, 13.73it/s]"
     ]
    },
    {
     "name": "stdout",
     "output_type": "stream",
     "text": [
      "Current Horizon is: 200\n"
     ]
    },
    {
     "name": "stderr",
     "output_type": "stream",
     "text": [
      "\n",
      "100%|██████████| 480/480 [00:01<00:00, 353.21it/s]\n"
     ]
    },
    {
     "name": "stdout",
     "output_type": "stream",
     "text": [
      "value of pi_b\n",
      "0.6672518949269484\n"
     ]
    },
    {
     "name": "stderr",
     "output_type": "stream",
     "text": [
      "100%|██████████| 160/160 [00:00<00:00, 936.77it/s]\n",
      "100%|██████████| 144/144 [00:00<00:00, 462.22it/s]\n",
      "100%|██████████| 144/144 [00:00<00:00, 226.60it/s]\n",
      "100%|██████████| 30/30 [00:01<00:00, 19.70it/s]\n",
      "100%|██████████| 30/30 [00:02<00:00, 10.39it/s]\n"
     ]
    },
    {
     "name": "stdout",
     "output_type": "stream",
     "text": [
      "Trial 5 with start seed 160\n",
      "Current Horizon is: 20\n"
     ]
    },
    {
     "name": "stderr",
     "output_type": "stream",
     "text": [
      "100%|██████████| 480/480 [00:00<00:00, 3492.20it/s]\n"
     ]
    },
    {
     "name": "stdout",
     "output_type": "stream",
     "text": [
      "value of pi_b\n",
      "0.4534153694211981\n"
     ]
    },
    {
     "name": "stderr",
     "output_type": "stream",
     "text": [
      "100%|██████████| 160/160 [00:00<00:00, 981.87it/s]\n",
      "100%|██████████| 144/144 [00:00<00:00, 465.04it/s]\n",
      "100%|██████████| 144/144 [00:00<00:00, 226.03it/s]\n",
      "100%|██████████| 30/30 [00:00<00:00, 46.68it/s]\n",
      "100%|██████████| 30/30 [00:03<00:00,  8.55it/s]"
     ]
    },
    {
     "name": "stdout",
     "output_type": "stream",
     "text": [
      "Current Horizon is: 40\n"
     ]
    },
    {
     "name": "stderr",
     "output_type": "stream",
     "text": [
      "\n",
      "100%|██████████| 480/480 [00:00<00:00, 1769.93it/s]\n"
     ]
    },
    {
     "name": "stdout",
     "output_type": "stream",
     "text": [
      "value of pi_b\n",
      "0.3725616644482755\n"
     ]
    },
    {
     "name": "stderr",
     "output_type": "stream",
     "text": [
      "100%|██████████| 160/160 [00:00<00:00, 976.03it/s]\n",
      "100%|██████████| 144/144 [00:00<00:00, 464.72it/s]\n",
      "100%|██████████| 144/144 [00:00<00:00, 226.65it/s]\n",
      "100%|██████████| 30/30 [00:00<00:00, 43.69it/s]\n",
      "100%|██████████| 30/30 [00:02<00:00, 11.92it/s]"
     ]
    },
    {
     "name": "stdout",
     "output_type": "stream",
     "text": [
      "Current Horizon is: 60\n"
     ]
    },
    {
     "name": "stderr",
     "output_type": "stream",
     "text": [
      "\n",
      "100%|██████████| 480/480 [00:00<00:00, 1186.60it/s]\n"
     ]
    },
    {
     "name": "stdout",
     "output_type": "stream",
     "text": [
      "value of pi_b\n",
      "0.8295241031994982\n"
     ]
    },
    {
     "name": "stderr",
     "output_type": "stream",
     "text": [
      "100%|██████████| 160/160 [00:00<00:00, 985.22it/s]\n",
      "100%|██████████| 144/144 [00:00<00:00, 454.65it/s]\n",
      "100%|██████████| 144/144 [00:00<00:00, 228.64it/s]\n",
      "100%|██████████| 30/30 [00:00<00:00, 38.80it/s]\n",
      "100%|██████████| 30/30 [00:02<00:00, 12.98it/s]"
     ]
    },
    {
     "name": "stdout",
     "output_type": "stream",
     "text": [
      "Current Horizon is: 80\n"
     ]
    },
    {
     "name": "stderr",
     "output_type": "stream",
     "text": [
      "\n",
      "100%|██████████| 480/480 [00:00<00:00, 886.38it/s]\n"
     ]
    },
    {
     "name": "stdout",
     "output_type": "stream",
     "text": [
      "value of pi_b\n",
      "0.6895577292755237\n"
     ]
    },
    {
     "name": "stderr",
     "output_type": "stream",
     "text": [
      "100%|██████████| 160/160 [00:00<00:00, 840.36it/s]\n",
      "100%|██████████| 144/144 [00:00<00:00, 464.88it/s]\n",
      "100%|██████████| 144/144 [00:00<00:00, 229.99it/s]\n",
      "100%|██████████| 30/30 [00:00<00:00, 33.68it/s]\n",
      "100%|██████████| 30/30 [00:02<00:00, 12.64it/s]"
     ]
    },
    {
     "name": "stdout",
     "output_type": "stream",
     "text": [
      "Current Horizon is: 100\n"
     ]
    },
    {
     "name": "stderr",
     "output_type": "stream",
     "text": [
      "\n",
      "100%|██████████| 480/480 [00:00<00:00, 703.02it/s]\n"
     ]
    },
    {
     "name": "stdout",
     "output_type": "stream",
     "text": [
      "value of pi_b\n",
      "0.6755185198628912\n"
     ]
    },
    {
     "name": "stderr",
     "output_type": "stream",
     "text": [
      "100%|██████████| 160/160 [00:00<00:00, 979.96it/s]\n",
      "100%|██████████| 144/144 [00:00<00:00, 462.78it/s]\n",
      "100%|██████████| 144/144 [00:00<00:00, 228.69it/s]\n",
      "100%|██████████| 30/30 [00:00<00:00, 30.18it/s]\n",
      "100%|██████████| 30/30 [00:02<00:00, 12.23it/s]"
     ]
    },
    {
     "name": "stdout",
     "output_type": "stream",
     "text": [
      "Current Horizon is: 120\n"
     ]
    },
    {
     "name": "stderr",
     "output_type": "stream",
     "text": [
      "\n",
      "100%|██████████| 480/480 [00:00<00:00, 591.52it/s]\n"
     ]
    },
    {
     "name": "stdout",
     "output_type": "stream",
     "text": [
      "value of pi_b\n",
      "0.6471459601371577\n"
     ]
    },
    {
     "name": "stderr",
     "output_type": "stream",
     "text": [
      "100%|██████████| 160/160 [00:00<00:00, 987.59it/s]\n",
      "100%|██████████| 144/144 [00:00<00:00, 449.91it/s]\n",
      "100%|██████████| 144/144 [00:00<00:00, 229.31it/s]\n",
      "100%|██████████| 30/30 [00:01<00:00, 26.78it/s]\n",
      "100%|██████████| 30/30 [00:02<00:00, 11.67it/s]"
     ]
    },
    {
     "name": "stdout",
     "output_type": "stream",
     "text": [
      "Current Horizon is: 140\n"
     ]
    },
    {
     "name": "stderr",
     "output_type": "stream",
     "text": [
      "\n",
      "100%|██████████| 480/480 [00:00<00:00, 505.30it/s]\n"
     ]
    },
    {
     "name": "stdout",
     "output_type": "stream",
     "text": [
      "value of pi_b\n",
      "0.7466499725165144\n"
     ]
    },
    {
     "name": "stderr",
     "output_type": "stream",
     "text": [
      "100%|██████████| 160/160 [00:00<00:00, 988.22it/s]\n",
      "100%|██████████| 144/144 [00:00<00:00, 461.84it/s]\n",
      "100%|██████████| 144/144 [00:00<00:00, 230.12it/s]\n",
      "100%|██████████| 30/30 [00:01<00:00, 25.34it/s]\n",
      "100%|██████████| 30/30 [00:02<00:00, 12.35it/s]"
     ]
    },
    {
     "name": "stdout",
     "output_type": "stream",
     "text": [
      "Current Horizon is: 160\n"
     ]
    },
    {
     "name": "stderr",
     "output_type": "stream",
     "text": [
      "\n",
      "100%|██████████| 480/480 [00:01<00:00, 449.07it/s]\n"
     ]
    },
    {
     "name": "stdout",
     "output_type": "stream",
     "text": [
      "value of pi_b\n",
      "0.44403509833531357\n"
     ]
    },
    {
     "name": "stderr",
     "output_type": "stream",
     "text": [
      "100%|██████████| 160/160 [00:00<00:00, 980.80it/s]\n",
      "100%|██████████| 144/144 [00:00<00:00, 460.39it/s]\n",
      "100%|██████████| 144/144 [00:00<00:00, 227.32it/s]\n",
      "100%|██████████| 30/30 [00:01<00:00, 23.10it/s]\n",
      "100%|██████████| 30/30 [00:02<00:00, 11.21it/s]\n"
     ]
    },
    {
     "name": "stdout",
     "output_type": "stream",
     "text": [
      "Current Horizon is: 180\n"
     ]
    },
    {
     "name": "stderr",
     "output_type": "stream",
     "text": [
      "100%|██████████| 480/480 [00:01<00:00, 394.78it/s]\n"
     ]
    },
    {
     "name": "stdout",
     "output_type": "stream",
     "text": [
      "value of pi_b\n",
      "0.6734322485437673\n"
     ]
    },
    {
     "name": "stderr",
     "output_type": "stream",
     "text": [
      "100%|██████████| 160/160 [00:00<00:00, 978.29it/s]\n",
      "100%|██████████| 144/144 [00:00<00:00, 463.56it/s]\n",
      "100%|██████████| 144/144 [00:00<00:00, 229.32it/s]\n",
      "100%|██████████| 30/30 [00:01<00:00, 21.76it/s]\n",
      "100%|██████████| 30/30 [00:02<00:00, 12.32it/s]"
     ]
    },
    {
     "name": "stdout",
     "output_type": "stream",
     "text": [
      "Current Horizon is: 200\n"
     ]
    },
    {
     "name": "stderr",
     "output_type": "stream",
     "text": [
      "\n",
      "100%|██████████| 480/480 [00:01<00:00, 356.09it/s]\n"
     ]
    },
    {
     "name": "stdout",
     "output_type": "stream",
     "text": [
      "value of pi_b\n",
      "0.7407105704787388\n"
     ]
    },
    {
     "name": "stderr",
     "output_type": "stream",
     "text": [
      "100%|██████████| 160/160 [00:00<00:00, 979.46it/s]\n",
      "100%|██████████| 144/144 [00:00<00:00, 447.72it/s]\n",
      "100%|██████████| 144/144 [00:00<00:00, 226.86it/s]\n",
      "100%|██████████| 30/30 [00:01<00:00, 19.74it/s]\n",
      "100%|██████████| 30/30 [00:02<00:00, 14.00it/s]"
     ]
    },
    {
     "name": "stdout",
     "output_type": "stream",
     "text": [
      "Trial 6 with start seed 192\n",
      "Current Horizon is: 20\n"
     ]
    },
    {
     "name": "stderr",
     "output_type": "stream",
     "text": [
      "\n",
      "100%|██████████| 480/480 [00:00<00:00, 3541.42it/s]\n"
     ]
    },
    {
     "name": "stdout",
     "output_type": "stream",
     "text": [
      "value of pi_b\n",
      "0.4421688301079455\n"
     ]
    },
    {
     "name": "stderr",
     "output_type": "stream",
     "text": [
      "100%|██████████| 160/160 [00:00<00:00, 957.37it/s]\n",
      "100%|██████████| 144/144 [00:00<00:00, 457.23it/s]\n",
      "100%|██████████| 144/144 [00:00<00:00, 228.48it/s]\n",
      "100%|██████████| 30/30 [00:00<00:00, 44.30it/s]\n",
      "100%|██████████| 30/30 [00:02<00:00, 10.65it/s]"
     ]
    },
    {
     "name": "stdout",
     "output_type": "stream",
     "text": [
      "Current Horizon is: 40\n"
     ]
    },
    {
     "name": "stderr",
     "output_type": "stream",
     "text": [
      "\n",
      "100%|██████████| 480/480 [00:00<00:00, 1789.42it/s]\n"
     ]
    },
    {
     "name": "stdout",
     "output_type": "stream",
     "text": [
      "value of pi_b\n",
      "0.6400371232794341\n"
     ]
    },
    {
     "name": "stderr",
     "output_type": "stream",
     "text": [
      "100%|██████████| 160/160 [00:00<00:00, 844.05it/s]\n",
      "100%|██████████| 144/144 [00:00<00:00, 458.53it/s]\n",
      "100%|██████████| 144/144 [00:00<00:00, 227.99it/s]\n",
      "100%|██████████| 30/30 [00:00<00:00, 42.56it/s]\n",
      "100%|██████████| 30/30 [00:02<00:00, 13.10it/s]"
     ]
    },
    {
     "name": "stdout",
     "output_type": "stream",
     "text": [
      "Current Horizon is: 60\n"
     ]
    },
    {
     "name": "stderr",
     "output_type": "stream",
     "text": [
      "\n",
      "100%|██████████| 480/480 [00:00<00:00, 1132.51it/s]\n"
     ]
    },
    {
     "name": "stdout",
     "output_type": "stream",
     "text": [
      "value of pi_b\n",
      "0.8299589588568748\n"
     ]
    },
    {
     "name": "stderr",
     "output_type": "stream",
     "text": [
      "100%|██████████| 160/160 [00:00<00:00, 975.47it/s]\n",
      "100%|██████████| 144/144 [00:00<00:00, 460.12it/s]\n",
      "100%|██████████| 144/144 [00:00<00:00, 227.83it/s]\n",
      "100%|██████████| 30/30 [00:00<00:00, 37.99it/s]\n",
      "100%|██████████| 30/30 [00:02<00:00, 14.43it/s]\n"
     ]
    },
    {
     "name": "stdout",
     "output_type": "stream",
     "text": [
      "Current Horizon is: 80\n"
     ]
    },
    {
     "name": "stderr",
     "output_type": "stream",
     "text": [
      "100%|██████████| 480/480 [00:00<00:00, 881.50it/s]\n"
     ]
    },
    {
     "name": "stdout",
     "output_type": "stream",
     "text": [
      "value of pi_b\n",
      "0.48422306420767086\n"
     ]
    },
    {
     "name": "stderr",
     "output_type": "stream",
     "text": [
      "100%|██████████| 160/160 [00:00<00:00, 905.23it/s]\n",
      "100%|██████████| 144/144 [00:00<00:00, 463.71it/s]\n",
      "100%|██████████| 144/144 [00:00<00:00, 227.87it/s]\n",
      "100%|██████████| 30/30 [00:00<00:00, 33.53it/s]\n",
      "100%|██████████| 30/30 [00:02<00:00, 12.55it/s]"
     ]
    },
    {
     "name": "stdout",
     "output_type": "stream",
     "text": [
      "Current Horizon is: 100\n"
     ]
    },
    {
     "name": "stderr",
     "output_type": "stream",
     "text": [
      "\n",
      "100%|██████████| 480/480 [00:00<00:00, 706.68it/s]\n"
     ]
    },
    {
     "name": "stdout",
     "output_type": "stream",
     "text": [
      "value of pi_b\n",
      "0.7744356335937136\n"
     ]
    },
    {
     "name": "stderr",
     "output_type": "stream",
     "text": [
      "100%|██████████| 160/160 [00:00<00:00, 975.64it/s]\n",
      "100%|██████████| 144/144 [00:00<00:00, 465.01it/s]\n",
      "100%|██████████| 144/144 [00:00<00:00, 227.15it/s]\n",
      "100%|██████████| 30/30 [00:00<00:00, 30.17it/s]\n",
      "100%|██████████| 30/30 [00:03<00:00,  9.58it/s]"
     ]
    },
    {
     "name": "stdout",
     "output_type": "stream",
     "text": [
      "Current Horizon is: 120\n"
     ]
    },
    {
     "name": "stderr",
     "output_type": "stream",
     "text": [
      "\n",
      "100%|██████████| 480/480 [00:00<00:00, 584.42it/s]\n"
     ]
    },
    {
     "name": "stdout",
     "output_type": "stream",
     "text": [
      "value of pi_b\n",
      "0.7956903203945274\n"
     ]
    },
    {
     "name": "stderr",
     "output_type": "stream",
     "text": [
      "100%|██████████| 160/160 [00:00<00:00, 858.07it/s]\n",
      "100%|██████████| 144/144 [00:00<00:00, 457.23it/s]\n",
      "100%|██████████| 144/144 [00:00<00:00, 229.37it/s]\n",
      "100%|██████████| 30/30 [00:01<00:00, 24.84it/s]\n",
      "100%|██████████| 30/30 [00:02<00:00, 11.79it/s]"
     ]
    },
    {
     "name": "stdout",
     "output_type": "stream",
     "text": [
      "Current Horizon is: 140\n"
     ]
    },
    {
     "name": "stderr",
     "output_type": "stream",
     "text": [
      "\n",
      "100%|██████████| 480/480 [00:01<00:00, 473.12it/s]\n"
     ]
    },
    {
     "name": "stdout",
     "output_type": "stream",
     "text": [
      "value of pi_b\n",
      "0.7047939669117939\n"
     ]
    },
    {
     "name": "stderr",
     "output_type": "stream",
     "text": [
      "100%|██████████| 160/160 [00:00<00:00, 986.88it/s]\n",
      "100%|██████████| 144/144 [00:00<00:00, 449.01it/s]\n",
      "100%|██████████| 144/144 [00:00<00:00, 227.46it/s]\n",
      "100%|██████████| 30/30 [00:01<00:00, 25.04it/s]\n",
      "100%|██████████| 30/30 [00:02<00:00, 13.93it/s]\n"
     ]
    },
    {
     "name": "stdout",
     "output_type": "stream",
     "text": [
      "Current Horizon is: 160\n"
     ]
    },
    {
     "name": "stderr",
     "output_type": "stream",
     "text": [
      "100%|██████████| 480/480 [00:01<00:00, 435.30it/s]\n"
     ]
    },
    {
     "name": "stdout",
     "output_type": "stream",
     "text": [
      "value of pi_b\n",
      "0.8075342713658825\n"
     ]
    },
    {
     "name": "stderr",
     "output_type": "stream",
     "text": [
      "100%|██████████| 160/160 [00:00<00:00, 976.09it/s]\n",
      "100%|██████████| 144/144 [00:00<00:00, 453.23it/s]\n",
      "100%|██████████| 144/144 [00:00<00:00, 226.64it/s]\n",
      "100%|██████████| 30/30 [00:01<00:00, 22.84it/s]\n",
      "100%|██████████| 30/30 [00:02<00:00, 13.28it/s]"
     ]
    },
    {
     "name": "stdout",
     "output_type": "stream",
     "text": [
      "Current Horizon is: 180\n"
     ]
    },
    {
     "name": "stderr",
     "output_type": "stream",
     "text": [
      "\n",
      "100%|██████████| 480/480 [00:01<00:00, 383.78it/s]\n"
     ]
    },
    {
     "name": "stdout",
     "output_type": "stream",
     "text": [
      "value of pi_b\n",
      "0.9139763545435213\n"
     ]
    },
    {
     "name": "stderr",
     "output_type": "stream",
     "text": [
      "100%|██████████| 160/160 [00:00<00:00, 838.46it/s]\n",
      "100%|██████████| 144/144 [00:00<00:00, 440.24it/s]\n",
      "100%|██████████| 144/144 [00:00<00:00, 228.34it/s]\n",
      "100%|██████████| 30/30 [00:01<00:00, 21.60it/s]\n",
      "100%|██████████| 30/30 [00:02<00:00, 11.86it/s]\n"
     ]
    },
    {
     "name": "stdout",
     "output_type": "stream",
     "text": [
      "Current Horizon is: 200\n"
     ]
    },
    {
     "name": "stderr",
     "output_type": "stream",
     "text": [
      "100%|██████████| 480/480 [00:01<00:00, 352.44it/s]\n"
     ]
    },
    {
     "name": "stdout",
     "output_type": "stream",
     "text": [
      "value of pi_b\n",
      "0.5028321692405543\n"
     ]
    },
    {
     "name": "stderr",
     "output_type": "stream",
     "text": [
      "100%|██████████| 160/160 [00:00<00:00, 852.04it/s]\n",
      "100%|██████████| 144/144 [00:00<00:00, 437.88it/s]\n",
      "100%|██████████| 144/144 [00:00<00:00, 229.32it/s]\n",
      "100%|██████████| 30/30 [00:01<00:00, 19.85it/s]\n",
      "100%|██████████| 30/30 [00:02<00:00, 10.40it/s]"
     ]
    },
    {
     "name": "stdout",
     "output_type": "stream",
     "text": [
      "Trial 7 with start seed 224\n",
      "Current Horizon is: 20\n"
     ]
    },
    {
     "name": "stderr",
     "output_type": "stream",
     "text": [
      "\n",
      "100%|██████████| 480/480 [00:00<00:00, 3523.83it/s]\n"
     ]
    },
    {
     "name": "stdout",
     "output_type": "stream",
     "text": [
      "value of pi_b\n",
      "0.42578198121597965\n"
     ]
    },
    {
     "name": "stderr",
     "output_type": "stream",
     "text": [
      "100%|██████████| 160/160 [00:00<00:00, 971.76it/s]\n",
      "100%|██████████| 144/144 [00:00<00:00, 452.34it/s]\n",
      "100%|██████████| 144/144 [00:00<00:00, 227.58it/s]\n",
      "100%|██████████| 30/30 [00:00<00:00, 48.45it/s]\n",
      "100%|██████████| 30/30 [00:03<00:00,  8.87it/s]"
     ]
    },
    {
     "name": "stdout",
     "output_type": "stream",
     "text": [
      "Current Horizon is: 40\n"
     ]
    },
    {
     "name": "stderr",
     "output_type": "stream",
     "text": [
      "\n",
      "100%|██████████| 480/480 [00:00<00:00, 1771.93it/s]\n"
     ]
    },
    {
     "name": "stdout",
     "output_type": "stream",
     "text": [
      "value of pi_b\n",
      "0.5207742783513781\n"
     ]
    },
    {
     "name": "stderr",
     "output_type": "stream",
     "text": [
      "100%|██████████| 160/160 [00:00<00:00, 966.48it/s]\n",
      "100%|██████████| 144/144 [00:00<00:00, 449.12it/s]\n",
      "100%|██████████| 144/144 [00:00<00:00, 227.44it/s]\n",
      "100%|██████████| 30/30 [00:00<00:00, 43.67it/s]\n",
      "100%|██████████| 30/30 [00:02<00:00, 13.44it/s]"
     ]
    },
    {
     "name": "stdout",
     "output_type": "stream",
     "text": [
      "Current Horizon is: 60\n"
     ]
    },
    {
     "name": "stderr",
     "output_type": "stream",
     "text": [
      "\n",
      "100%|██████████| 480/480 [00:00<00:00, 1174.59it/s]\n"
     ]
    },
    {
     "name": "stdout",
     "output_type": "stream",
     "text": [
      "value of pi_b\n",
      "0.847908900968301\n"
     ]
    },
    {
     "name": "stderr",
     "output_type": "stream",
     "text": [
      "100%|██████████| 160/160 [00:00<00:00, 950.66it/s]\n",
      "100%|██████████| 144/144 [00:00<00:00, 447.97it/s]\n",
      "100%|██████████| 144/144 [00:00<00:00, 228.86it/s]\n",
      "100%|██████████| 30/30 [00:00<00:00, 38.34it/s]\n",
      "100%|██████████| 30/30 [00:01<00:00, 16.19it/s]"
     ]
    },
    {
     "name": "stdout",
     "output_type": "stream",
     "text": [
      "Current Horizon is: 80\n"
     ]
    },
    {
     "name": "stderr",
     "output_type": "stream",
     "text": [
      "\n",
      "100%|██████████| 480/480 [00:00<00:00, 874.40it/s]\n"
     ]
    },
    {
     "name": "stdout",
     "output_type": "stream",
     "text": [
      "value of pi_b\n",
      "0.8346611821487764\n"
     ]
    },
    {
     "name": "stderr",
     "output_type": "stream",
     "text": [
      "100%|██████████| 160/160 [00:00<00:00, 748.84it/s]\n",
      "100%|██████████| 144/144 [00:00<00:00, 448.62it/s]\n",
      "100%|██████████| 144/144 [00:00<00:00, 227.97it/s]\n",
      "100%|██████████| 30/30 [00:00<00:00, 33.03it/s]\n",
      "100%|██████████| 30/30 [00:02<00:00, 14.94it/s]"
     ]
    },
    {
     "name": "stdout",
     "output_type": "stream",
     "text": [
      "Current Horizon is: 100\n"
     ]
    },
    {
     "name": "stderr",
     "output_type": "stream",
     "text": [
      "\n",
      "100%|██████████| 480/480 [00:00<00:00, 692.00it/s]\n"
     ]
    },
    {
     "name": "stdout",
     "output_type": "stream",
     "text": [
      "value of pi_b\n",
      "0.770982596917127\n"
     ]
    },
    {
     "name": "stderr",
     "output_type": "stream",
     "text": [
      "100%|██████████| 160/160 [00:00<00:00, 749.89it/s]\n",
      "100%|██████████| 144/144 [00:00<00:00, 453.09it/s]\n",
      "100%|██████████| 144/144 [00:00<00:00, 229.41it/s]\n",
      "100%|██████████| 30/30 [00:00<00:00, 30.01it/s]\n",
      "100%|██████████| 30/30 [00:02<00:00, 11.93it/s]"
     ]
    },
    {
     "name": "stdout",
     "output_type": "stream",
     "text": [
      "Current Horizon is: 120\n"
     ]
    },
    {
     "name": "stderr",
     "output_type": "stream",
     "text": [
      "\n",
      "100%|██████████| 480/480 [00:00<00:00, 589.93it/s]\n"
     ]
    },
    {
     "name": "stdout",
     "output_type": "stream",
     "text": [
      "value of pi_b\n",
      "0.9259134038915495\n"
     ]
    },
    {
     "name": "stderr",
     "output_type": "stream",
     "text": [
      "100%|██████████| 160/160 [00:00<00:00, 798.52it/s]\n",
      "100%|██████████| 144/144 [00:00<00:00, 439.90it/s]\n",
      "100%|██████████| 144/144 [00:00<00:00, 228.93it/s]\n",
      "100%|██████████| 30/30 [00:01<00:00, 26.84it/s]\n",
      "100%|██████████| 30/30 [00:02<00:00, 14.17it/s]"
     ]
    },
    {
     "name": "stdout",
     "output_type": "stream",
     "text": [
      "Current Horizon is: 140\n"
     ]
    },
    {
     "name": "stderr",
     "output_type": "stream",
     "text": [
      "\n",
      "100%|██████████| 480/480 [00:00<00:00, 498.19it/s]\n"
     ]
    },
    {
     "name": "stdout",
     "output_type": "stream",
     "text": [
      "value of pi_b\n",
      "0.6747222873765817\n"
     ]
    },
    {
     "name": "stderr",
     "output_type": "stream",
     "text": [
      "100%|██████████| 160/160 [00:00<00:00, 802.73it/s]\n",
      "100%|██████████| 144/144 [00:00<00:00, 444.86it/s]\n",
      "100%|██████████| 144/144 [00:00<00:00, 228.19it/s]\n",
      "100%|██████████| 30/30 [00:01<00:00, 24.84it/s]\n",
      "100%|██████████| 30/30 [00:01<00:00, 15.42it/s]\n"
     ]
    },
    {
     "name": "stdout",
     "output_type": "stream",
     "text": [
      "Current Horizon is: 160\n"
     ]
    },
    {
     "name": "stderr",
     "output_type": "stream",
     "text": [
      "100%|██████████| 480/480 [00:01<00:00, 443.04it/s]\n"
     ]
    },
    {
     "name": "stdout",
     "output_type": "stream",
     "text": [
      "value of pi_b\n",
      "0.7136489206286203\n"
     ]
    },
    {
     "name": "stderr",
     "output_type": "stream",
     "text": [
      "100%|██████████| 160/160 [00:00<00:00, 869.99it/s]\n",
      "100%|██████████| 144/144 [00:00<00:00, 454.25it/s]\n",
      "100%|██████████| 144/144 [00:00<00:00, 226.00it/s]\n",
      "100%|██████████| 30/30 [00:01<00:00, 23.15it/s]\n",
      "100%|██████████| 30/30 [00:02<00:00, 14.91it/s]"
     ]
    },
    {
     "name": "stdout",
     "output_type": "stream",
     "text": [
      "Current Horizon is: 180\n"
     ]
    },
    {
     "name": "stderr",
     "output_type": "stream",
     "text": [
      "\n",
      "100%|██████████| 480/480 [00:01<00:00, 388.50it/s]\n"
     ]
    },
    {
     "name": "stdout",
     "output_type": "stream",
     "text": [
      "value of pi_b\n",
      "0.7334849367997668\n"
     ]
    },
    {
     "name": "stderr",
     "output_type": "stream",
     "text": [
      "100%|██████████| 160/160 [00:00<00:00, 840.31it/s]\n",
      "100%|██████████| 144/144 [00:00<00:00, 458.57it/s]\n",
      "100%|██████████| 144/144 [00:00<00:00, 229.01it/s]\n",
      "100%|██████████| 30/30 [00:01<00:00, 21.35it/s]\n",
      "100%|██████████| 30/30 [00:02<00:00, 13.42it/s]"
     ]
    },
    {
     "name": "stdout",
     "output_type": "stream",
     "text": [
      "Current Horizon is: 200\n"
     ]
    },
    {
     "name": "stderr",
     "output_type": "stream",
     "text": [
      "\n",
      "100%|██████████| 480/480 [00:01<00:00, 352.20it/s]\n"
     ]
    },
    {
     "name": "stdout",
     "output_type": "stream",
     "text": [
      "value of pi_b\n",
      "0.9932929838927194\n"
     ]
    },
    {
     "name": "stderr",
     "output_type": "stream",
     "text": [
      "100%|██████████| 160/160 [00:00<00:00, 791.66it/s]\n",
      "100%|██████████| 144/144 [00:00<00:00, 453.41it/s]\n",
      "100%|██████████| 144/144 [00:00<00:00, 228.96it/s]\n",
      "100%|██████████| 30/30 [00:01<00:00, 19.80it/s]\n",
      "100%|██████████| 30/30 [00:02<00:00, 11.52it/s]"
     ]
    },
    {
     "name": "stdout",
     "output_type": "stream",
     "text": [
      "Trial 8 with start seed 256\n",
      "Current Horizon is: 20\n"
     ]
    },
    {
     "name": "stderr",
     "output_type": "stream",
     "text": [
      "\n",
      "100%|██████████| 480/480 [00:00<00:00, 3494.22it/s]\n"
     ]
    },
    {
     "name": "stdout",
     "output_type": "stream",
     "text": [
      "value of pi_b\n",
      "0.2880065538313506\n"
     ]
    },
    {
     "name": "stderr",
     "output_type": "stream",
     "text": [
      "100%|██████████| 160/160 [00:00<00:00, 840.51it/s]\n",
      "100%|██████████| 144/144 [00:00<00:00, 440.20it/s]\n",
      "100%|██████████| 144/144 [00:00<00:00, 228.20it/s]\n",
      "100%|██████████| 30/30 [00:00<00:00, 43.89it/s]\n",
      "100%|██████████| 30/30 [00:04<00:00,  6.46it/s]"
     ]
    },
    {
     "name": "stdout",
     "output_type": "stream",
     "text": [
      "Current Horizon is: 40\n"
     ]
    },
    {
     "name": "stderr",
     "output_type": "stream",
     "text": [
      "\n",
      "100%|██████████| 480/480 [00:00<00:00, 1169.62it/s]\n"
     ]
    },
    {
     "name": "stdout",
     "output_type": "stream",
     "text": [
      "value of pi_b\n",
      "0.6711869528042581\n"
     ]
    },
    {
     "name": "stderr",
     "output_type": "stream",
     "text": [
      "100%|██████████| 160/160 [00:00<00:00, 869.97it/s]\n",
      "100%|██████████| 144/144 [00:00<00:00, 454.54it/s]\n",
      "100%|██████████| 144/144 [00:00<00:00, 228.32it/s]\n",
      "100%|██████████| 30/30 [00:00<00:00, 39.14it/s]\n",
      "100%|██████████| 30/30 [00:01<00:00, 15.46it/s]\n"
     ]
    },
    {
     "name": "stdout",
     "output_type": "stream",
     "text": [
      "Current Horizon is: 60\n"
     ]
    },
    {
     "name": "stderr",
     "output_type": "stream",
     "text": [
      "100%|██████████| 480/480 [00:00<00:00, 1183.13it/s]\n"
     ]
    },
    {
     "name": "stdout",
     "output_type": "stream",
     "text": [
      "value of pi_b\n",
      "0.7509104452165839\n"
     ]
    },
    {
     "name": "stderr",
     "output_type": "stream",
     "text": [
      "100%|██████████| 160/160 [00:00<00:00, 969.99it/s]\n",
      "100%|██████████| 144/144 [00:00<00:00, 457.06it/s]\n",
      "100%|██████████| 144/144 [00:00<00:00, 226.45it/s]\n",
      "100%|██████████| 30/30 [00:00<00:00, 38.27it/s]\n",
      "100%|██████████| 30/30 [00:02<00:00, 12.48it/s]"
     ]
    },
    {
     "name": "stdout",
     "output_type": "stream",
     "text": [
      "Current Horizon is: 80\n"
     ]
    },
    {
     "name": "stderr",
     "output_type": "stream",
     "text": [
      "\n",
      "100%|██████████| 480/480 [00:00<00:00, 890.54it/s]\n"
     ]
    },
    {
     "name": "stdout",
     "output_type": "stream",
     "text": [
      "value of pi_b\n",
      "0.859036371342827\n"
     ]
    },
    {
     "name": "stderr",
     "output_type": "stream",
     "text": [
      "100%|██████████| 160/160 [00:00<00:00, 970.89it/s]\n",
      "100%|██████████| 144/144 [00:00<00:00, 307.84it/s]\n",
      "100%|██████████| 144/144 [00:00<00:00, 152.72it/s]\n",
      "100%|██████████| 30/30 [00:01<00:00, 25.46it/s]\n",
      "100%|██████████| 30/30 [00:03<00:00,  8.25it/s]"
     ]
    },
    {
     "name": "stdout",
     "output_type": "stream",
     "text": [
      "Current Horizon is: 100\n"
     ]
    },
    {
     "name": "stderr",
     "output_type": "stream",
     "text": [
      "\n",
      "100%|██████████| 480/480 [00:00<00:00, 701.28it/s]\n"
     ]
    },
    {
     "name": "stdout",
     "output_type": "stream",
     "text": [
      "value of pi_b\n",
      "0.7450619962689288\n"
     ]
    },
    {
     "name": "stderr",
     "output_type": "stream",
     "text": [
      "100%|██████████| 160/160 [00:00<00:00, 972.40it/s]\n",
      "100%|██████████| 144/144 [00:00<00:00, 457.56it/s]\n",
      "100%|██████████| 144/144 [00:00<00:00, 229.40it/s]\n",
      "100%|██████████| 30/30 [00:00<00:00, 30.54it/s]\n",
      "100%|██████████| 30/30 [00:02<00:00, 13.68it/s]"
     ]
    },
    {
     "name": "stdout",
     "output_type": "stream",
     "text": [
      "Current Horizon is: 120\n"
     ]
    },
    {
     "name": "stderr",
     "output_type": "stream",
     "text": [
      "\n",
      "100%|██████████| 480/480 [00:00<00:00, 570.31it/s]\n"
     ]
    },
    {
     "name": "stdout",
     "output_type": "stream",
     "text": [
      "value of pi_b\n",
      "0.8013974618448922\n"
     ]
    },
    {
     "name": "stderr",
     "output_type": "stream",
     "text": [
      "100%|██████████| 160/160 [00:00<00:00, 868.21it/s]\n",
      "100%|██████████| 144/144 [00:00<00:00, 453.10it/s]\n",
      "100%|██████████| 144/144 [00:00<00:00, 226.32it/s]\n",
      "100%|██████████| 30/30 [00:01<00:00, 27.36it/s]\n",
      "100%|██████████| 30/30 [00:02<00:00, 12.75it/s]\n"
     ]
    },
    {
     "name": "stdout",
     "output_type": "stream",
     "text": [
      "Current Horizon is: 140\n"
     ]
    },
    {
     "name": "stderr",
     "output_type": "stream",
     "text": [
      "100%|██████████| 480/480 [00:00<00:00, 482.04it/s]\n"
     ]
    },
    {
     "name": "stdout",
     "output_type": "stream",
     "text": [
      "value of pi_b\n",
      "0.5708643913885283\n"
     ]
    },
    {
     "name": "stderr",
     "output_type": "stream",
     "text": [
      "100%|██████████| 160/160 [00:00<00:00, 976.39it/s]\n",
      "100%|██████████| 144/144 [00:00<00:00, 445.71it/s]\n",
      "100%|██████████| 144/144 [00:00<00:00, 226.07it/s]\n",
      "100%|██████████| 30/30 [00:01<00:00, 25.28it/s]\n",
      "100%|██████████| 30/30 [00:02<00:00, 12.85it/s]"
     ]
    },
    {
     "name": "stdout",
     "output_type": "stream",
     "text": [
      "Current Horizon is: 160\n"
     ]
    },
    {
     "name": "stderr",
     "output_type": "stream",
     "text": [
      "\n",
      "100%|██████████| 480/480 [00:01<00:00, 437.13it/s]\n"
     ]
    },
    {
     "name": "stdout",
     "output_type": "stream",
     "text": [
      "value of pi_b\n",
      "0.6275670779265557\n"
     ]
    },
    {
     "name": "stderr",
     "output_type": "stream",
     "text": [
      "100%|██████████| 160/160 [00:00<00:00, 945.39it/s]\n",
      "100%|██████████| 144/144 [00:00<00:00, 442.22it/s]\n",
      "100%|██████████| 144/144 [00:00<00:00, 226.81it/s]\n",
      "100%|██████████| 30/30 [00:01<00:00, 23.03it/s]\n",
      "100%|██████████| 30/30 [00:03<00:00,  8.16it/s]\n"
     ]
    },
    {
     "name": "stdout",
     "output_type": "stream",
     "text": [
      "Current Horizon is: 180\n"
     ]
    },
    {
     "name": "stderr",
     "output_type": "stream",
     "text": [
      "100%|██████████| 480/480 [00:01<00:00, 387.27it/s]\n"
     ]
    },
    {
     "name": "stdout",
     "output_type": "stream",
     "text": [
      "value of pi_b\n",
      "0.8400654278043583\n"
     ]
    },
    {
     "name": "stderr",
     "output_type": "stream",
     "text": [
      "100%|██████████| 160/160 [00:00<00:00, 887.47it/s]\n",
      "100%|██████████| 144/144 [00:00<00:00, 446.63it/s]\n",
      "100%|██████████| 144/144 [00:00<00:00, 229.21it/s]\n",
      "100%|██████████| 30/30 [00:01<00:00, 20.93it/s]\n",
      "100%|██████████| 30/30 [00:03<00:00,  9.66it/s]"
     ]
    },
    {
     "name": "stdout",
     "output_type": "stream",
     "text": [
      "Current Horizon is: 200\n"
     ]
    },
    {
     "name": "stderr",
     "output_type": "stream",
     "text": [
      "\n",
      "100%|██████████| 480/480 [00:01<00:00, 345.59it/s]\n"
     ]
    },
    {
     "name": "stdout",
     "output_type": "stream",
     "text": [
      "value of pi_b\n",
      "0.6730568065814909\n"
     ]
    },
    {
     "name": "stderr",
     "output_type": "stream",
     "text": [
      "100%|██████████| 160/160 [00:00<00:00, 780.65it/s]\n",
      "100%|██████████| 144/144 [00:00<00:00, 450.45it/s]\n",
      "100%|██████████| 144/144 [00:00<00:00, 229.38it/s]\n",
      "100%|██████████| 30/30 [00:01<00:00, 19.95it/s]\n",
      "100%|██████████| 30/30 [00:02<00:00, 10.48it/s]"
     ]
    },
    {
     "name": "stdout",
     "output_type": "stream",
     "text": [
      "Trial 9 with start seed 288\n",
      "Current Horizon is: 20\n"
     ]
    },
    {
     "name": "stderr",
     "output_type": "stream",
     "text": [
      "\n",
      "100%|██████████| 480/480 [00:00<00:00, 3500.68it/s]\n"
     ]
    },
    {
     "name": "stdout",
     "output_type": "stream",
     "text": [
      "value of pi_b\n",
      "0.45201254012713116\n"
     ]
    },
    {
     "name": "stderr",
     "output_type": "stream",
     "text": [
      "100%|██████████| 160/160 [00:00<00:00, 745.55it/s]\n",
      "100%|██████████| 144/144 [00:00<00:00, 425.72it/s]\n",
      "100%|██████████| 144/144 [00:00<00:00, 227.09it/s]\n",
      "100%|██████████| 30/30 [00:00<00:00, 45.88it/s]\n",
      "100%|██████████| 30/30 [00:03<00:00,  8.06it/s]"
     ]
    },
    {
     "name": "stdout",
     "output_type": "stream",
     "text": [
      "Current Horizon is: 40\n"
     ]
    },
    {
     "name": "stderr",
     "output_type": "stream",
     "text": [
      "\n",
      "100%|██████████| 480/480 [00:00<00:00, 1706.19it/s]\n"
     ]
    },
    {
     "name": "stdout",
     "output_type": "stream",
     "text": [
      "value of pi_b\n",
      "0.5956403499988554\n"
     ]
    },
    {
     "name": "stderr",
     "output_type": "stream",
     "text": [
      "100%|██████████| 160/160 [00:00<00:00, 781.74it/s]\n",
      "100%|██████████| 144/144 [00:00<00:00, 439.23it/s]\n",
      "100%|██████████| 144/144 [00:00<00:00, 225.86it/s]\n",
      "100%|██████████| 30/30 [00:00<00:00, 40.00it/s]\n",
      "100%|██████████| 30/30 [00:02<00:00, 12.26it/s]"
     ]
    },
    {
     "name": "stdout",
     "output_type": "stream",
     "text": [
      "Current Horizon is: 60\n"
     ]
    },
    {
     "name": "stderr",
     "output_type": "stream",
     "text": [
      "\n",
      "100%|██████████| 480/480 [00:00<00:00, 1171.32it/s]\n"
     ]
    },
    {
     "name": "stdout",
     "output_type": "stream",
     "text": [
      "value of pi_b\n",
      "0.708875781639758\n"
     ]
    },
    {
     "name": "stderr",
     "output_type": "stream",
     "text": [
      "100%|██████████| 160/160 [00:00<00:00, 728.31it/s]\n",
      "100%|██████████| 144/144 [00:00<00:00, 450.39it/s]\n",
      "100%|██████████| 144/144 [00:00<00:00, 228.04it/s]\n",
      "100%|██████████| 30/30 [00:00<00:00, 38.28it/s]\n",
      "100%|██████████| 30/30 [00:01<00:00, 17.93it/s]"
     ]
    },
    {
     "name": "stdout",
     "output_type": "stream",
     "text": [
      "Current Horizon is: 80\n"
     ]
    },
    {
     "name": "stderr",
     "output_type": "stream",
     "text": [
      "\n",
      "100%|██████████| 480/480 [00:00<00:00, 871.87it/s]\n"
     ]
    },
    {
     "name": "stdout",
     "output_type": "stream",
     "text": [
      "value of pi_b\n",
      "0.7555070134203277\n"
     ]
    },
    {
     "name": "stderr",
     "output_type": "stream",
     "text": [
      "100%|██████████| 160/160 [00:00<00:00, 817.80it/s]\n",
      "100%|██████████| 144/144 [00:00<00:00, 454.46it/s]\n",
      "100%|██████████| 144/144 [00:00<00:00, 225.87it/s]\n",
      "100%|██████████| 30/30 [00:00<00:00, 34.05it/s]\n",
      "100%|██████████| 30/30 [00:02<00:00, 11.84it/s]"
     ]
    },
    {
     "name": "stdout",
     "output_type": "stream",
     "text": [
      "Current Horizon is: 100\n"
     ]
    },
    {
     "name": "stderr",
     "output_type": "stream",
     "text": [
      "\n",
      "100%|██████████| 480/480 [00:00<00:00, 698.69it/s]\n"
     ]
    },
    {
     "name": "stdout",
     "output_type": "stream",
     "text": [
      "value of pi_b\n",
      "0.848073959499589\n"
     ]
    },
    {
     "name": "stderr",
     "output_type": "stream",
     "text": [
      "100%|██████████| 160/160 [00:00<00:00, 842.19it/s]\n",
      "100%|██████████| 144/144 [00:00<00:00, 446.69it/s]\n",
      "100%|██████████| 144/144 [00:00<00:00, 229.36it/s]\n",
      "100%|██████████| 30/30 [00:00<00:00, 30.74it/s]\n",
      "100%|██████████| 30/30 [00:01<00:00, 15.48it/s]"
     ]
    },
    {
     "name": "stdout",
     "output_type": "stream",
     "text": [
      "Current Horizon is: 120\n"
     ]
    },
    {
     "name": "stderr",
     "output_type": "stream",
     "text": [
      "\n",
      "100%|██████████| 480/480 [00:00<00:00, 583.04it/s]\n"
     ]
    },
    {
     "name": "stdout",
     "output_type": "stream",
     "text": [
      "value of pi_b\n",
      "0.7017118770240262\n"
     ]
    },
    {
     "name": "stderr",
     "output_type": "stream",
     "text": [
      "100%|██████████| 160/160 [00:00<00:00, 846.32it/s]\n",
      "100%|██████████| 144/144 [00:00<00:00, 182.13it/s]\n",
      "100%|██████████| 144/144 [00:00<00:00, 202.45it/s]\n",
      "100%|██████████| 30/30 [00:01<00:00, 23.13it/s]\n",
      "100%|██████████| 30/30 [00:02<00:00, 11.93it/s]"
     ]
    },
    {
     "name": "stdout",
     "output_type": "stream",
     "text": [
      "Current Horizon is: 140\n"
     ]
    },
    {
     "name": "stderr",
     "output_type": "stream",
     "text": [
      "\n",
      "100%|██████████| 480/480 [00:00<00:00, 501.08it/s]\n"
     ]
    },
    {
     "name": "stdout",
     "output_type": "stream",
     "text": [
      "value of pi_b\n",
      "0.8122925379153298\n"
     ]
    },
    {
     "name": "stderr",
     "output_type": "stream",
     "text": [
      "100%|██████████| 160/160 [00:00<00:00, 854.98it/s]\n",
      "100%|██████████| 144/144 [00:00<00:00, 458.03it/s]\n",
      "100%|██████████| 144/144 [00:00<00:00, 227.61it/s]\n",
      "100%|██████████| 30/30 [00:01<00:00, 24.77it/s]\n",
      "100%|██████████| 30/30 [00:01<00:00, 15.02it/s]\n"
     ]
    },
    {
     "name": "stdout",
     "output_type": "stream",
     "text": [
      "Current Horizon is: 160\n"
     ]
    },
    {
     "name": "stderr",
     "output_type": "stream",
     "text": [
      "100%|██████████| 480/480 [00:01<00:00, 440.46it/s]\n"
     ]
    },
    {
     "name": "stdout",
     "output_type": "stream",
     "text": [
      "value of pi_b\n",
      "0.8361074334388461\n"
     ]
    },
    {
     "name": "stderr",
     "output_type": "stream",
     "text": [
      "100%|██████████| 160/160 [00:00<00:00, 961.41it/s]\n",
      "100%|██████████| 144/144 [00:00<00:00, 459.98it/s]\n",
      "100%|██████████| 144/144 [00:00<00:00, 227.72it/s]\n",
      "100%|██████████| 30/30 [00:01<00:00, 22.41it/s]\n",
      "100%|██████████| 30/30 [00:02<00:00, 14.69it/s]\n"
     ]
    },
    {
     "name": "stdout",
     "output_type": "stream",
     "text": [
      "Current Horizon is: 180\n"
     ]
    },
    {
     "name": "stderr",
     "output_type": "stream",
     "text": [
      "100%|██████████| 480/480 [00:01<00:00, 389.50it/s]\n"
     ]
    },
    {
     "name": "stdout",
     "output_type": "stream",
     "text": [
      "value of pi_b\n",
      "0.6404215970413593\n"
     ]
    },
    {
     "name": "stderr",
     "output_type": "stream",
     "text": [
      "100%|██████████| 160/160 [00:00<00:00, 959.97it/s]\n",
      "100%|██████████| 144/144 [00:00<00:00, 443.21it/s]\n",
      "100%|██████████| 144/144 [00:00<00:00, 228.52it/s]\n",
      "100%|██████████| 30/30 [00:01<00:00, 21.43it/s]\n",
      "100%|██████████| 30/30 [00:02<00:00, 11.62it/s]"
     ]
    },
    {
     "name": "stdout",
     "output_type": "stream",
     "text": [
      "Current Horizon is: 200\n"
     ]
    },
    {
     "name": "stderr",
     "output_type": "stream",
     "text": [
      "\n",
      "100%|██████████| 480/480 [00:01<00:00, 350.53it/s]\n"
     ]
    },
    {
     "name": "stdout",
     "output_type": "stream",
     "text": [
      "value of pi_b\n",
      "0.9514180261706094\n"
     ]
    },
    {
     "name": "stderr",
     "output_type": "stream",
     "text": [
      "100%|██████████| 160/160 [00:00<00:00, 965.12it/s]\n",
      "100%|██████████| 144/144 [00:00<00:00, 448.20it/s]\n",
      "100%|██████████| 144/144 [00:00<00:00, 227.05it/s]\n",
      "100%|██████████| 30/30 [00:01<00:00, 19.95it/s]\n",
      "100%|██████████| 30/30 [00:02<00:00, 14.17it/s]"
     ]
    },
    {
     "name": "stdout",
     "output_type": "stream",
     "text": [
      "Trial 10 with start seed 320\n",
      "Current Horizon is: 20\n"
     ]
    },
    {
     "name": "stderr",
     "output_type": "stream",
     "text": [
      "\n",
      "100%|██████████| 480/480 [00:00<00:00, 3504.04it/s]\n"
     ]
    },
    {
     "name": "stdout",
     "output_type": "stream",
     "text": [
      "value of pi_b\n",
      "0.5812086531703983\n"
     ]
    },
    {
     "name": "stderr",
     "output_type": "stream",
     "text": [
      "100%|██████████| 160/160 [00:00<00:00, 954.85it/s]\n",
      "100%|██████████| 144/144 [00:00<00:00, 449.34it/s]\n",
      "100%|██████████| 144/144 [00:00<00:00, 229.60it/s]\n",
      "100%|██████████| 30/30 [00:00<00:00, 42.59it/s]\n",
      "100%|██████████| 30/30 [00:04<00:00,  6.30it/s]"
     ]
    },
    {
     "name": "stdout",
     "output_type": "stream",
     "text": [
      "Current Horizon is: 40\n"
     ]
    },
    {
     "name": "stderr",
     "output_type": "stream",
     "text": [
      "\n",
      "100%|██████████| 480/480 [00:00<00:00, 1785.09it/s]\n"
     ]
    },
    {
     "name": "stdout",
     "output_type": "stream",
     "text": [
      "value of pi_b\n",
      "0.6402621171870398\n"
     ]
    },
    {
     "name": "stderr",
     "output_type": "stream",
     "text": [
      "100%|██████████| 160/160 [00:00<00:00, 963.69it/s]\n",
      "100%|██████████| 144/144 [00:00<00:00, 455.21it/s]\n",
      "100%|██████████| 144/144 [00:00<00:00, 228.94it/s]\n",
      "100%|██████████| 30/30 [00:00<00:00, 40.71it/s]\n",
      "100%|██████████| 30/30 [00:02<00:00, 12.99it/s]"
     ]
    },
    {
     "name": "stdout",
     "output_type": "stream",
     "text": [
      "Current Horizon is: 60\n"
     ]
    },
    {
     "name": "stderr",
     "output_type": "stream",
     "text": [
      "\n",
      "100%|██████████| 480/480 [00:00<00:00, 1172.62it/s]\n"
     ]
    },
    {
     "name": "stdout",
     "output_type": "stream",
     "text": [
      "value of pi_b\n",
      "0.8935346460310253\n"
     ]
    },
    {
     "name": "stderr",
     "output_type": "stream",
     "text": [
      "100%|██████████| 160/160 [00:00<00:00, 962.35it/s]\n",
      "100%|██████████| 144/144 [00:00<00:00, 458.75it/s]\n",
      "100%|██████████| 144/144 [00:00<00:00, 227.08it/s]\n",
      "100%|██████████| 30/30 [00:00<00:00, 37.47it/s]\n",
      "100%|██████████| 30/30 [00:02<00:00, 12.72it/s]"
     ]
    },
    {
     "name": "stdout",
     "output_type": "stream",
     "text": [
      "Current Horizon is: 80\n"
     ]
    },
    {
     "name": "stderr",
     "output_type": "stream",
     "text": [
      "\n",
      "100%|██████████| 480/480 [00:00<00:00, 874.25it/s]\n"
     ]
    },
    {
     "name": "stdout",
     "output_type": "stream",
     "text": [
      "value of pi_b\n",
      "0.8068073698749328\n"
     ]
    },
    {
     "name": "stderr",
     "output_type": "stream",
     "text": [
      "100%|██████████| 160/160 [00:00<00:00, 827.93it/s]\n",
      "100%|██████████| 144/144 [00:00<00:00, 452.56it/s]\n",
      "100%|██████████| 144/144 [00:00<00:00, 225.88it/s]\n",
      "100%|██████████| 30/30 [00:00<00:00, 33.81it/s]\n",
      "100%|██████████| 30/30 [00:02<00:00, 13.03it/s]"
     ]
    },
    {
     "name": "stdout",
     "output_type": "stream",
     "text": [
      "Current Horizon is: 100\n"
     ]
    },
    {
     "name": "stderr",
     "output_type": "stream",
     "text": [
      "\n",
      "100%|██████████| 480/480 [00:00<00:00, 698.04it/s]\n"
     ]
    },
    {
     "name": "stdout",
     "output_type": "stream",
     "text": [
      "value of pi_b\n",
      "0.8178288826101224\n"
     ]
    },
    {
     "name": "stderr",
     "output_type": "stream",
     "text": [
      "100%|██████████| 160/160 [00:00<00:00, 845.48it/s]\n",
      "100%|██████████| 144/144 [00:00<00:00, 448.30it/s]\n",
      "100%|██████████| 144/144 [00:00<00:00, 228.68it/s]\n",
      "100%|██████████| 30/30 [00:01<00:00, 29.82it/s]\n",
      "100%|██████████| 30/30 [00:02<00:00, 14.22it/s]"
     ]
    },
    {
     "name": "stdout",
     "output_type": "stream",
     "text": [
      "Current Horizon is: 120\n"
     ]
    },
    {
     "name": "stderr",
     "output_type": "stream",
     "text": [
      "\n",
      "100%|██████████| 480/480 [00:00<00:00, 579.16it/s]\n"
     ]
    },
    {
     "name": "stdout",
     "output_type": "stream",
     "text": [
      "value of pi_b\n",
      "0.6870040602970152\n"
     ]
    },
    {
     "name": "stderr",
     "output_type": "stream",
     "text": [
      "100%|██████████| 160/160 [00:00<00:00, 812.81it/s]\n",
      "100%|██████████| 144/144 [00:00<00:00, 446.88it/s]\n",
      "100%|██████████| 144/144 [00:00<00:00, 227.68it/s]\n",
      "100%|██████████| 30/30 [00:01<00:00, 25.10it/s]\n",
      "100%|██████████| 30/30 [00:02<00:00, 12.04it/s]"
     ]
    },
    {
     "name": "stdout",
     "output_type": "stream",
     "text": [
      "Current Horizon is: 140\n"
     ]
    },
    {
     "name": "stderr",
     "output_type": "stream",
     "text": [
      "\n",
      "100%|██████████| 480/480 [00:00<00:00, 502.68it/s]\n"
     ]
    },
    {
     "name": "stdout",
     "output_type": "stream",
     "text": [
      "value of pi_b\n",
      "0.672416700043739\n"
     ]
    },
    {
     "name": "stderr",
     "output_type": "stream",
     "text": [
      "100%|██████████| 160/160 [00:00<00:00, 748.63it/s]\n",
      "100%|██████████| 144/144 [00:00<00:00, 450.37it/s]\n",
      "100%|██████████| 144/144 [00:00<00:00, 229.58it/s]\n",
      "100%|██████████| 30/30 [00:01<00:00, 25.20it/s]\n",
      "100%|██████████| 30/30 [00:02<00:00, 12.20it/s]"
     ]
    },
    {
     "name": "stdout",
     "output_type": "stream",
     "text": [
      "Current Horizon is: 160\n"
     ]
    },
    {
     "name": "stderr",
     "output_type": "stream",
     "text": [
      "\n",
      "100%|██████████| 480/480 [00:01<00:00, 436.28it/s]\n"
     ]
    },
    {
     "name": "stdout",
     "output_type": "stream",
     "text": [
      "value of pi_b\n",
      "0.6930465104151114\n"
     ]
    },
    {
     "name": "stderr",
     "output_type": "stream",
     "text": [
      "100%|██████████| 160/160 [00:00<00:00, 975.76it/s]\n",
      "100%|██████████| 144/144 [00:00<00:00, 451.75it/s]\n",
      "100%|██████████| 144/144 [00:00<00:00, 227.22it/s]\n",
      "100%|██████████| 30/30 [00:01<00:00, 23.15it/s]\n",
      "100%|██████████| 30/30 [00:02<00:00, 14.01it/s]"
     ]
    },
    {
     "name": "stdout",
     "output_type": "stream",
     "text": [
      "Current Horizon is: 180\n"
     ]
    },
    {
     "name": "stderr",
     "output_type": "stream",
     "text": [
      "\n",
      "100%|██████████| 480/480 [00:01<00:00, 390.89it/s]\n"
     ]
    },
    {
     "name": "stdout",
     "output_type": "stream",
     "text": [
      "value of pi_b\n",
      "0.697169782874655\n"
     ]
    },
    {
     "name": "stderr",
     "output_type": "stream",
     "text": [
      "100%|██████████| 160/160 [00:00<00:00, 841.59it/s]\n",
      "100%|██████████| 144/144 [00:00<00:00, 454.39it/s]\n",
      "100%|██████████| 144/144 [00:00<00:00, 227.84it/s]\n",
      "100%|██████████| 30/30 [00:01<00:00, 21.15it/s]\n",
      "100%|██████████| 30/30 [00:02<00:00, 12.35it/s]"
     ]
    },
    {
     "name": "stdout",
     "output_type": "stream",
     "text": [
      "Current Horizon is: 200\n"
     ]
    },
    {
     "name": "stderr",
     "output_type": "stream",
     "text": [
      "\n",
      "100%|██████████| 480/480 [00:01<00:00, 351.20it/s]\n"
     ]
    },
    {
     "name": "stdout",
     "output_type": "stream",
     "text": [
      "value of pi_b\n",
      "1.0275915230558716\n"
     ]
    },
    {
     "name": "stderr",
     "output_type": "stream",
     "text": [
      "100%|██████████| 160/160 [00:00<00:00, 810.89it/s]\n",
      "100%|██████████| 144/144 [00:00<00:00, 454.10it/s]\n",
      "100%|██████████| 144/144 [00:00<00:00, 225.95it/s]\n",
      "100%|██████████| 30/30 [00:01<00:00, 19.96it/s]\n",
      "100%|██████████| 30/30 [00:02<00:00, 13.50it/s]\n"
     ]
    },
    {
     "name": "stdout",
     "output_type": "stream",
     "text": [
      "Trial 11 with start seed 352\n",
      "Current Horizon is: 20\n"
     ]
    },
    {
     "name": "stderr",
     "output_type": "stream",
     "text": [
      "100%|██████████| 480/480 [00:00<00:00, 3451.74it/s]\n"
     ]
    },
    {
     "name": "stdout",
     "output_type": "stream",
     "text": [
      "value of pi_b\n",
      "0.3446177659559339\n"
     ]
    },
    {
     "name": "stderr",
     "output_type": "stream",
     "text": [
      "100%|██████████| 160/160 [00:00<00:00, 883.78it/s]\n",
      "100%|██████████| 144/144 [00:00<00:00, 452.01it/s]\n",
      "100%|██████████| 144/144 [00:00<00:00, 228.52it/s]\n",
      "100%|██████████| 30/30 [00:00<00:00, 49.31it/s]\n",
      "100%|██████████| 30/30 [00:04<00:00,  7.09it/s]"
     ]
    },
    {
     "name": "stdout",
     "output_type": "stream",
     "text": [
      "Current Horizon is: 40\n"
     ]
    },
    {
     "name": "stderr",
     "output_type": "stream",
     "text": [
      "\n",
      "100%|██████████| 480/480 [00:00<00:00, 1737.50it/s]\n"
     ]
    },
    {
     "name": "stdout",
     "output_type": "stream",
     "text": [
      "value of pi_b\n",
      "0.5096338746292425\n"
     ]
    },
    {
     "name": "stderr",
     "output_type": "stream",
     "text": [
      "100%|██████████| 160/160 [00:00<00:00, 819.05it/s]\n",
      "100%|██████████| 144/144 [00:00<00:00, 437.41it/s]\n",
      "100%|██████████| 144/144 [00:00<00:00, 226.57it/s]\n",
      "100%|██████████| 30/30 [00:00<00:00, 39.97it/s]\n",
      "100%|██████████| 30/30 [00:02<00:00, 10.56it/s]"
     ]
    },
    {
     "name": "stdout",
     "output_type": "stream",
     "text": [
      "Current Horizon is: 60\n"
     ]
    },
    {
     "name": "stderr",
     "output_type": "stream",
     "text": [
      "\n",
      "100%|██████████| 480/480 [00:00<00:00, 1162.31it/s]\n"
     ]
    },
    {
     "name": "stdout",
     "output_type": "stream",
     "text": [
      "value of pi_b\n",
      "0.8462147748696192\n"
     ]
    },
    {
     "name": "stderr",
     "output_type": "stream",
     "text": [
      "100%|██████████| 160/160 [00:00<00:00, 770.25it/s]\n",
      "100%|██████████| 144/144 [00:00<00:00, 458.02it/s]\n",
      "100%|██████████| 144/144 [00:00<00:00, 227.92it/s]\n",
      "100%|██████████| 30/30 [00:00<00:00, 38.47it/s]\n",
      "100%|██████████| 30/30 [00:02<00:00, 14.46it/s]"
     ]
    },
    {
     "name": "stdout",
     "output_type": "stream",
     "text": [
      "Current Horizon is: 80\n"
     ]
    },
    {
     "name": "stderr",
     "output_type": "stream",
     "text": [
      "\n",
      "100%|██████████| 480/480 [00:00<00:00, 864.64it/s]\n"
     ]
    },
    {
     "name": "stdout",
     "output_type": "stream",
     "text": [
      "value of pi_b\n",
      "0.606357785026335\n"
     ]
    },
    {
     "name": "stderr",
     "output_type": "stream",
     "text": [
      "100%|██████████| 160/160 [00:00<00:00, 795.08it/s]\n",
      "100%|██████████| 144/144 [00:00<00:00, 440.40it/s]\n",
      "100%|██████████| 144/144 [00:00<00:00, 226.42it/s]\n",
      "100%|██████████| 30/30 [00:00<00:00, 32.49it/s]\n",
      "100%|██████████| 30/30 [00:02<00:00, 14.41it/s]"
     ]
    },
    {
     "name": "stdout",
     "output_type": "stream",
     "text": [
      "Current Horizon is: 100\n"
     ]
    },
    {
     "name": "stderr",
     "output_type": "stream",
     "text": [
      "\n",
      "100%|██████████| 480/480 [00:00<00:00, 695.54it/s]\n"
     ]
    },
    {
     "name": "stdout",
     "output_type": "stream",
     "text": [
      "value of pi_b\n",
      "0.6119744638683946\n"
     ]
    },
    {
     "name": "stderr",
     "output_type": "stream",
     "text": [
      "100%|██████████| 160/160 [00:00<00:00, 961.87it/s]\n",
      "100%|██████████| 144/144 [00:00<00:00, 447.49it/s]\n",
      "100%|██████████| 144/144 [00:00<00:00, 226.07it/s]\n",
      "100%|██████████| 30/30 [00:00<00:00, 30.32it/s]\n",
      "100%|██████████| 30/30 [00:02<00:00, 12.62it/s]\n"
     ]
    },
    {
     "name": "stdout",
     "output_type": "stream",
     "text": [
      "Current Horizon is: 120\n"
     ]
    },
    {
     "name": "stderr",
     "output_type": "stream",
     "text": [
      "100%|██████████| 480/480 [00:00<00:00, 580.14it/s]\n"
     ]
    },
    {
     "name": "stdout",
     "output_type": "stream",
     "text": [
      "value of pi_b\n",
      "0.6290210594789906\n"
     ]
    },
    {
     "name": "stderr",
     "output_type": "stream",
     "text": [
      "100%|██████████| 160/160 [00:00<00:00, 855.09it/s]\n",
      "100%|██████████| 144/144 [00:00<00:00, 439.17it/s]\n",
      "100%|██████████| 144/144 [00:00<00:00, 228.36it/s]\n",
      "100%|██████████| 30/30 [00:01<00:00, 27.42it/s]\n",
      "100%|██████████| 30/30 [00:02<00:00, 13.30it/s]"
     ]
    },
    {
     "name": "stdout",
     "output_type": "stream",
     "text": [
      "Current Horizon is: 140\n"
     ]
    },
    {
     "name": "stderr",
     "output_type": "stream",
     "text": [
      "\n",
      "100%|██████████| 480/480 [00:00<00:00, 496.16it/s]\n"
     ]
    },
    {
     "name": "stdout",
     "output_type": "stream",
     "text": [
      "value of pi_b\n",
      "0.6591775412699721\n"
     ]
    },
    {
     "name": "stderr",
     "output_type": "stream",
     "text": [
      "100%|██████████| 160/160 [00:00<00:00, 915.96it/s]\n",
      "100%|██████████| 144/144 [00:00<00:00, 442.35it/s]\n",
      "100%|██████████| 144/144 [00:00<00:00, 228.44it/s]\n",
      "100%|██████████| 30/30 [00:01<00:00, 24.72it/s]\n",
      "100%|██████████| 30/30 [00:02<00:00, 14.85it/s]"
     ]
    },
    {
     "name": "stdout",
     "output_type": "stream",
     "text": [
      "Current Horizon is: 160\n"
     ]
    },
    {
     "name": "stderr",
     "output_type": "stream",
     "text": [
      "\n",
      "100%|██████████| 480/480 [00:01<00:00, 434.95it/s]\n"
     ]
    },
    {
     "name": "stdout",
     "output_type": "stream",
     "text": [
      "value of pi_b\n",
      "0.6670823315235275\n"
     ]
    },
    {
     "name": "stderr",
     "output_type": "stream",
     "text": [
      "100%|██████████| 160/160 [00:00<00:00, 841.26it/s]\n",
      "100%|██████████| 144/144 [00:00<00:00, 452.56it/s]\n",
      "100%|██████████| 144/144 [00:00<00:00, 228.86it/s]\n",
      "100%|██████████| 30/30 [00:01<00:00, 23.19it/s]\n",
      "100%|██████████| 30/30 [00:02<00:00, 14.52it/s]"
     ]
    },
    {
     "name": "stdout",
     "output_type": "stream",
     "text": [
      "Current Horizon is: 180\n"
     ]
    },
    {
     "name": "stderr",
     "output_type": "stream",
     "text": [
      "\n",
      "100%|██████████| 480/480 [00:01<00:00, 391.92it/s]\n"
     ]
    },
    {
     "name": "stdout",
     "output_type": "stream",
     "text": [
      "value of pi_b\n",
      "0.5815570373474058\n"
     ]
    },
    {
     "name": "stderr",
     "output_type": "stream",
     "text": [
      "100%|██████████| 160/160 [00:00<00:00, 824.00it/s]\n",
      "100%|██████████| 144/144 [00:00<00:00, 454.78it/s]\n",
      "100%|██████████| 144/144 [00:00<00:00, 227.22it/s]\n",
      "100%|██████████| 30/30 [00:01<00:00, 21.50it/s]\n",
      "100%|██████████| 30/30 [00:02<00:00, 13.76it/s]\n"
     ]
    },
    {
     "name": "stdout",
     "output_type": "stream",
     "text": [
      "Current Horizon is: 200\n"
     ]
    },
    {
     "name": "stderr",
     "output_type": "stream",
     "text": [
      "100%|██████████| 480/480 [00:01<00:00, 352.79it/s]\n"
     ]
    },
    {
     "name": "stdout",
     "output_type": "stream",
     "text": [
      "value of pi_b\n",
      "0.7825470740265985\n"
     ]
    },
    {
     "name": "stderr",
     "output_type": "stream",
     "text": [
      "100%|██████████| 160/160 [00:00<00:00, 893.24it/s]\n",
      "100%|██████████| 144/144 [00:00<00:00, 452.92it/s]\n",
      "100%|██████████| 144/144 [00:00<00:00, 228.76it/s]\n",
      "100%|██████████| 30/30 [00:01<00:00, 19.53it/s]\n",
      "100%|██████████| 30/30 [00:02<00:00, 12.56it/s]"
     ]
    },
    {
     "name": "stdout",
     "output_type": "stream",
     "text": [
      "Trial 12 with start seed 384\n",
      "Current Horizon is: 20\n"
     ]
    },
    {
     "name": "stderr",
     "output_type": "stream",
     "text": [
      "\n",
      "100%|██████████| 480/480 [00:00<00:00, 3534.78it/s]\n"
     ]
    },
    {
     "name": "stdout",
     "output_type": "stream",
     "text": [
      "value of pi_b\n",
      "0.3912627227725977\n"
     ]
    },
    {
     "name": "stderr",
     "output_type": "stream",
     "text": [
      "100%|██████████| 160/160 [00:00<00:00, 967.67it/s]\n",
      "100%|██████████| 144/144 [00:00<00:00, 444.75it/s]\n",
      "100%|██████████| 144/144 [00:00<00:00, 227.18it/s]\n",
      "100%|██████████| 30/30 [00:00<00:00, 43.48it/s]\n",
      "100%|██████████| 30/30 [00:03<00:00,  7.57it/s]"
     ]
    },
    {
     "name": "stdout",
     "output_type": "stream",
     "text": [
      "Current Horizon is: 40\n"
     ]
    },
    {
     "name": "stderr",
     "output_type": "stream",
     "text": [
      "\n",
      "100%|██████████| 480/480 [00:00<00:00, 1706.14it/s]\n"
     ]
    },
    {
     "name": "stdout",
     "output_type": "stream",
     "text": [
      "value of pi_b\n",
      "0.6074940750793654\n"
     ]
    },
    {
     "name": "stderr",
     "output_type": "stream",
     "text": [
      "100%|██████████| 160/160 [00:00<00:00, 891.28it/s]\n",
      "100%|██████████| 144/144 [00:00<00:00, 438.06it/s]\n",
      "100%|██████████| 144/144 [00:00<00:00, 227.33it/s]\n",
      "100%|██████████| 30/30 [00:00<00:00, 41.40it/s]\n",
      "100%|██████████| 30/30 [00:03<00:00,  9.86it/s]"
     ]
    },
    {
     "name": "stdout",
     "output_type": "stream",
     "text": [
      "Current Horizon is: 60\n"
     ]
    },
    {
     "name": "stderr",
     "output_type": "stream",
     "text": [
      "\n",
      "100%|██████████| 480/480 [00:00<00:00, 1177.86it/s]\n"
     ]
    },
    {
     "name": "stdout",
     "output_type": "stream",
     "text": [
      "value of pi_b\n",
      "0.7409088454901379\n"
     ]
    },
    {
     "name": "stderr",
     "output_type": "stream",
     "text": [
      "100%|██████████| 160/160 [00:00<00:00, 967.72it/s]\n",
      "100%|██████████| 144/144 [00:00<00:00, 444.52it/s]\n",
      "100%|██████████| 144/144 [00:00<00:00, 228.74it/s]\n",
      "100%|██████████| 30/30 [00:00<00:00, 37.56it/s]\n",
      "100%|██████████| 30/30 [00:02<00:00, 12.20it/s]"
     ]
    },
    {
     "name": "stdout",
     "output_type": "stream",
     "text": [
      "Current Horizon is: 80\n"
     ]
    },
    {
     "name": "stderr",
     "output_type": "stream",
     "text": [
      "\n",
      "100%|██████████| 480/480 [00:00<00:00, 877.18it/s]\n"
     ]
    },
    {
     "name": "stdout",
     "output_type": "stream",
     "text": [
      "value of pi_b\n",
      "0.8118486166374969\n"
     ]
    },
    {
     "name": "stderr",
     "output_type": "stream",
     "text": [
      "100%|██████████| 160/160 [00:00<00:00, 968.41it/s]\n",
      "100%|██████████| 144/144 [00:00<00:00, 454.71it/s]\n",
      "100%|██████████| 144/144 [00:00<00:00, 226.79it/s]\n",
      "100%|██████████| 30/30 [00:00<00:00, 32.99it/s]\n",
      "100%|██████████| 30/30 [00:02<00:00, 12.47it/s]"
     ]
    },
    {
     "name": "stdout",
     "output_type": "stream",
     "text": [
      "Current Horizon is: 100\n"
     ]
    },
    {
     "name": "stderr",
     "output_type": "stream",
     "text": [
      "\n",
      "100%|██████████| 480/480 [00:00<00:00, 698.25it/s]\n"
     ]
    },
    {
     "name": "stdout",
     "output_type": "stream",
     "text": [
      "value of pi_b\n",
      "0.8738841111486669\n"
     ]
    },
    {
     "name": "stderr",
     "output_type": "stream",
     "text": [
      "100%|██████████| 160/160 [00:00<00:00, 951.01it/s]\n",
      "100%|██████████| 144/144 [00:00<00:00, 445.11it/s]\n",
      "100%|██████████| 144/144 [00:00<00:00, 227.29it/s]\n",
      "100%|██████████| 30/30 [00:00<00:00, 30.77it/s]\n",
      "100%|██████████| 30/30 [00:02<00:00, 13.35it/s]"
     ]
    },
    {
     "name": "stdout",
     "output_type": "stream",
     "text": [
      "Current Horizon is: 120\n"
     ]
    },
    {
     "name": "stderr",
     "output_type": "stream",
     "text": [
      "\n",
      "100%|██████████| 480/480 [00:00<00:00, 589.46it/s]\n"
     ]
    },
    {
     "name": "stdout",
     "output_type": "stream",
     "text": [
      "value of pi_b\n",
      "0.8598737030709205\n"
     ]
    },
    {
     "name": "stderr",
     "output_type": "stream",
     "text": [
      "100%|██████████| 160/160 [00:00<00:00, 891.09it/s]\n",
      "100%|██████████| 144/144 [00:00<00:00, 453.34it/s]\n",
      "100%|██████████| 144/144 [00:00<00:00, 227.61it/s]\n",
      "100%|██████████| 30/30 [00:01<00:00, 26.77it/s]\n",
      "100%|██████████| 30/30 [00:02<00:00, 13.53it/s]"
     ]
    },
    {
     "name": "stdout",
     "output_type": "stream",
     "text": [
      "Current Horizon is: 140\n"
     ]
    },
    {
     "name": "stderr",
     "output_type": "stream",
     "text": [
      "\n",
      "100%|██████████| 480/480 [00:00<00:00, 504.45it/s]\n"
     ]
    },
    {
     "name": "stdout",
     "output_type": "stream",
     "text": [
      "value of pi_b\n",
      "0.8393048661654575\n"
     ]
    },
    {
     "name": "stderr",
     "output_type": "stream",
     "text": [
      "100%|██████████| 160/160 [00:00<00:00, 962.60it/s]\n",
      "100%|██████████| 144/144 [00:00<00:00, 457.15it/s]\n",
      "100%|██████████| 144/144 [00:00<00:00, 229.18it/s]\n",
      "100%|██████████| 30/30 [00:01<00:00, 25.39it/s]\n",
      "100%|██████████| 30/30 [00:02<00:00, 13.47it/s]\n"
     ]
    },
    {
     "name": "stdout",
     "output_type": "stream",
     "text": [
      "Current Horizon is: 160\n"
     ]
    },
    {
     "name": "stderr",
     "output_type": "stream",
     "text": [
      "100%|██████████| 480/480 [00:01<00:00, 437.35it/s]\n"
     ]
    },
    {
     "name": "stdout",
     "output_type": "stream",
     "text": [
      "value of pi_b\n",
      "0.6212732421186385\n"
     ]
    },
    {
     "name": "stderr",
     "output_type": "stream",
     "text": [
      "100%|██████████| 160/160 [00:00<00:00, 970.09it/s]\n",
      "100%|██████████| 144/144 [00:00<00:00, 447.96it/s]\n",
      "100%|██████████| 144/144 [00:00<00:00, 225.78it/s]\n",
      "100%|██████████| 30/30 [00:01<00:00, 22.90it/s]\n",
      "100%|██████████| 30/30 [00:02<00:00, 12.77it/s]"
     ]
    },
    {
     "name": "stdout",
     "output_type": "stream",
     "text": [
      "Current Horizon is: 180\n"
     ]
    },
    {
     "name": "stderr",
     "output_type": "stream",
     "text": [
      "\n",
      "100%|██████████| 480/480 [00:01<00:00, 391.76it/s]\n"
     ]
    },
    {
     "name": "stdout",
     "output_type": "stream",
     "text": [
      "value of pi_b\n",
      "0.7218356034291491\n"
     ]
    },
    {
     "name": "stderr",
     "output_type": "stream",
     "text": [
      "100%|██████████| 160/160 [00:00<00:00, 897.46it/s]\n",
      "100%|██████████| 144/144 [00:00<00:00, 458.20it/s]\n",
      "100%|██████████| 144/144 [00:00<00:00, 227.77it/s]\n",
      "100%|██████████| 30/30 [00:01<00:00, 21.55it/s]\n",
      "100%|██████████| 30/30 [00:02<00:00, 10.52it/s]"
     ]
    },
    {
     "name": "stdout",
     "output_type": "stream",
     "text": [
      "Current Horizon is: 200\n"
     ]
    },
    {
     "name": "stderr",
     "output_type": "stream",
     "text": [
      "\n",
      "100%|██████████| 480/480 [00:01<00:00, 352.07it/s]\n"
     ]
    },
    {
     "name": "stdout",
     "output_type": "stream",
     "text": [
      "value of pi_b\n",
      "0.6277250053967397\n"
     ]
    },
    {
     "name": "stderr",
     "output_type": "stream",
     "text": [
      "100%|██████████| 160/160 [00:00<00:00, 864.40it/s]\n",
      "100%|██████████| 144/144 [00:00<00:00, 443.94it/s]\n",
      "100%|██████████| 144/144 [00:00<00:00, 226.71it/s]\n",
      "100%|██████████| 30/30 [00:01<00:00, 19.40it/s]\n",
      "100%|██████████| 30/30 [00:03<00:00,  9.52it/s]"
     ]
    },
    {
     "name": "stdout",
     "output_type": "stream",
     "text": [
      "Trial 13 with start seed 416\n",
      "Current Horizon is: 20\n"
     ]
    },
    {
     "name": "stderr",
     "output_type": "stream",
     "text": [
      "\n",
      "100%|██████████| 480/480 [00:00<00:00, 3501.32it/s]\n"
     ]
    },
    {
     "name": "stdout",
     "output_type": "stream",
     "text": [
      "value of pi_b\n",
      "0.5181762765203634\n"
     ]
    },
    {
     "name": "stderr",
     "output_type": "stream",
     "text": [
      "100%|██████████| 160/160 [00:00<00:00, 898.43it/s]\n",
      "100%|██████████| 144/144 [00:00<00:00, 442.42it/s]\n",
      "100%|██████████| 144/144 [00:00<00:00, 226.14it/s]\n",
      "100%|██████████| 30/30 [00:00<00:00, 43.39it/s]\n",
      "100%|██████████| 30/30 [00:04<00:00,  6.93it/s]"
     ]
    },
    {
     "name": "stdout",
     "output_type": "stream",
     "text": [
      "Current Horizon is: 40\n"
     ]
    },
    {
     "name": "stderr",
     "output_type": "stream",
     "text": [
      "\n",
      "100%|██████████| 480/480 [00:00<00:00, 1666.85it/s]\n"
     ]
    },
    {
     "name": "stdout",
     "output_type": "stream",
     "text": [
      "value of pi_b\n",
      "0.8336403168474935\n"
     ]
    },
    {
     "name": "stderr",
     "output_type": "stream",
     "text": [
      "100%|██████████| 160/160 [00:00<00:00, 976.55it/s]\n",
      "100%|██████████| 144/144 [00:00<00:00, 450.09it/s]\n",
      "100%|██████████| 144/144 [00:00<00:00, 226.02it/s]\n",
      "100%|██████████| 30/30 [00:00<00:00, 42.79it/s]\n",
      "100%|██████████| 30/30 [00:02<00:00, 11.96it/s]"
     ]
    },
    {
     "name": "stdout",
     "output_type": "stream",
     "text": [
      "Current Horizon is: 60\n"
     ]
    },
    {
     "name": "stderr",
     "output_type": "stream",
     "text": [
      "\n",
      "100%|██████████| 480/480 [00:00<00:00, 1173.76it/s]\n"
     ]
    },
    {
     "name": "stdout",
     "output_type": "stream",
     "text": [
      "value of pi_b\n",
      "0.8820822718934276\n"
     ]
    },
    {
     "name": "stderr",
     "output_type": "stream",
     "text": [
      "100%|██████████| 160/160 [00:00<00:00, 977.10it/s]\n",
      "100%|██████████| 144/144 [00:00<00:00, 453.80it/s]\n",
      "100%|██████████| 144/144 [00:00<00:00, 227.13it/s]\n",
      "100%|██████████| 30/30 [00:00<00:00, 38.41it/s]\n",
      "100%|██████████| 30/30 [00:01<00:00, 15.04it/s]"
     ]
    },
    {
     "name": "stdout",
     "output_type": "stream",
     "text": [
      "Current Horizon is: 80\n"
     ]
    },
    {
     "name": "stderr",
     "output_type": "stream",
     "text": [
      "\n",
      "100%|██████████| 480/480 [00:00<00:00, 854.18it/s]\n"
     ]
    },
    {
     "name": "stdout",
     "output_type": "stream",
     "text": [
      "value of pi_b\n",
      "0.8770871472800933\n"
     ]
    },
    {
     "name": "stderr",
     "output_type": "stream",
     "text": [
      "100%|██████████| 160/160 [00:00<00:00, 959.30it/s]\n",
      "100%|██████████| 144/144 [00:00<00:00, 454.22it/s]\n",
      "100%|██████████| 144/144 [00:00<00:00, 229.50it/s]\n",
      "100%|██████████| 30/30 [00:00<00:00, 33.22it/s]\n",
      "100%|██████████| 30/30 [00:01<00:00, 15.98it/s]\n"
     ]
    },
    {
     "name": "stdout",
     "output_type": "stream",
     "text": [
      "Current Horizon is: 100\n"
     ]
    },
    {
     "name": "stderr",
     "output_type": "stream",
     "text": [
      "100%|██████████| 480/480 [00:00<00:00, 698.76it/s]\n"
     ]
    },
    {
     "name": "stdout",
     "output_type": "stream",
     "text": [
      "value of pi_b\n",
      "1.046380641198176\n"
     ]
    },
    {
     "name": "stderr",
     "output_type": "stream",
     "text": [
      "100%|██████████| 160/160 [00:00<00:00, 958.90it/s]\n",
      "100%|██████████| 144/144 [00:00<00:00, 458.17it/s]\n",
      "100%|██████████| 144/144 [00:00<00:00, 228.79it/s]\n",
      "100%|██████████| 30/30 [00:00<00:00, 30.17it/s]\n",
      "100%|██████████| 30/30 [00:02<00:00, 14.48it/s]"
     ]
    },
    {
     "name": "stdout",
     "output_type": "stream",
     "text": [
      "Current Horizon is: 120\n"
     ]
    },
    {
     "name": "stderr",
     "output_type": "stream",
     "text": [
      "\n",
      "100%|██████████| 480/480 [00:00<00:00, 590.03it/s]\n"
     ]
    },
    {
     "name": "stdout",
     "output_type": "stream",
     "text": [
      "value of pi_b\n",
      "0.8585614446851727\n"
     ]
    },
    {
     "name": "stderr",
     "output_type": "stream",
     "text": [
      "100%|██████████| 160/160 [00:00<00:00, 938.93it/s]\n",
      "100%|██████████| 144/144 [00:00<00:00, 441.54it/s]\n",
      "100%|██████████| 144/144 [00:00<00:00, 226.61it/s]\n",
      "100%|██████████| 30/30 [00:01<00:00, 26.72it/s]\n",
      "100%|██████████| 30/30 [00:02<00:00, 11.80it/s]"
     ]
    },
    {
     "name": "stdout",
     "output_type": "stream",
     "text": [
      "Current Horizon is: 140\n"
     ]
    },
    {
     "name": "stderr",
     "output_type": "stream",
     "text": [
      "\n",
      "100%|██████████| 480/480 [00:00<00:00, 506.04it/s]\n"
     ]
    },
    {
     "name": "stdout",
     "output_type": "stream",
     "text": [
      "value of pi_b\n",
      "0.7158406142583842\n"
     ]
    },
    {
     "name": "stderr",
     "output_type": "stream",
     "text": [
      "100%|██████████| 160/160 [00:00<00:00, 840.29it/s]\n",
      "100%|██████████| 144/144 [00:00<00:00, 432.62it/s]\n",
      "100%|██████████| 144/144 [00:00<00:00, 228.52it/s]\n",
      "100%|██████████| 30/30 [00:01<00:00, 24.32it/s]\n",
      "100%|██████████| 30/30 [00:02<00:00, 13.33it/s]"
     ]
    },
    {
     "name": "stdout",
     "output_type": "stream",
     "text": [
      "Current Horizon is: 160\n"
     ]
    },
    {
     "name": "stderr",
     "output_type": "stream",
     "text": [
      "\n",
      "100%|██████████| 480/480 [00:01<00:00, 434.90it/s]\n"
     ]
    },
    {
     "name": "stdout",
     "output_type": "stream",
     "text": [
      "value of pi_b\n",
      "0.8365621189697917\n"
     ]
    },
    {
     "name": "stderr",
     "output_type": "stream",
     "text": [
      "100%|██████████| 160/160 [00:00<00:00, 975.62it/s]\n",
      "100%|██████████| 144/144 [00:00<00:00, 444.33it/s]\n",
      "100%|██████████| 144/144 [00:00<00:00, 226.16it/s]\n",
      "100%|██████████| 30/30 [00:01<00:00, 23.13it/s]\n",
      "100%|██████████| 30/30 [00:02<00:00, 14.91it/s]\n"
     ]
    },
    {
     "name": "stdout",
     "output_type": "stream",
     "text": [
      "Current Horizon is: 180\n"
     ]
    },
    {
     "name": "stderr",
     "output_type": "stream",
     "text": [
      "100%|██████████| 480/480 [00:01<00:00, 387.02it/s]\n"
     ]
    },
    {
     "name": "stdout",
     "output_type": "stream",
     "text": [
      "value of pi_b\n",
      "0.9274602974072257\n"
     ]
    },
    {
     "name": "stderr",
     "output_type": "stream",
     "text": [
      "100%|██████████| 160/160 [00:00<00:00, 906.70it/s]\n",
      "100%|██████████| 144/144 [00:00<00:00, 450.25it/s]\n",
      "100%|██████████| 144/144 [00:00<00:00, 229.00it/s]\n",
      "100%|██████████| 30/30 [00:01<00:00, 20.99it/s]\n",
      "100%|██████████| 30/30 [00:02<00:00, 11.46it/s]"
     ]
    },
    {
     "name": "stdout",
     "output_type": "stream",
     "text": [
      "Current Horizon is: 200\n"
     ]
    },
    {
     "name": "stderr",
     "output_type": "stream",
     "text": [
      "\n",
      "100%|██████████| 480/480 [00:01<00:00, 343.08it/s]\n"
     ]
    },
    {
     "name": "stdout",
     "output_type": "stream",
     "text": [
      "value of pi_b\n",
      "0.9548239065884031\n"
     ]
    },
    {
     "name": "stderr",
     "output_type": "stream",
     "text": [
      "100%|██████████| 160/160 [00:00<00:00, 901.25it/s]\n",
      "100%|██████████| 144/144 [00:00<00:00, 441.92it/s]\n",
      "100%|██████████| 144/144 [00:00<00:00, 226.72it/s]\n",
      "100%|██████████| 30/30 [00:01<00:00, 19.43it/s]\n",
      "100%|██████████| 30/30 [00:02<00:00, 10.23it/s]"
     ]
    },
    {
     "name": "stdout",
     "output_type": "stream",
     "text": [
      "Trial 14 with start seed 448\n",
      "Current Horizon is: 20\n"
     ]
    },
    {
     "name": "stderr",
     "output_type": "stream",
     "text": [
      "\n",
      "100%|██████████| 480/480 [00:00<00:00, 3440.39it/s]\n"
     ]
    },
    {
     "name": "stdout",
     "output_type": "stream",
     "text": [
      "value of pi_b\n",
      "0.4561351028389426\n"
     ]
    },
    {
     "name": "stderr",
     "output_type": "stream",
     "text": [
      "100%|██████████| 160/160 [00:00<00:00, 815.90it/s]\n",
      "100%|██████████| 144/144 [00:00<00:00, 445.14it/s]\n",
      "100%|██████████| 144/144 [00:00<00:00, 226.31it/s]\n",
      "100%|██████████| 30/30 [00:00<00:00, 42.45it/s]\n",
      "100%|██████████| 30/30 [00:04<00:00,  7.23it/s]"
     ]
    },
    {
     "name": "stdout",
     "output_type": "stream",
     "text": [
      "Current Horizon is: 40\n"
     ]
    },
    {
     "name": "stderr",
     "output_type": "stream",
     "text": [
      "\n",
      "100%|██████████| 480/480 [00:00<00:00, 1752.69it/s]\n"
     ]
    },
    {
     "name": "stdout",
     "output_type": "stream",
     "text": [
      "value of pi_b\n",
      "0.7252805978456766\n"
     ]
    },
    {
     "name": "stderr",
     "output_type": "stream",
     "text": [
      "100%|██████████| 160/160 [00:00<00:00, 801.04it/s]\n",
      "100%|██████████| 144/144 [00:00<00:00, 446.46it/s]\n",
      "100%|██████████| 144/144 [00:00<00:00, 229.38it/s]\n",
      "100%|██████████| 30/30 [00:00<00:00, 42.54it/s]\n",
      "100%|██████████| 30/30 [00:02<00:00, 12.24it/s]"
     ]
    },
    {
     "name": "stdout",
     "output_type": "stream",
     "text": [
      "Current Horizon is: 60\n"
     ]
    },
    {
     "name": "stderr",
     "output_type": "stream",
     "text": [
      "\n",
      "100%|██████████| 480/480 [00:00<00:00, 1136.04it/s]\n"
     ]
    },
    {
     "name": "stdout",
     "output_type": "stream",
     "text": [
      "value of pi_b\n",
      "0.6688980851040022\n"
     ]
    },
    {
     "name": "stderr",
     "output_type": "stream",
     "text": [
      "100%|██████████| 160/160 [00:00<00:00, 845.57it/s]\n",
      "100%|██████████| 144/144 [00:00<00:00, 448.17it/s]\n",
      "100%|██████████| 144/144 [00:00<00:00, 229.18it/s]\n",
      "100%|██████████| 30/30 [00:00<00:00, 38.51it/s]\n",
      "100%|██████████| 30/30 [00:02<00:00, 10.35it/s]\n"
     ]
    },
    {
     "name": "stdout",
     "output_type": "stream",
     "text": [
      "Current Horizon is: 80\n"
     ]
    },
    {
     "name": "stderr",
     "output_type": "stream",
     "text": [
      "100%|██████████| 480/480 [00:00<00:00, 873.14it/s]\n"
     ]
    },
    {
     "name": "stdout",
     "output_type": "stream",
     "text": [
      "value of pi_b\n",
      "0.7538889143202262\n"
     ]
    },
    {
     "name": "stderr",
     "output_type": "stream",
     "text": [
      "100%|██████████| 160/160 [00:00<00:00, 855.73it/s]\n",
      "100%|██████████| 144/144 [00:00<00:00, 456.77it/s]\n",
      "100%|██████████| 144/144 [00:00<00:00, 227.64it/s]\n",
      "100%|██████████| 30/30 [00:00<00:00, 33.95it/s]\n",
      "100%|██████████| 30/30 [00:01<00:00, 18.35it/s]"
     ]
    },
    {
     "name": "stdout",
     "output_type": "stream",
     "text": [
      "Current Horizon is: 100\n"
     ]
    },
    {
     "name": "stderr",
     "output_type": "stream",
     "text": [
      "\n",
      "100%|██████████| 480/480 [00:00<00:00, 705.39it/s]\n"
     ]
    },
    {
     "name": "stdout",
     "output_type": "stream",
     "text": [
      "value of pi_b\n",
      "0.8912701189988564\n"
     ]
    },
    {
     "name": "stderr",
     "output_type": "stream",
     "text": [
      "100%|██████████| 160/160 [00:00<00:00, 954.92it/s]\n",
      "100%|██████████| 144/144 [00:00<00:00, 446.12it/s]\n",
      "100%|██████████| 144/144 [00:00<00:00, 227.74it/s]\n",
      "100%|██████████| 30/30 [00:01<00:00, 29.89it/s]\n",
      "100%|██████████| 30/30 [00:02<00:00, 14.90it/s]"
     ]
    },
    {
     "name": "stdout",
     "output_type": "stream",
     "text": [
      "Current Horizon is: 120\n"
     ]
    },
    {
     "name": "stderr",
     "output_type": "stream",
     "text": [
      "\n",
      "100%|██████████| 480/480 [00:00<00:00, 581.70it/s]\n"
     ]
    },
    {
     "name": "stdout",
     "output_type": "stream",
     "text": [
      "value of pi_b\n",
      "0.8346776451273852\n"
     ]
    },
    {
     "name": "stderr",
     "output_type": "stream",
     "text": [
      "100%|██████████| 160/160 [00:00<00:00, 863.12it/s]\n",
      "100%|██████████| 144/144 [00:00<00:00, 448.33it/s]\n",
      "100%|██████████| 144/144 [00:00<00:00, 227.52it/s]\n",
      "100%|██████████| 30/30 [00:01<00:00, 26.71it/s]\n",
      "100%|██████████| 30/30 [00:01<00:00, 15.39it/s]\n"
     ]
    },
    {
     "name": "stdout",
     "output_type": "stream",
     "text": [
      "Current Horizon is: 140\n"
     ]
    },
    {
     "name": "stderr",
     "output_type": "stream",
     "text": [
      "100%|██████████| 480/480 [00:00<00:00, 495.63it/s]\n"
     ]
    },
    {
     "name": "stdout",
     "output_type": "stream",
     "text": [
      "value of pi_b\n",
      "0.7847404378086082\n"
     ]
    },
    {
     "name": "stderr",
     "output_type": "stream",
     "text": [
      "100%|██████████| 160/160 [00:00<00:00, 840.96it/s]\n",
      "100%|██████████| 144/144 [00:00<00:00, 457.32it/s]\n",
      "100%|██████████| 144/144 [00:00<00:00, 228.41it/s]\n",
      "100%|██████████| 30/30 [00:01<00:00, 25.15it/s]\n",
      "100%|██████████| 30/30 [00:02<00:00, 14.56it/s]"
     ]
    },
    {
     "name": "stdout",
     "output_type": "stream",
     "text": [
      "Current Horizon is: 160\n"
     ]
    },
    {
     "name": "stderr",
     "output_type": "stream",
     "text": [
      "\n",
      "100%|██████████| 480/480 [00:01<00:00, 437.83it/s]\n"
     ]
    },
    {
     "name": "stdout",
     "output_type": "stream",
     "text": [
      "value of pi_b\n",
      "0.528507975728371\n"
     ]
    },
    {
     "name": "stderr",
     "output_type": "stream",
     "text": [
      "100%|██████████| 160/160 [00:00<00:00, 965.24it/s]\n",
      "100%|██████████| 144/144 [00:00<00:00, 450.19it/s]\n",
      "100%|██████████| 144/144 [00:00<00:00, 228.90it/s]\n",
      "100%|██████████| 30/30 [00:01<00:00, 22.72it/s]\n",
      "100%|██████████| 30/30 [00:02<00:00, 10.70it/s]"
     ]
    },
    {
     "name": "stdout",
     "output_type": "stream",
     "text": [
      "Current Horizon is: 180\n"
     ]
    },
    {
     "name": "stderr",
     "output_type": "stream",
     "text": [
      "\n",
      "100%|██████████| 480/480 [00:01<00:00, 389.78it/s]\n"
     ]
    },
    {
     "name": "stdout",
     "output_type": "stream",
     "text": [
      "value of pi_b\n",
      "0.6825264473260939\n"
     ]
    },
    {
     "name": "stderr",
     "output_type": "stream",
     "text": [
      "100%|██████████| 160/160 [00:00<00:00, 968.34it/s]\n",
      "100%|██████████| 144/144 [00:00<00:00, 454.86it/s]\n",
      "100%|██████████| 144/144 [00:00<00:00, 226.36it/s]\n",
      "100%|██████████| 30/30 [00:01<00:00, 19.89it/s]\n",
      "100%|██████████| 30/30 [00:02<00:00, 10.53it/s]"
     ]
    },
    {
     "name": "stdout",
     "output_type": "stream",
     "text": [
      "Current Horizon is: 200\n"
     ]
    },
    {
     "name": "stderr",
     "output_type": "stream",
     "text": [
      "\n",
      "100%|██████████| 480/480 [00:01<00:00, 352.77it/s]\n"
     ]
    },
    {
     "name": "stdout",
     "output_type": "stream",
     "text": [
      "value of pi_b\n",
      "0.7853225502534041\n"
     ]
    },
    {
     "name": "stderr",
     "output_type": "stream",
     "text": [
      "100%|██████████| 160/160 [00:00<00:00, 970.25it/s]\n",
      "100%|██████████| 144/144 [00:00<00:00, 452.33it/s]\n",
      "100%|██████████| 144/144 [00:00<00:00, 227.35it/s]\n",
      "100%|██████████| 30/30 [00:01<00:00, 19.92it/s]\n",
      "100%|██████████| 30/30 [00:03<00:00,  8.75it/s]"
     ]
    },
    {
     "name": "stdout",
     "output_type": "stream",
     "text": [
      "Trial 15 with start seed 480\n",
      "Current Horizon is: 20\n"
     ]
    },
    {
     "name": "stderr",
     "output_type": "stream",
     "text": [
      "\n",
      "100%|██████████| 480/480 [00:00<00:00, 3506.86it/s]\n"
     ]
    },
    {
     "name": "stdout",
     "output_type": "stream",
     "text": [
      "value of pi_b\n",
      "0.4566386454536918\n"
     ]
    },
    {
     "name": "stderr",
     "output_type": "stream",
     "text": [
      "100%|██████████| 160/160 [00:00<00:00, 969.08it/s]\n",
      "100%|██████████| 144/144 [00:00<00:00, 448.37it/s]\n",
      "100%|██████████| 144/144 [00:00<00:00, 226.73it/s]\n",
      "100%|██████████| 30/30 [00:00<00:00, 48.79it/s]\n",
      "100%|██████████| 30/30 [00:03<00:00,  8.91it/s]"
     ]
    },
    {
     "name": "stdout",
     "output_type": "stream",
     "text": [
      "Current Horizon is: 40\n"
     ]
    },
    {
     "name": "stderr",
     "output_type": "stream",
     "text": [
      "\n",
      "100%|██████████| 480/480 [00:00<00:00, 1739.68it/s]\n"
     ]
    },
    {
     "name": "stdout",
     "output_type": "stream",
     "text": [
      "value of pi_b\n",
      "0.542003522382602\n"
     ]
    },
    {
     "name": "stderr",
     "output_type": "stream",
     "text": [
      "100%|██████████| 160/160 [00:00<00:00, 969.44it/s]\n",
      "100%|██████████| 144/144 [00:00<00:00, 443.39it/s]\n",
      "100%|██████████| 144/144 [00:00<00:00, 229.46it/s]\n",
      "100%|██████████| 30/30 [00:00<00:00, 43.41it/s]\n",
      "100%|██████████| 30/30 [00:02<00:00, 11.11it/s]"
     ]
    },
    {
     "name": "stdout",
     "output_type": "stream",
     "text": [
      "Current Horizon is: 60\n"
     ]
    },
    {
     "name": "stderr",
     "output_type": "stream",
     "text": [
      "\n",
      "100%|██████████| 480/480 [00:00<00:00, 1159.75it/s]\n"
     ]
    },
    {
     "name": "stdout",
     "output_type": "stream",
     "text": [
      "value of pi_b\n",
      "0.5803120445849322\n"
     ]
    },
    {
     "name": "stderr",
     "output_type": "stream",
     "text": [
      "100%|██████████| 160/160 [00:00<00:00, 974.34it/s]\n",
      "100%|██████████| 144/144 [00:00<00:00, 451.38it/s]\n",
      "100%|██████████| 144/144 [00:00<00:00, 225.85it/s]\n",
      "100%|██████████| 30/30 [00:00<00:00, 38.10it/s]\n",
      "100%|██████████| 30/30 [00:02<00:00, 11.70it/s]"
     ]
    },
    {
     "name": "stdout",
     "output_type": "stream",
     "text": [
      "Current Horizon is: 80\n"
     ]
    },
    {
     "name": "stderr",
     "output_type": "stream",
     "text": [
      "\n",
      "100%|██████████| 480/480 [00:00<00:00, 883.61it/s]\n"
     ]
    },
    {
     "name": "stdout",
     "output_type": "stream",
     "text": [
      "value of pi_b\n",
      "0.7132332790445065\n"
     ]
    },
    {
     "name": "stderr",
     "output_type": "stream",
     "text": [
      "100%|██████████| 160/160 [00:00<00:00, 960.83it/s]\n",
      "100%|██████████| 144/144 [00:00<00:00, 445.42it/s]\n",
      "100%|██████████| 144/144 [00:00<00:00, 228.52it/s]\n",
      "100%|██████████| 30/30 [00:00<00:00, 33.44it/s]\n",
      "100%|██████████| 30/30 [00:02<00:00, 14.33it/s]"
     ]
    },
    {
     "name": "stdout",
     "output_type": "stream",
     "text": [
      "Current Horizon is: 100\n"
     ]
    },
    {
     "name": "stderr",
     "output_type": "stream",
     "text": [
      "\n",
      "100%|██████████| 480/480 [00:00<00:00, 697.06it/s]\n"
     ]
    },
    {
     "name": "stdout",
     "output_type": "stream",
     "text": [
      "value of pi_b\n",
      "0.7276776191483803\n"
     ]
    },
    {
     "name": "stderr",
     "output_type": "stream",
     "text": [
      "100%|██████████| 160/160 [00:00<00:00, 969.57it/s]\n",
      "100%|██████████| 144/144 [00:00<00:00, 446.67it/s]\n",
      "100%|██████████| 144/144 [00:00<00:00, 226.13it/s]\n",
      "100%|██████████| 30/30 [00:00<00:00, 30.25it/s]\n",
      "100%|██████████| 30/30 [00:02<00:00, 13.01it/s]"
     ]
    },
    {
     "name": "stdout",
     "output_type": "stream",
     "text": [
      "Current Horizon is: 120\n"
     ]
    },
    {
     "name": "stderr",
     "output_type": "stream",
     "text": [
      "\n",
      "100%|██████████| 480/480 [00:00<00:00, 575.39it/s]\n"
     ]
    },
    {
     "name": "stdout",
     "output_type": "stream",
     "text": [
      "value of pi_b\n",
      "0.7529171639855555\n"
     ]
    },
    {
     "name": "stderr",
     "output_type": "stream",
     "text": [
      "100%|██████████| 160/160 [00:00<00:00, 964.05it/s]\n",
      "100%|██████████| 144/144 [00:00<00:00, 457.14it/s]\n",
      "100%|██████████| 144/144 [00:00<00:00, 227.85it/s]\n",
      "100%|██████████| 30/30 [00:01<00:00, 27.46it/s]\n",
      "100%|██████████| 30/30 [00:02<00:00, 13.14it/s]"
     ]
    },
    {
     "name": "stdout",
     "output_type": "stream",
     "text": [
      "Current Horizon is: 140\n"
     ]
    },
    {
     "name": "stderr",
     "output_type": "stream",
     "text": [
      "\n",
      "100%|██████████| 480/480 [00:00<00:00, 500.23it/s]\n"
     ]
    },
    {
     "name": "stdout",
     "output_type": "stream",
     "text": [
      "value of pi_b\n",
      "0.6631834133337919\n"
     ]
    },
    {
     "name": "stderr",
     "output_type": "stream",
     "text": [
      "100%|██████████| 160/160 [00:00<00:00, 843.29it/s]\n",
      "100%|██████████| 144/144 [00:00<00:00, 443.95it/s]\n",
      "100%|██████████| 144/144 [00:00<00:00, 227.86it/s]\n",
      "100%|██████████| 30/30 [00:01<00:00, 24.87it/s]\n",
      "100%|██████████| 30/30 [00:02<00:00, 12.82it/s]\n"
     ]
    },
    {
     "name": "stdout",
     "output_type": "stream",
     "text": [
      "Current Horizon is: 160\n"
     ]
    },
    {
     "name": "stderr",
     "output_type": "stream",
     "text": [
      "100%|██████████| 480/480 [00:01<00:00, 434.81it/s]\n"
     ]
    },
    {
     "name": "stdout",
     "output_type": "stream",
     "text": [
      "value of pi_b\n",
      "0.5729073001261987\n"
     ]
    },
    {
     "name": "stderr",
     "output_type": "stream",
     "text": [
      "100%|██████████| 160/160 [00:00<00:00, 829.72it/s]\n",
      "100%|██████████| 144/144 [00:00<00:00, 438.52it/s]\n",
      "100%|██████████| 144/144 [00:00<00:00, 228.20it/s]\n",
      "100%|██████████| 30/30 [00:01<00:00, 23.17it/s]\n",
      "100%|██████████| 30/30 [00:02<00:00, 10.37it/s]"
     ]
    },
    {
     "name": "stdout",
     "output_type": "stream",
     "text": [
      "Current Horizon is: 180\n"
     ]
    },
    {
     "name": "stderr",
     "output_type": "stream",
     "text": [
      "\n",
      "100%|██████████| 480/480 [00:01<00:00, 395.01it/s]\n"
     ]
    },
    {
     "name": "stdout",
     "output_type": "stream",
     "text": [
      "value of pi_b\n",
      "0.43340388687587805\n"
     ]
    },
    {
     "name": "stderr",
     "output_type": "stream",
     "text": [
      "100%|██████████| 160/160 [00:00<00:00, 844.98it/s]\n",
      "100%|██████████| 144/144 [00:00<00:00, 451.75it/s]\n",
      "100%|██████████| 144/144 [00:00<00:00, 228.40it/s]\n",
      "100%|██████████| 30/30 [00:01<00:00, 21.32it/s]\n",
      "100%|██████████| 30/30 [00:02<00:00, 13.91it/s]"
     ]
    },
    {
     "name": "stdout",
     "output_type": "stream",
     "text": [
      "Current Horizon is: 200\n"
     ]
    },
    {
     "name": "stderr",
     "output_type": "stream",
     "text": [
      "\n",
      "100%|██████████| 480/480 [00:01<00:00, 352.20it/s]\n"
     ]
    },
    {
     "name": "stdout",
     "output_type": "stream",
     "text": [
      "value of pi_b\n",
      "0.8829898338098464\n"
     ]
    },
    {
     "name": "stderr",
     "output_type": "stream",
     "text": [
      "100%|██████████| 160/160 [00:00<00:00, 978.13it/s]\n",
      "100%|██████████| 144/144 [00:00<00:00, 455.48it/s]\n",
      "100%|██████████| 144/144 [00:00<00:00, 228.08it/s]\n",
      "100%|██████████| 30/30 [00:01<00:00, 19.82it/s]\n",
      "100%|██████████| 30/30 [00:02<00:00, 13.93it/s]\n"
     ]
    },
    {
     "name": "stdout",
     "output_type": "stream",
     "text": [
      "Trial 16 with start seed 512\n",
      "Current Horizon is: 20\n"
     ]
    },
    {
     "name": "stderr",
     "output_type": "stream",
     "text": [
      "100%|██████████| 480/480 [00:00<00:00, 3480.79it/s]\n"
     ]
    },
    {
     "name": "stdout",
     "output_type": "stream",
     "text": [
      "value of pi_b\n",
      "0.5510978097248208\n"
     ]
    },
    {
     "name": "stderr",
     "output_type": "stream",
     "text": [
      "100%|██████████| 160/160 [00:00<00:00, 959.45it/s]\n",
      "100%|██████████| 144/144 [00:00<00:00, 452.64it/s]\n",
      "100%|██████████| 144/144 [00:00<00:00, 226.26it/s]\n",
      "100%|██████████| 30/30 [00:00<00:00, 45.50it/s]\n",
      "100%|██████████| 30/30 [00:03<00:00,  8.11it/s]"
     ]
    },
    {
     "name": "stdout",
     "output_type": "stream",
     "text": [
      "Current Horizon is: 40\n"
     ]
    },
    {
     "name": "stderr",
     "output_type": "stream",
     "text": [
      "\n",
      "100%|██████████| 480/480 [00:00<00:00, 1785.64it/s]\n"
     ]
    },
    {
     "name": "stdout",
     "output_type": "stream",
     "text": [
      "value of pi_b\n",
      "0.7138258431664712\n"
     ]
    },
    {
     "name": "stderr",
     "output_type": "stream",
     "text": [
      "100%|██████████| 160/160 [00:00<00:00, 907.21it/s]\n",
      "100%|██████████| 144/144 [00:00<00:00, 446.99it/s]\n",
      "100%|██████████| 144/144 [00:00<00:00, 228.01it/s]\n",
      "100%|██████████| 30/30 [00:00<00:00, 41.34it/s]\n",
      "100%|██████████| 30/30 [00:02<00:00, 10.48it/s]"
     ]
    },
    {
     "name": "stdout",
     "output_type": "stream",
     "text": [
      "Current Horizon is: 60\n"
     ]
    },
    {
     "name": "stderr",
     "output_type": "stream",
     "text": [
      "\n",
      "100%|██████████| 480/480 [00:00<00:00, 1101.11it/s]\n"
     ]
    },
    {
     "name": "stdout",
     "output_type": "stream",
     "text": [
      "value of pi_b\n",
      "0.6308358605102058\n"
     ]
    },
    {
     "name": "stderr",
     "output_type": "stream",
     "text": [
      "100%|██████████| 160/160 [00:00<00:00, 800.67it/s]\n",
      "100%|██████████| 144/144 [00:00<00:00, 449.79it/s]\n",
      "100%|██████████| 144/144 [00:00<00:00, 227.51it/s]\n",
      "100%|██████████| 30/30 [00:00<00:00, 37.90it/s]\n",
      "100%|██████████| 30/30 [00:02<00:00, 13.36it/s]"
     ]
    },
    {
     "name": "stdout",
     "output_type": "stream",
     "text": [
      "Current Horizon is: 80\n"
     ]
    },
    {
     "name": "stderr",
     "output_type": "stream",
     "text": [
      "\n",
      "100%|██████████| 480/480 [00:00<00:00, 872.95it/s]\n"
     ]
    },
    {
     "name": "stdout",
     "output_type": "stream",
     "text": [
      "value of pi_b\n",
      "0.8425130849845675\n"
     ]
    },
    {
     "name": "stderr",
     "output_type": "stream",
     "text": [
      "100%|██████████| 160/160 [00:00<00:00, 944.93it/s]\n",
      "100%|██████████| 144/144 [00:00<00:00, 449.78it/s]\n",
      "100%|██████████| 144/144 [00:00<00:00, 226.86it/s]\n",
      "100%|██████████| 30/30 [00:00<00:00, 33.65it/s]\n",
      "100%|██████████| 30/30 [00:02<00:00, 13.13it/s]"
     ]
    },
    {
     "name": "stdout",
     "output_type": "stream",
     "text": [
      "Current Horizon is: 100\n"
     ]
    },
    {
     "name": "stderr",
     "output_type": "stream",
     "text": [
      "\n",
      "100%|██████████| 480/480 [00:00<00:00, 705.77it/s]\n"
     ]
    },
    {
     "name": "stdout",
     "output_type": "stream",
     "text": [
      "value of pi_b\n",
      "0.7942012936514627\n"
     ]
    },
    {
     "name": "stderr",
     "output_type": "stream",
     "text": [
      "100%|██████████| 160/160 [00:00<00:00, 839.13it/s]\n",
      "100%|██████████| 144/144 [00:00<00:00, 438.80it/s]\n",
      "100%|██████████| 144/144 [00:00<00:00, 229.46it/s]\n",
      "100%|██████████| 30/30 [00:00<00:00, 30.40it/s]\n",
      "100%|██████████| 30/30 [00:02<00:00, 12.98it/s]"
     ]
    },
    {
     "name": "stdout",
     "output_type": "stream",
     "text": [
      "Current Horizon is: 120\n"
     ]
    },
    {
     "name": "stderr",
     "output_type": "stream",
     "text": [
      "\n",
      "100%|██████████| 480/480 [00:00<00:00, 581.85it/s]\n"
     ]
    },
    {
     "name": "stdout",
     "output_type": "stream",
     "text": [
      "value of pi_b\n",
      "0.6059919639425181\n"
     ]
    },
    {
     "name": "stderr",
     "output_type": "stream",
     "text": [
      "100%|██████████| 160/160 [00:00<00:00, 855.88it/s]\n",
      "100%|██████████| 144/144 [00:00<00:00, 444.71it/s]\n",
      "100%|██████████| 144/144 [00:00<00:00, 227.79it/s]\n",
      "100%|██████████| 30/30 [00:01<00:00, 27.24it/s]\n",
      "100%|██████████| 30/30 [00:02<00:00, 11.52it/s]"
     ]
    },
    {
     "name": "stdout",
     "output_type": "stream",
     "text": [
      "Current Horizon is: 140\n"
     ]
    },
    {
     "name": "stderr",
     "output_type": "stream",
     "text": [
      "\n",
      "100%|██████████| 480/480 [00:00<00:00, 500.80it/s]\n"
     ]
    },
    {
     "name": "stdout",
     "output_type": "stream",
     "text": [
      "value of pi_b\n",
      "0.7885681779577699\n"
     ]
    },
    {
     "name": "stderr",
     "output_type": "stream",
     "text": [
      "100%|██████████| 160/160 [00:00<00:00, 963.24it/s]\n",
      "100%|██████████| 144/144 [00:00<00:00, 451.42it/s]\n",
      "100%|██████████| 144/144 [00:00<00:00, 225.92it/s]\n",
      "100%|██████████| 30/30 [00:01<00:00, 25.15it/s]\n",
      "100%|██████████| 30/30 [00:03<00:00,  9.75it/s]\n"
     ]
    },
    {
     "name": "stdout",
     "output_type": "stream",
     "text": [
      "Current Horizon is: 160\n"
     ]
    },
    {
     "name": "stderr",
     "output_type": "stream",
     "text": [
      "100%|██████████| 480/480 [00:01<00:00, 446.32it/s]\n"
     ]
    },
    {
     "name": "stdout",
     "output_type": "stream",
     "text": [
      "value of pi_b\n",
      "0.9026300690959909\n"
     ]
    },
    {
     "name": "stderr",
     "output_type": "stream",
     "text": [
      "100%|██████████| 160/160 [00:00<00:00, 979.07it/s]\n",
      "100%|██████████| 144/144 [00:00<00:00, 453.76it/s]\n",
      "100%|██████████| 144/144 [00:00<00:00, 227.46it/s]\n",
      "100%|██████████| 30/30 [00:01<00:00, 23.10it/s]\n",
      "100%|██████████| 30/30 [00:02<00:00, 12.71it/s]"
     ]
    },
    {
     "name": "stdout",
     "output_type": "stream",
     "text": [
      "Current Horizon is: 180\n"
     ]
    },
    {
     "name": "stderr",
     "output_type": "stream",
     "text": [
      "\n",
      "100%|██████████| 480/480 [00:01<00:00, 389.29it/s]\n"
     ]
    },
    {
     "name": "stdout",
     "output_type": "stream",
     "text": [
      "value of pi_b\n",
      "0.765072542633313\n"
     ]
    },
    {
     "name": "stderr",
     "output_type": "stream",
     "text": [
      "100%|██████████| 160/160 [00:00<00:00, 904.26it/s]\n",
      "100%|██████████| 144/144 [00:00<00:00, 447.12it/s]\n",
      "100%|██████████| 144/144 [00:00<00:00, 229.11it/s]\n",
      "100%|██████████| 30/30 [00:01<00:00, 21.38it/s]\n",
      "100%|██████████| 30/30 [00:02<00:00, 11.50it/s]"
     ]
    },
    {
     "name": "stdout",
     "output_type": "stream",
     "text": [
      "Current Horizon is: 200\n"
     ]
    },
    {
     "name": "stderr",
     "output_type": "stream",
     "text": [
      "\n",
      "100%|██████████| 480/480 [00:01<00:00, 351.03it/s]\n"
     ]
    },
    {
     "name": "stdout",
     "output_type": "stream",
     "text": [
      "value of pi_b\n",
      "0.5119108101569989\n"
     ]
    },
    {
     "name": "stderr",
     "output_type": "stream",
     "text": [
      "100%|██████████| 160/160 [00:00<00:00, 970.99it/s]\n",
      "100%|██████████| 144/144 [00:00<00:00, 457.54it/s]\n",
      "100%|██████████| 144/144 [00:00<00:00, 225.81it/s]\n",
      "100%|██████████| 30/30 [00:01<00:00, 19.35it/s]\n",
      "100%|██████████| 30/30 [00:02<00:00, 12.86it/s]\n"
     ]
    },
    {
     "name": "stdout",
     "output_type": "stream",
     "text": [
      "Trial 17 with start seed 544\n",
      "Current Horizon is: 20\n"
     ]
    }
   ],
   "source": [
    "diagnostic = False\n",
    "horizons = [20, 40, 60, 80, 100, 120, 140, 160, 180, 200]\n",
    "#horizons = [180]\n",
    "\n",
    "trials = 30\n",
    "hideGlucose = True\n",
    "import multiprocessing\n",
    "\n",
    "\n",
    "clusterAccsTrials = []\n",
    "clusterAccsNoProjsTrials = []\n",
    "classAccsTrials = []\n",
    "hardClustEMAccsTrials = []\n",
    "softClustEMAccsTrials = []\n",
    "hardEMAccsTrials = []\n",
    "softEMAccsTrials = []\n",
    "\n",
    "for trial in range(trials):\n",
    "    clusterAccs = []\n",
    "    clusterAccsNoProjs = []\n",
    "    modelEstims = []\n",
    "    classAccs = []\n",
    "    hardClustEMs = []\n",
    "    hardClustEMAccs = []\n",
    "    softClustEMs = []\n",
    "    softClustEMAccs = []\n",
    "    hardEMs = []\n",
    "    hardEMAccs = []\n",
    "    softEMs = []\n",
    "    softEMAccs = []\n",
    "    \n",
    "    start_seed = trial*multiprocessing.cpu_count()\n",
    "    print(\"Trial\", trial, \"with start seed\", start_seed)\n",
    "\n",
    "    for horizon in horizons:\n",
    "        print(\"Current Horizon is:\", horizon)\n",
    "\n",
    "        #########SETUP#########\n",
    "\n",
    "        # Get the transition and reward matrix from file\n",
    "        with open(\"./data/diab_txr_mats-replication.pkl\", \"rb\") as f:\n",
    "            mdict = pickle.load(f)\n",
    "\n",
    "        envs = []\n",
    "\n",
    "        P = mdict[\"tx_mat\"]\n",
    "        x_dist = mdict[\"p_initial_state\"].mean(0)\n",
    "        u_dist = mdict[\"p_mixture\"]\n",
    "        gamma = 0.99\n",
    "\n",
    "\n",
    "        #nStates = P.shape[2]\n",
    "        nActions = P.shape[1]\n",
    "\n",
    "        R = mdict[\"r_mat\"].mean(0)\n",
    "\n",
    "        pi_b = np.load('data/sepsisPol.npy')\n",
    "        pi_e = pi_b.mean(0)\n",
    "\n",
    "        term = -1\n",
    "        mdp = confound_mdp.ConfoundMDP(P, R, x_dist, u_dist, gamma)\n",
    "\n",
    "\n",
    "        dataset = getSamplesMultiProc(500, mdp, pi_b, horizon, start_seed=start_seed, iid=False)\n",
    "\n",
    "\n",
    "\n",
    "        for m in tqdm(range(dataset.shape[0])):\n",
    "            for t in range(dataset.shape[1]):\n",
    "                #s, a, u, s', r\n",
    "                dataset[m,t,0] = idx_to_trunc(dataset[m,t,0], hideGlucose=hideGlucose)\n",
    "                dataset[m,t,3] = idx_to_trunc(dataset[m,t,3], hideGlucose=hideGlucose)\n",
    "\n",
    "\n",
    "\n",
    "         # behavior value\n",
    "        print(\"value of pi_b\")\n",
    "        returns = confound_mdp.calc_returns(dataset, gamma, horizon)\n",
    "        print(returns.mean())\n",
    "\n",
    "\n",
    "\n",
    "        nStates = int(720/8) if not hideGlucose else int(720/(5))\n",
    "\n",
    "        stateactions = dataset[:, :, [0, 1]]\n",
    "        memorder = 'C'\n",
    "\n",
    "        if memorder == 'F':\n",
    "            stateactions = (dataset[:,:,0] + dataset[:,:,1]*nStates).astype(int) #we code (S x A) as s + a|S|, 0,16,32,48 1,17,33,49\n",
    "        else:\n",
    "            stateactions = (dataset[:,:,0]*nActions + dataset[:,:,1]).astype(int)\n",
    "        states = (dataset[:,:,0]).astype(int)\n",
    "        actions = (dataset[:,:,1]).astype(int)\n",
    "        currstates = dataset[:,:,[0,1]].astype(int)\n",
    "        confounders = dataset[:,:,2].astype(int)\n",
    "        labels = confounders[:,0].astype(int)\n",
    "        nextstates = dataset[:,:,3].astype(int)\n",
    "\n",
    "        L = 2\n",
    "        K = 2\n",
    "        #S = nStates*nActions\n",
    "        #N = len(threes)\n",
    "\n",
    "\n",
    "        ########SUBSPACE ESTIMATION########\n",
    "\n",
    "        sadim = nStates*nActions\n",
    "        spdim = nStates\n",
    "        omegaone = np.array([i for i in range(int(horizon/4), 2*int(horizon/4))])\n",
    "        omegatwo = np.array([i for i in range(3*int(horizon/4), horizon)])\n",
    "        onehotsa = np.eye(sadim)[stateactions]\n",
    "        #onehotsaflat = copy.deepcopy(onehotsa)\n",
    "        onehotsa = onehotsa.reshape((onehotsa.shape[0], onehotsa.shape[1], nStates, nActions), order=memorder)\n",
    "        onehotsp = np.eye(np.max(nextstates)+1)[nextstates]\n",
    "        sz = int(onehotsa.shape[0]/3)\n",
    "\n",
    "        eigvalsa, eigvecsa = getEig(onehotsa[:sz], onehotsp[:sz], omegaone, omegatwo, K, wt=True, smalldata=False, device='/GPU:0')\n",
    "\n",
    "        #########CLUSTERING#########\n",
    "\n",
    "        device = \"/GPU:0\"\n",
    "\n",
    "        hs = np.array([geth(onehotsa[sz:,omegaone,:,:], \n",
    "                                         onehotsp[sz:,omegaone,:]), \n",
    "                                  geth(onehotsa[sz:,omegatwo,:,:], \n",
    "                                       onehotsp[sz:,omegatwo,:])], dtype=np.float32)\n",
    "\n",
    "        statmns = computeStat(hs, \n",
    "                          eigvecsa, numpy=False, smalldata=False, device=device, proj=True)\n",
    "        \n",
    "        statNoProjs = computeStat(hs, \n",
    "                          eigvecsa, numpy=False, smalldata=False, device=device, proj=False)\n",
    "        if diagnostic:\n",
    "            hi = 0.00005 if hideGlucose else 0.00012\n",
    "            clusterDiagnostics(statmns, K=K, labels=confounders[sz:, 0],\n",
    "                           lo=0, hi=hi, step=0.02*hi) #0,0.01, 0.0001\n",
    "            plt.show()\n",
    "            clusterDiagnostics(statNoProjs, K=K, labels=confounders[sz:, 0],\n",
    "                       lo=0, hi=hi, step=0.02*hi) #0,0.01, 0.0001\n",
    "            plt.show()\n",
    "\n",
    "\n",
    "        thresh = 2e-5 if hideGlucose else 0.00003 #0.0005\n",
    "        clusterlabs = sklearn.cluster.spectral_clustering((statmns < thresh).astype(int), n_clusters=2,\n",
    "                                                         assign_labels='kmeans')\n",
    "\n",
    "        clusterlabsNoProjs = sklearn.cluster.spectral_clustering((statNoProjs < thresh).astype(int), n_clusters=2,\n",
    "                                                         assign_labels='kmeans')\n",
    "\n",
    "        permutation = np.argmax([np.mean(clusterlabs == confounders[sz:, 0]), \n",
    "                        np.mean(clusterlabs != confounders[sz:, 0])])\n",
    "        if diagnostic:\n",
    "            print(permutation, np.max([np.mean(clusterlabs == confounders[sz:, 0]), \n",
    "                        np.mean(clusterlabs != confounders[sz:, 0])]))\n",
    "        clusterAccs.append(np.max([np.mean(clusterlabs == confounders[sz:, 0]), \n",
    "                        np.mean(clusterlabs != confounders[sz:, 0])]))\n",
    "\n",
    "        clusterAccsNoProjs.append(np.max([np.mean(clusterlabsNoProjs == confounders[sz:, 0]), \n",
    "                        np.mean(clusterlabsNoProjs != confounders[sz:, 0])]))\n",
    "\n",
    "        ########MODEL ESTIMATION#########\n",
    "        Phat_ksa = getModelEstim(clusterlabs.astype(int), \n",
    "                             states[sz:,:], \n",
    "                             actions[sz:,:], \n",
    "                             nextstates[sz:,:],\n",
    "                            K=K, nStates=nStates, nActions=nActions, hard=True)\n",
    "        modelEstims.append(Phat_ksa)\n",
    "\n",
    "\n",
    "        ########CLASSIFICATION#########\n",
    "        priorclass = np.bincount(clusterlabs)/len(clusterlabs) \n",
    "        piclust = getPolicyEstim(states[sz:], actions[sz:], \n",
    "                                 K, nStates, nActions, preds=clusterlabs, hard=True)\n",
    "        startweights = getStartWeights(states[sz:], clusterlabs, K, nStates)\n",
    "        subspaceClass = classify(Phat_ksa, states[:sz,:], actions[:sz,:], \n",
    "                               nextstates[:sz,:], piclust, reg=1, \n",
    "                           prior=priorclass, startweights = startweights, labs=True)\n",
    "        if diagnostic:\n",
    "            print('Subspace Classification accuracy:', [np.mean(labels[:sz] == subspaceClass), \n",
    "                                                    np.mean(labels[:sz] != subspaceClass)][permutation])\n",
    "        classAccs.append([np.mean(labels[:sz] == subspaceClass), np.mean(labels[:sz] != subspaceClass)][permutation])\n",
    "\n",
    "\n",
    "        ########EM ALGORITHM########\n",
    "        priorclass = np.bincount(clusterlabs)/len(clusterlabs) \n",
    "        piclust = getPolicyEstim(states[sz:], actions[sz:], \n",
    "                                 K, nStates, nActions, preds=clusterlabs, hard=True)\n",
    "\n",
    "        startweights = getStartWeights(states[sz:], clusterlabs, K, nStates)\n",
    "        maxapos = classify(Phat_ksa, states, actions, \n",
    "                               nextstates, piclust, reg=1, \n",
    "                           prior=priorclass, startweights = startweights, labs=True)\n",
    "        mleprobs = classify(Phat_ksa, states, actions, \n",
    "                               nextstates, piclust, reg=1, \n",
    "                            prior=priorclass, startweights = startweights, labs=False)\n",
    "        if diagnostic:\n",
    "            print('MAP estimate overall accuracy:', [np.mean(labels == maxapos), np.mean(labels != maxapos)][permutation])\n",
    "\n",
    "        # HARD EM\n",
    "        expectclass, modelestimclass, loglikclass = em(maxapos, \n",
    "                                Phat_ksa, states, actions, \n",
    "                            nextstates, labels=labels, \n",
    "                            K=K, nStates=nStates, nActions=nActions,\n",
    "                            prior = priorclass, reg = 1, max_iter=100,\n",
    "                                                   permute=False, permutation=permutation,\n",
    "                                                   checkin=1, hard=True, verbose=False)\n",
    "        hardClustEMs.append([expectclass, modelestimclass, loglikclass])\n",
    "        hardClustEMAccs.append(np.max([np.mean(labels == expectclass), np.mean(labels != expectclass)]))\n",
    "\n",
    "        # SOFT EM\n",
    "        normprobs = np.exp(mleprobs-np.max(mleprobs))\n",
    "        regprobs = 0.8*(normprobs)/np.nansum(np.abs(normprobs), 0) + 0.1*np.ones(mleprobs.shape)\n",
    "        expectclasssoft, modelestimclasssoft, loglikclasssoft = em(regprobs, \n",
    "                                    Phat_ksa, states, actions, \n",
    "                                nextstates, labels, \n",
    "                                K=2, nStates=nStates, nActions=nActions,\n",
    "                                prior = priorclass, reg = 1, permute=False,\n",
    "                                permutation=permutation, checkin=1, hard=False, verbose=False)\n",
    "        softClustEMs.append([expectclasssoft, modelestimclasssoft, loglikclasssoft])\n",
    "        softClustEMAccs.append(np.max([np.mean(labels == expectclasssoft.argmax(0)),\n",
    "                                np.mean(labels != expectclasssoft.argmax(0))]))\n",
    "\n",
    "        #############BASE EM###############\n",
    "\n",
    "        labelsem = []\n",
    "        logliksem = []\n",
    "        for i in tqdm(range(30)):\n",
    "            randlabs = np.random.binomial(1, 0.5, size=len(dataset)).astype(int)\n",
    "            randmodel = getModelEstim(randlabs, states, actions, nextstates,\n",
    "                                      K, nStates, nActions, hard=True)\n",
    "            randlabs, randmodel, loglikrand = em(randlabs, randmodel,\n",
    "               states, actions, nextstates, labels, \n",
    "                                K=K, nStates=nStates, nActions=nActions,\n",
    "                                prior = priorclass, reg = 0, permute=True, permutation=permutation, checkin=1, verbose=False, hard=True)\n",
    "            labelsem.append(randlabs)\n",
    "            logliksem.append(loglikrand)\n",
    "        if diagnostic:\n",
    "            plt.figure(figsize=(12,7))\n",
    "            plt.scatter([max(np.mean(i == labels), np.mean(i != labels)) for i in labelsem], logliksem)\n",
    "            print(np.mean([max(np.mean(i == labels), np.mean(i != labels)) for i in labelsem]))\n",
    "            print(np.median([max(np.mean(i == labels), np.mean(i != labels)) for i in labelsem]))\n",
    "            print(np.max([max(np.mean(i == labels), np.mean(i != labels)) for i in labelsem]))\n",
    "            plt.xlabel('Accuracy')\n",
    "            plt.ylabel('Log-likelihood')\n",
    "            plt.title('Randomly Initialized Hard EM Algorithm')\n",
    "            plt.show()\n",
    "            plt.hist([max(np.mean(i == labels), np.mean(i != labels)) for i in labelsem])\n",
    "            plt.show()\n",
    "        hardEMAccs.append(np.mean([max(np.mean(i == labels), np.mean(i != labels)) for i in labelsem]))\n",
    "        hardEMs.append([labelsem, logliksem])\n",
    "\n",
    "        labelsemsoft = []\n",
    "        logliksemsoft = []\n",
    "        for i in tqdm(range(30)):\n",
    "            unifs = np.random.uniform(size=len(dataset))\n",
    "            randlabsoft = np.vstack([unifs, 1-unifs])\n",
    "            randmodelsoft = getModelEstim(randlabsoft, states, actions, nextstates,\n",
    "                                      K, nStates, nActions, hard=False)\n",
    "            randlabsoft, randmodelsoft, loglikrand = em(randlabsoft, randmodelsoft,\n",
    "           states, actions, nextstates, labels, \n",
    "                                K=K, nStates=nStates, nActions=nActions,\n",
    "                                prior = priorclass, reg = 0, permute=True, permutation=permutation, checkin=1, verbose=False, hard=False)\n",
    "            labelsemsoft.append(randlabsoft)\n",
    "            logliksemsoft.append(loglikrand)\n",
    "        if diagnostic:\n",
    "            plt.figure(figsize=(12,7))\n",
    "            plt.scatter([max(np.mean(i == labels), np.mean(i != labels)) for i in np.array(labelsemsoft).argmax(axis=1)], \n",
    "                        logliksemsoft)\n",
    "            print(np.mean([max(np.mean(i == labels), np.mean(i != labels)) for i in np.array(labelsemsoft).argmax(axis=1)]))\n",
    "            print(np.median([max(np.mean(i == labels), np.mean(i != labels)) for i in np.array(labelsemsoft).argmax(axis=1)]))\n",
    "            print(np.max([max(np.mean(i == labels), np.mean(i != labels)) for i in np.array(labelsemsoft).argmax(axis=1)]))\n",
    "            plt.ticklabel_format(style='plain',useOffset=False)\n",
    "            plt.xlabel('Accuracy')\n",
    "            plt.ylabel('Log-likelihood')\n",
    "            plt.title('Randomly Initialized Soft EM Algorithm')\n",
    "            plt.show()\n",
    "            plt.hist([max(np.mean(i == labels), np.mean(i != labels)) for i in np.array(labelsemsoft).argmax(axis=1)])\n",
    "            plt.show()\n",
    "        softEMAccs.append(np.mean([max(np.mean(i == labels), np.mean(i != labels)) for i in np.array(labelsemsoft).argmax(axis=1)]))\n",
    "        softEMs.append([labelsemsoft, logliksemsoft])\n",
    "        \n",
    "    clusterAccsTrials.append(clusterAccs)\n",
    "    clusterAccsNoProjsTrials.append(clusterAccsNoProjs)\n",
    "    classAccsTrials.append(classAccs)\n",
    "    hardClustEMAccsTrials.append(hardClustEMAccs)\n",
    "    softClustEMAccsTrials.append(softClustEMAccs)\n",
    "    hardEMAccsTrials.append(hardEMAccs)\n",
    "    softEMAccsTrials.append(softEMAccs)"
   ]
  },
  {
   "cell_type": "code",
   "execution_count": null,
   "id": "19124c6f-833f-403d-94bb-634655de813d",
   "metadata": {},
   "outputs": [],
   "source": [
    "#try hidden glucose and actions in state space"
   ]
  },
  {
   "cell_type": "code",
   "execution_count": 37,
   "id": "602e92de-4831-4c37-9d00-5d72bc52c1ee",
   "metadata": {},
   "outputs": [
    {
     "data": {
      "text/plain": [
       "array([0.771875, 0.984375])"
      ]
     },
     "execution_count": 37,
     "metadata": {},
     "output_type": "execute_result"
    }
   ],
   "source": [
    "np.array(clusterAccs)"
   ]
  },
  {
   "cell_type": "code",
   "execution_count": 1,
   "id": "3a4d3dd3-5a17-4d20-9769-d0ebd8ffcf44",
   "metadata": {},
   "outputs": [
    {
     "ename": "NameError",
     "evalue": "name 'np' is not defined",
     "output_type": "error",
     "traceback": [
      "\u001b[0;31m---------------------------------------------------------------------------\u001b[0m",
      "\u001b[0;31mNameError\u001b[0m                                 Traceback (most recent call last)",
      "\u001b[0;32m/tmp/ipykernel_7570/1204293195.py\u001b[0m in \u001b[0;36m<module>\u001b[0;34m\u001b[0m\n\u001b[0;32m----> 1\u001b[0;31m \u001b[0mnp\u001b[0m\u001b[0;34m.\u001b[0m\u001b[0marray\u001b[0m\u001b[0;34m(\u001b[0m\u001b[0mclusterAccsNoProjs\u001b[0m\u001b[0;34m)\u001b[0m\u001b[0;34m\u001b[0m\u001b[0;34m\u001b[0m\u001b[0m\n\u001b[0m",
      "\u001b[0;31mNameError\u001b[0m: name 'np' is not defined"
     ]
    }
   ],
   "source": [
    "np.array(clusterAccsNoProjs)"
   ]
  },
  {
   "cell_type": "code",
   "execution_count": null,
   "id": "d7b90646-803d-4306-820b-9057fc204939",
   "metadata": {},
   "outputs": [],
   "source": [
    "plt.figure(figsize=(16,9))\n",
    "plt.plot(horizons, 1-np.mean(np.array(clusterAccsTrials),0), label='With Subspace')\n",
    "plt.plot(horizons, 1-np.mean(np.array(clusterAccsNoProjsTrials),0), label='Clustering Error No Subspace')\n",
    "plt.ylabel(\"Clustering Error\")\n",
    "plt.xlabel(\"Trajectory Length\")\n",
    "plt.title(\"Clustering Error vs Trajectory Length, Sepsis\")\n",
    "plt.legend()"
   ]
  },
  {
   "cell_type": "code",
   "execution_count": 9,
   "id": "c797f2e6-b901-4d53-b4ff-a642b40461f8",
   "metadata": {},
   "outputs": [
    {
     "data": {
      "text/plain": [
       "<matplotlib.legend.Legend at 0x7f1d665731f0>"
      ]
     },
     "execution_count": 9,
     "metadata": {},
     "output_type": "execute_result"
    },
    {
     "data": {
      "image/png": "[encoded data removed]",
      "text/plain": [
       "<Figure size 1600x900 with 1 Axes>"
      ]
     },
     "metadata": {},
     "output_type": "display_data"
    }
   ],
   "source": [
    "plt.figure(figsize=(16,9))\n",
    "'''\n",
    "plt.plot(horizons, 1-np.median(np.array(hardClustEMAccsTrials),0),\n",
    "         label='Hard EM Cluster Init')\n",
    "plt.plot(horizons, 1-np.median(np.array(hardEMAccsTrials),0),\n",
    "        label='Hard EM')\n",
    "'''       \n",
    "plt.plot(horizons, 1-np.mean(np.array(softClustEMAccsTrials),0),\n",
    "         label='Soft EM Cluster Init')\n",
    "plt.plot(horizons, 1-np.mean(np.array(softEMAccsTrials),0),\n",
    "        label='Soft EM')\n",
    "plt.ylabel(\"Clustering Error\")\n",
    "plt.xlabel(\"Trajectory Length\")\n",
    "plt.title(\"Comparison of Cluster Initialization of EM Algorithm v.s. EM, Sepsis\")\n",
    "plt.legend()"
   ]
  },
  {
   "cell_type": "code",
   "execution_count": 5,
   "id": "391dc8d8-ad08-45e5-afe9-6fc7f2e78f48",
   "metadata": {},
   "outputs": [
    {
     "data": {
      "text/plain": [
       "<matplotlib.legend.Legend at 0x7f1a294c17f0>"
      ]
     },
     "execution_count": 5,
     "metadata": {},
     "output_type": "execute_result"
    },
    {
     "data": {
      "image/png": "[encoded data removed]",
      "text/plain": [
       "<Figure size 1600x900 with 1 Axes>"
      ]
     },
     "metadata": {},
     "output_type": "display_data"
    }
   ],
   "source": [
    "plt.figure(figsize=(16,9))\n",
    "plt.plot(horizons, 1-np.mean(np.array(clusterAccsTrials),0), label='With Subspace')\n",
    "plt.plot(horizons, 1-np.mean(np.array(clusterAccsNoProjsTrials),0), label='Clustering Error No Subspace')\n",
    "plt.ylabel(\"Clustering Error\")\n",
    "plt.xlabel(\"Trajectory Length\")\n",
    "plt.title(\"Clustering Error vs Trajectory Length, Sepsis\")\n",
    "plt.legend()"
   ]
  },
  {
   "cell_type": "code",
   "execution_count": 7,
   "id": "b642b4d5-41c4-4de0-909b-7f476037741a",
   "metadata": {},
   "outputs": [
    {
     "data": {
      "text/plain": [
       "<matplotlib.legend.Legend at 0x7f1a228cb340>"
      ]
     },
     "execution_count": 7,
     "metadata": {},
     "output_type": "execute_result"
    },
    {
     "data": {
      "image/png": "[encoded data removed]",
      "text/plain": [
       "<Figure size 1600x900 with 1 Axes>"
      ]
     },
     "metadata": {},
     "output_type": "display_data"
    }
   ],
   "source": [
    "plt.figure(figsize=(16,9))\n",
    "'''\n",
    "plt.plot(horizons, 1-np.median(np.array(hardClustEMAccsTrials),0),\n",
    "         label='Hard EM Cluster Init')\n",
    "plt.plot(horizons, 1-np.median(np.array(hardEMAccsTrials),0),\n",
    "        label='Hard EM')\n",
    "'''       \n",
    "plt.plot(horizons, 1-np.mean(np.array(softClustEMAccsTrials),0),\n",
    "         label='Soft EM Cluster Init')\n",
    "plt.plot(horizons, 1-np.mean(np.array(softEMAccsTrials),0),\n",
    "        label='Soft EM')\n",
    "plt.ylabel(\"Clustering Error\")\n",
    "plt.xlabel(\"Trajectory Length\")\n",
    "plt.title(\"Comparison of Cluster Initialization of EM Algorithm v.s. EM, Sepsis\")\n",
    "plt.legend()"
   ]
  },
  {
   "cell_type": "code",
   "execution_count": 47,
   "id": "9d73be08-ac81-4927-a270-51ede15e0b50",
   "metadata": {},
   "outputs": [],
   "source": [
    "Rhat_sa = getR_sa(dataset, nStates, nActions)\n",
    "Rhat_asp = getR_asp(dataset, nStates, nActions)"
   ]
  },
  {
   "cell_type": "code",
   "execution_count": 7,
   "id": "cd35dac1-855f-45d7-a66b-67ffd407f4e2",
   "metadata": {},
   "outputs": [
    {
     "data": {
      "text/plain": [
       "<matplotlib.legend.Legend at 0x7fbf6d5131f0>"
      ]
     },
     "execution_count": 7,
     "metadata": {},
     "output_type": "execute_result"
    },
    {
     "data": {
      "image/png": "[encoded data removed]",
      "text/plain": [
       "<Figure size 1600x900 with 1 Axes>"
      ]
     },
     "metadata": {},
     "output_type": "display_data"
    }
   ],
   "source": [
    "plt.figure(figsize=(16,9))\n",
    "plt.plot(horizons, 1-np.array(clusterAccs), label='Clustering Error')\n",
    "plt.plot(horizons, 1-np.array(clusterAccsNoProjs), label='Clustering Error No Subspace')\n",
    "'''\n",
    "plt.plot(horizons, 1-np.array(classAccs), label='Subspace Classification')\n",
    "plt.plot(horizons, 1-np.array([np.max([np.mean(i[0]==labels), \n",
    "                  np.mean(i[0]!=labels)]) for i in hardClustEMs]),\n",
    "         label='Hard EM Cluster Init')\n",
    "plt.plot(horizons, 1-np.array([np.mean([np.max([np.mean(j.argmax(0)==labels), np.mean(j.argmax(0)!=labels)]) \n",
    "  for j in hardEMs[i][0]]) for i in range(len(hardEMs))]),\n",
    "        label='Hard EM')\n",
    "'''\n",
    "plt.plot(horizons, 1-np.array([np.max([np.mean(np.argmax(i[0],0)==labels), \n",
    "                  np.mean(np.argmax(i[0],0)!=labels)]) for i in softClustEMs]),\n",
    "         label='Soft EM Cluster Init')\n",
    "plt.plot(horizons, 1-np.array([np.mean([np.max([np.mean(j.argmax(0)==labels), np.mean(j.argmax(0)!=labels)]) \n",
    "  for j in softEMs[i][0]]) for i in range(len(softEMs))]),\n",
    "        label='Soft EM')\n",
    "plt.legend()"
   ]
  },
  {
   "cell_type": "code",
   "execution_count": 4,
   "id": "1d04c91e-48ff-4eb8-b624-ba5ac4a9f532",
   "metadata": {},
   "outputs": [
    {
     "data": {
      "text/plain": [
       "<matplotlib.legend.Legend at 0x7f467c1f2d60>"
      ]
     },
     "execution_count": 4,
     "metadata": {},
     "output_type": "execute_result"
    },
    {
     "data": {
      "image/png": "[encoded data removed]",
      "text/plain": [
       "<Figure size 1600x900 with 1 Axes>"
      ]
     },
     "metadata": {},
     "output_type": "display_data"
    }
   ],
   "source": [
    "plt.figure(figsize=(16,9))\n",
    "plt.plot(horizons, 1-np.array(clusterAccs), label='Clustering Error')\n",
    "plt.plot(horizons, 1-np.array(clusterAccsNoProjs), label='Clustering Error No Subspace')\n",
    "'''\n",
    "plt.plot(horizons, 1-np.array(classAccs), label='Subspace Classification')\n",
    "plt.plot(horizons, 1-np.array([np.max([np.mean(i[0]==labels), \n",
    "                  np.mean(i[0]!=labels)]) for i in hardClustEMs]),\n",
    "         label='Hard EM Cluster Init')\n",
    "plt.plot(horizons, 1-np.array([np.mean([np.max([np.mean(j.argmax(0)==labels), np.mean(j.argmax(0)!=labels)]) \n",
    "  for j in hardEMs[i][0]]) for i in range(len(hardEMs))]),\n",
    "        label='Hard EM')\n",
    "'''\n",
    "plt.plot(horizons, 1-np.array([np.max([np.mean(np.argmax(i[0],0)==labels), \n",
    "                  np.mean(np.argmax(i[0],0)!=labels)]) for i in softClustEMs]),\n",
    "         label='Soft EM Cluster Init')\n",
    "plt.plot(horizons, 1-np.array([np.mean([np.max([np.mean(j.argmax(0)==labels), np.mean(j.argmax(0)!=labels)]) \n",
    "  for j in softEMs[i][0]]) for i in range(len(softEMs))]),\n",
    "        label='Soft EM')\n",
    "plt.legend()"
   ]
  },
  {
   "cell_type": "code",
   "execution_count": 85,
   "id": "74ec377c-5d9e-4705-8c3f-58b25f22e4e4",
   "metadata": {},
   "outputs": [
    {
     "name": "stdout",
     "output_type": "stream",
     "text": [
      "iteration 1 diff 219.14279581992716\n",
      "992 992\n",
      "accuracy: 0.9395161290322581\n",
      "-158443.87642185992\n",
      "iteration 2 diff 0.0\n",
      "992 992\n",
      "accuracy: 0.9395161290322581\n",
      "-158443.87642185992\n",
      "iteration 3 diff 0.0\n",
      "992 992\n",
      "accuracy: 0.9395161290322581\n",
      "-158443.87642185992\n",
      "iteration 4 diff 0.0\n",
      "992 992\n",
      "accuracy: 0.9395161290322581\n",
      "-158443.87642185992\n",
      "iteration 5 diff 0.0\n",
      "992 992\n",
      "accuracy: 0.9395161290322581\n",
      "-158443.87642185992\n",
      "iteration 6 diff 0.0\n",
      "992 992\n",
      "accuracy: 0.9395161290322581\n",
      "-158443.87642185992\n",
      "iteration 7 diff 0.0\n",
      "992 992\n",
      "accuracy: 0.9395161290322581\n",
      "-158443.87642185992\n",
      "iteration 8 diff 0.0\n",
      "992 992\n",
      "accuracy: 0.9395161290322581\n",
      "-158443.87642185992\n",
      "iteration 9 diff 0.0\n",
      "992 992\n",
      "accuracy: 0.9395161290322581\n",
      "-158443.87642185992\n",
      "iteration 10 diff 0.0\n",
      "992 992\n",
      "accuracy: 0.9395161290322581\n",
      "-158443.87642185992\n",
      "log-likelihood: -158443.87642185992\n"
     ]
    }
   ],
   "source": [
    "expectclass, modelestimclass, loglikclass = em(maxapos, \n",
    "                            Phat_ksa, states, actions, \n",
    "                        nextstates, labels=labels, \n",
    "                        K=K, nStates=nStates, nActions=nActions,\n",
    "                        prior = priorclass, reg = 1, max_iter=100,\n",
    "                                               permute=False, permutation=permutation,\n",
    "                                               checkin=1, hard=True)"
   ]
  },
  {
   "cell_type": "code",
   "execution_count": 117,
   "id": "6322c025-d449-45c3-b95d-485a622c681e",
   "metadata": {},
   "outputs": [
    {
     "name": "stderr",
     "output_type": "stream",
     "text": [
      "100%|██████████| 2/2 [00:00<00:00,  2.11it/s]\n"
     ]
    }
   ],
   "source": [
    "Ptrunc = np.zeros((K, nStates, nActions, nStates))\n",
    "for u in tqdm(range(K)):\n",
    "    for s in range(nStates):\n",
    "        for a in range(nActions):\n",
    "            for sp in range(nStates):\n",
    "                Ptrunc[u, idx_to_trunc(s), a, idx_to_trunc(sp)] += P.transpose(0,2,1,3)[u, s, a, sp]"
   ]
  },
  {
   "cell_type": "code",
   "execution_count": 88,
   "id": "75ede878-f6ec-4fbe-91f4-39574c16d638",
   "metadata": {},
   "outputs": [
    {
     "name": "stdout",
     "output_type": "stream",
     "text": [
      "iteration 1 diff 902.6985444463013\n",
      "992 992\n",
      "accuracy: 0.8850806451612904\n",
      "-886518.5876762507\n",
      "iteration 2 diff 898.7744546241128\n",
      "992 992\n",
      "accuracy: 1.0\n",
      "-158933.26282156003\n",
      "iteration 3 diff 262.0420420306183\n",
      "992 992\n",
      "accuracy: 1.0\n",
      "-156091.77859972478\n",
      "iteration 4 diff 316.47410281703657\n",
      "992 992\n",
      "accuracy: 1.0\n",
      "-156090.68229785652\n",
      "iteration 5 diff 55.35555552864855\n",
      "992 992\n",
      "accuracy: 1.0\n",
      "-156090.68229785652\n",
      "iteration 6 diff 0.0\n",
      "992 992\n",
      "accuracy: 1.0\n",
      "-156090.68229785652\n",
      "iteration 7 diff 0.0\n",
      "992 992\n",
      "accuracy: 1.0\n",
      "-156090.68229785652\n",
      "iteration 8 diff 0.0\n",
      "992 992\n",
      "accuracy: 1.0\n",
      "-156090.68229785652\n",
      "iteration 9 diff 0.0\n",
      "992 992\n",
      "accuracy: 1.0\n",
      "-156090.68229785652\n",
      "iteration 10 diff 0.0\n",
      "992 992\n",
      "accuracy: 1.0\n",
      "-156090.68229785652\n",
      "log-likelihood: -156090.68229785652\n"
     ]
    }
   ],
   "source": [
    "normprobs = np.exp(mleprobs-np.max(mleprobs))\n",
    "regprobs = 0.8*(normprobs)/np.nansum(np.abs(normprobs), 0) + 0.1*np.ones(mleprobs.shape)\n",
    "expectclasssoft, modelestimclasssoft, loglikclasssoft = em(regprobs, \n",
    "                            Phat_ksa, states, actions, \n",
    "                        nextstates, labels, \n",
    "                        K=2, nStates=nStates, nActions=nActions,\n",
    "                        prior = priorclass, reg = 1, permute=False, permutation=permutation, checkin=1, hard=False)"
   ]
  },
  {
   "cell_type": "code",
   "execution_count": 89,
   "id": "2f471fc2-efac-479a-958f-be0f210ae3f1",
   "metadata": {},
   "outputs": [
    {
     "name": "stdout",
     "output_type": "stream",
     "text": [
      "iteration 1 diff 303.67803261481635\n",
      "662 662\n",
      "accuracy: 0.6661631419939577\n",
      "-106004.2150536633\n",
      "iteration 2 diff 88.85210336160041\n",
      "662 662\n",
      "accuracy: 0.9516616314199395\n",
      "-105923.98173374307\n",
      "iteration 3 diff 226.18172385281557\n",
      "662 662\n",
      "accuracy: 0.9788519637462235\n",
      "-103798.73280693352\n",
      "iteration 4 diff 167.88232418890323\n",
      "662 662\n",
      "accuracy: 0.9879154078549849\n",
      "-103492.02305564527\n",
      "iteration 5 diff 185.17964475977345\n",
      "662 662\n",
      "accuracy: 0.9909365558912386\n",
      "-103490.25558164774\n",
      "iteration 6 diff 19.488909581139758\n",
      "662 662\n",
      "accuracy: 0.9924471299093656\n",
      "-103482.78125795255\n",
      "iteration 7 diff 11.302521796352703\n",
      "662 662\n",
      "accuracy: 0.9939577039274925\n",
      "-103479.7842277346\n",
      "iteration 8 diff 14.447802779639565\n",
      "662 662\n",
      "accuracy: 0.9954682779456193\n",
      "-103494.53606567462\n",
      "iteration 9 diff 7.523305447976231\n",
      "662 662\n",
      "accuracy: 0.9954682779456193\n",
      "-103489.15595104265\n",
      "iteration 10 diff 9.866920475853298\n",
      "662 662\n",
      "accuracy: 0.9969788519637462\n",
      "-103493.5191028165\n",
      "iteration 11 diff 4.059558400784289\n",
      "662 662\n",
      "accuracy: 0.9969788519637462\n",
      "-103488.41163700796\n",
      "iteration 12 diff 2.3629923260319e-08\n",
      "662 662\n",
      "accuracy: 0.9969788519637462\n",
      "-103488.41163699683\n",
      "iteration 13 diff 11.866666666666667\n",
      "662 662\n",
      "accuracy: 0.9969788519637462\n",
      "-103488.41163699683\n",
      "iteration 14 diff 0.0\n",
      "662 662\n",
      "accuracy: 0.9969788519637462\n",
      "-103488.41163699683\n",
      "iteration 15 diff 0.0\n",
      "662 662\n",
      "accuracy: 0.9969788519637462\n",
      "-103488.41163699683\n",
      "iteration 16 diff 0.0\n",
      "662 662\n",
      "accuracy: 0.9969788519637462\n",
      "-103488.41163699683\n",
      "iteration 17 diff 0.0\n",
      "662 662\n",
      "accuracy: 0.9969788519637462\n",
      "-103488.41163699683\n",
      "iteration 18 diff 0.0\n",
      "662 662\n",
      "accuracy: 0.9969788519637462\n",
      "-103488.41163699683\n",
      "iteration 19 diff 0.0\n",
      "662 662\n",
      "accuracy: 0.9969788519637462\n",
      "-103488.41163699683\n",
      "iteration 20 diff 0.0\n",
      "662 662\n",
      "accuracy: 0.9969788519637462\n",
      "-103488.41163699683\n",
      "log-likelihood: -103488.41163699683\n"
     ]
    }
   ],
   "source": [
    "unifs = np.random.uniform(size=len(dataset))\n",
    "randlabsoft = np.vstack([unifs, 1-unifs])\n",
    "randmodelsoft = getModelEstim(randlabsoft, states, actions, nextstates,\n",
    "                              K, nStates, nActions, hard=False)\n",
    "randlabsoft, randmodelsoft, loglikrandsoft = em(randlabsoft, randmodelsoft,\n",
    "   states[sz:], actions[sz:], nextstates[sz:], labels[sz:], \n",
    "                        K=K, nStates=nStates, nActions=nActions,\n",
    "                        prior = priorclass, min_iter = 20, reg = 0, permute=True, permutation=True, checkin=1, hard=False)"
   ]
  },
  {
   "cell_type": "code",
   "execution_count": null,
   "id": "041fd111-30d5-4ca8-806c-96707b012f2a",
   "metadata": {},
   "outputs": [
    {
     "name": "stderr",
     "output_type": "stream",
     "text": [
      " 77%|███████▋  | 23/30 [00:15<00:04,  1.62it/s]"
     ]
    }
   ],
   "source": [
    "labelsemsoft = []\n",
    "logliksemsoft = []\n",
    "for i in tqdm(range(30)):\n",
    "    unifs = np.random.uniform(size=len(dataset))\n",
    "    randlabsoft = np.vstack([unifs, 1-unifs])\n",
    "    randmodelsoft = getModelEstim(randlabsoft, states, actions, nextstates,\n",
    "                              K, nStates, nActions, hard=False)\n",
    "    randlabsoft, randmodelsoft, loglikrand = em(randlabsoft, randmodelsoft,\n",
    "   states, actions, nextstates, labels, \n",
    "                        K=K, nStates=nStates, nActions=nActions,\n",
    "                        prior = priorclass, reg = 0, permute=True, permutation=permutation, checkin=1, verbose=False, hard=False)\n",
    "    labelsemsoft.append(randlabsoft)\n",
    "    logliksemsoft.append(loglikrand)\n",
    "plt.figure(figsize=(12,7))\n",
    "plt.scatter([max(np.mean(i == labels), np.mean(i != labels)) for i in np.array(labelsemsoft).argmax(axis=1)], \n",
    "            logliksemsoft)\n",
    "print(np.mean([max(np.mean(i == labels), np.mean(i != labels)) for i in np.array(labelsemsoft).argmax(axis=1)]))\n",
    "print(np.median([max(np.mean(i == labels), np.mean(i != labels)) for i in np.array(labelsemsoft).argmax(axis=1)]))\n",
    "print(np.max([max(np.mean(i == labels), np.mean(i != labels)) for i in np.array(labelsemsoft).argmax(axis=1)]))\n",
    "plt.ticklabel_format(style='plain',useOffset=False)\n",
    "plt.xlabel('Accuracy')\n",
    "plt.ylabel('Log-likelihood')\n",
    "plt.title('Randomly Initialized Soft EM Algorithm')\n",
    "plt.show()\n",
    "plt.hist([max(np.mean(i == labels), np.mean(i != labels)) for i in np.array(labelsemsoft).argmax(axis=1)])\n",
    "plt.show()"
   ]
  },
  {
   "cell_type": "code",
   "execution_count": 30,
   "id": "71350b55-6324-4eb7-acd3-525fce684b0f",
   "metadata": {},
   "outputs": [
    {
     "name": "stderr",
     "output_type": "stream",
     "text": [
      "100%|██████████| 30/30 [00:19<00:00,  1.55it/s]"
     ]
    },
    {
     "name": "stdout",
     "output_type": "stream",
     "text": [
      "0.9164463141025639\n",
      "0.9213241185897436\n",
      "0.9365985576923077\n"
     ]
    },
    {
     "name": "stderr",
     "output_type": "stream",
     "text": [
      "\n"
     ]
    },
    {
     "data": {
      "text/plain": [
       "(array([ 0.,  0.,  0.,  0.,  0., 30.,  0.,  0.,  0.,  0.]),\n",
       " array([0.5, 0.6, 0.7, 0.8, 0.9, 1. , 1.1, 1.2, 1.3, 1.4, 1.5]),\n",
       " <BarContainer object of 10 artists>)"
      ]
     },
     "execution_count": 30,
     "metadata": {},
     "output_type": "execute_result"
    },
    {
     "data": {
      "image/png": "[encoded data removed]",
      "text/plain": [
       "<Figure size 1200x700 with 1 Axes>"
      ]
     },
     "metadata": {},
     "output_type": "display_data"
    }
   ],
   "source": [
    "labelsem = []\n",
    "logliksem = []\n",
    "for i in tqdm(range(30)):\n",
    "    randlabs = np.random.binomial(1, 0.5, size=len(dataset)).astype(int)\n",
    "    randmodel = getModelEstim(randlabs, states, actions, nextstates,\n",
    "                              K, nStates, nActions, hard=True)\n",
    "    randlabs, randmodel, loglikrand = em(randlabs, randmodel,\n",
    "       states, actions, nextstates, labels, \n",
    "                        K=K, nStates=nStates, nActions=nActions,\n",
    "                        prior = priorclass, reg = 0, permute=True, permutation=permutation, checkin=1, verbose=False, hard=True)\n",
    "    labelsem.append(randlabs)\n",
    "    logliksem.append(loglikrand)\n",
    "plt.figure(figsize=(12,7))\n",
    "plt.scatter([max(np.mean(i == labels), np.mean(i != labels)) for i in labelsem], logliksem)\n",
    "print(np.mean([max(np.mean(i == labels), np.mean(i != labels)) for i in labelsem]))\n",
    "print(np.median([max(np.mean(i == labels), np.mean(i != labels)) for i in labelsem]))\n",
    "print(np.max([max(np.mean(i == labels), np.mean(i != labels)) for i in labelsem]))\n",
    "plt.xlabel('Accuracy')\n",
    "plt.ylabel('Log-likelihood')\n",
    "plt.title('Randomly Initialized Hard EM Algorithm')\n",
    "plt.show()\n",
    "plt.hist([max(np.mean(i == labels), np.mean(i != labels)) for i in labelsem])\n",
    "plt.show()"
   ]
  }
 ],
 "metadata": {
  "kernelspec": {
   "display_name": "base",
   "language": "python",
   "name": "base"
  },
  "language_info": {
   "codemirror_mode": {
    "name": "ipython",
    "version": 3
   },
   "file_extension": ".py",
   "mimetype": "text/x-python",
   "name": "python",
   "nbconvert_exporter": "python",
   "pygments_lexer": "ipython3",
   "version": "3.9.13"
  }
 },
 "nbformat": 4,
 "nbformat_minor": 5
}
